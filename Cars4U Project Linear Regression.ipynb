{
 "cells": [
  {
   "cell_type": "markdown",
   "id": "c54ebab3",
   "metadata": {},
   "source": [
    "# Cars4U Project: Linear Regression\n",
    "### By: Swaraj Tripathy"
   ]
  },
  {
   "cell_type": "markdown",
   "id": "a793b6f0",
   "metadata": {},
   "source": [
    "The goal of this analysis is to generate insights and recommendations for the pricing of used cars for Cars4U. I will also be creating a linear model to predict the price of used cars."
   ]
  },
  {
   "cell_type": "markdown",
   "id": "d429073c",
   "metadata": {},
   "source": [
    "We will look to answer the following questions: Can we accurately predict the market price of used cars in the Indian car market? What factors determine a used car's price, and how do those factors influence the price? What recommendations are there for pricing used cars that can be profitable for Cars4U?"
   ]
  },
  {
   "cell_type": "markdown",
   "id": "586d68e9",
   "metadata": {},
   "source": [
    "## Exploratory Data Analysis"
   ]
  },
  {
   "cell_type": "code",
   "execution_count": 1,
   "id": "8f93a31e",
   "metadata": {},
   "outputs": [],
   "source": [
    "# import relevant libraries\n",
    "import pandas as pd\n",
    "import numpy as np\n",
    "\n",
    "import matplotlib.pyplot as plt\n",
    "import seaborn as sns\n",
    "\n",
    "# Removes the limit from the number of displayed columns and rows.\n",
    "pd.set_option('display.max_columns', None)\n",
    "pd.set_option('display.max_rows', 200)"
   ]
  },
  {
   "cell_type": "code",
   "execution_count": 2,
   "id": "c84b7b28",
   "metadata": {},
   "outputs": [],
   "source": [
    "# load in the dataset\n",
    "data = pd.read_csv(\"used_cars_data.csv\")\n",
    "\n",
    "# create copy of the data to be manipulated\n",
    "df = data.copy()"
   ]
  },
  {
   "cell_type": "code",
   "execution_count": 3,
   "id": "d0fe7ec9",
   "metadata": {},
   "outputs": [
    {
     "data": {
      "text/html": [
       "<div>\n",
       "<style scoped>\n",
       "    .dataframe tbody tr th:only-of-type {\n",
       "        vertical-align: middle;\n",
       "    }\n",
       "\n",
       "    .dataframe tbody tr th {\n",
       "        vertical-align: top;\n",
       "    }\n",
       "\n",
       "    .dataframe thead th {\n",
       "        text-align: right;\n",
       "    }\n",
       "</style>\n",
       "<table border=\"1\" class=\"dataframe\">\n",
       "  <thead>\n",
       "    <tr style=\"text-align: right;\">\n",
       "      <th></th>\n",
       "      <th>S.No.</th>\n",
       "      <th>Name</th>\n",
       "      <th>Location</th>\n",
       "      <th>Year</th>\n",
       "      <th>Kilometers_Driven</th>\n",
       "      <th>Fuel_Type</th>\n",
       "      <th>Transmission</th>\n",
       "      <th>Owner_Type</th>\n",
       "      <th>Mileage</th>\n",
       "      <th>Engine</th>\n",
       "      <th>Power</th>\n",
       "      <th>Seats</th>\n",
       "      <th>New_Price</th>\n",
       "      <th>Price</th>\n",
       "    </tr>\n",
       "  </thead>\n",
       "  <tbody>\n",
       "    <tr>\n",
       "      <th>0</th>\n",
       "      <td>0</td>\n",
       "      <td>Maruti Wagon R LXI CNG</td>\n",
       "      <td>Mumbai</td>\n",
       "      <td>2010</td>\n",
       "      <td>72000</td>\n",
       "      <td>CNG</td>\n",
       "      <td>Manual</td>\n",
       "      <td>First</td>\n",
       "      <td>26.6 km/kg</td>\n",
       "      <td>998 CC</td>\n",
       "      <td>58.16 bhp</td>\n",
       "      <td>5.0</td>\n",
       "      <td>5.51</td>\n",
       "      <td>1.75</td>\n",
       "    </tr>\n",
       "    <tr>\n",
       "      <th>1</th>\n",
       "      <td>1</td>\n",
       "      <td>Hyundai Creta 1.6 CRDi SX Option</td>\n",
       "      <td>Pune</td>\n",
       "      <td>2015</td>\n",
       "      <td>41000</td>\n",
       "      <td>Diesel</td>\n",
       "      <td>Manual</td>\n",
       "      <td>First</td>\n",
       "      <td>19.67 kmpl</td>\n",
       "      <td>1582 CC</td>\n",
       "      <td>126.2 bhp</td>\n",
       "      <td>5.0</td>\n",
       "      <td>16.06</td>\n",
       "      <td>12.50</td>\n",
       "    </tr>\n",
       "    <tr>\n",
       "      <th>2</th>\n",
       "      <td>2</td>\n",
       "      <td>Honda Jazz V</td>\n",
       "      <td>Chennai</td>\n",
       "      <td>2011</td>\n",
       "      <td>46000</td>\n",
       "      <td>Petrol</td>\n",
       "      <td>Manual</td>\n",
       "      <td>First</td>\n",
       "      <td>18.2 kmpl</td>\n",
       "      <td>1199 CC</td>\n",
       "      <td>88.7 bhp</td>\n",
       "      <td>5.0</td>\n",
       "      <td>8.61</td>\n",
       "      <td>4.50</td>\n",
       "    </tr>\n",
       "    <tr>\n",
       "      <th>3</th>\n",
       "      <td>3</td>\n",
       "      <td>Maruti Ertiga VDI</td>\n",
       "      <td>Chennai</td>\n",
       "      <td>2012</td>\n",
       "      <td>87000</td>\n",
       "      <td>Diesel</td>\n",
       "      <td>Manual</td>\n",
       "      <td>First</td>\n",
       "      <td>20.77 kmpl</td>\n",
       "      <td>1248 CC</td>\n",
       "      <td>88.76 bhp</td>\n",
       "      <td>7.0</td>\n",
       "      <td>11.27</td>\n",
       "      <td>6.00</td>\n",
       "    </tr>\n",
       "    <tr>\n",
       "      <th>4</th>\n",
       "      <td>4</td>\n",
       "      <td>Audi A4 New 2.0 TDI Multitronic</td>\n",
       "      <td>Coimbatore</td>\n",
       "      <td>2013</td>\n",
       "      <td>40670</td>\n",
       "      <td>Diesel</td>\n",
       "      <td>Automatic</td>\n",
       "      <td>Second</td>\n",
       "      <td>15.2 kmpl</td>\n",
       "      <td>1968 CC</td>\n",
       "      <td>140.8 bhp</td>\n",
       "      <td>5.0</td>\n",
       "      <td>53.14</td>\n",
       "      <td>17.74</td>\n",
       "    </tr>\n",
       "    <tr>\n",
       "      <th>5</th>\n",
       "      <td>5</td>\n",
       "      <td>Hyundai EON LPG Era Plus Option</td>\n",
       "      <td>Hyderabad</td>\n",
       "      <td>2012</td>\n",
       "      <td>75000</td>\n",
       "      <td>LPG</td>\n",
       "      <td>Manual</td>\n",
       "      <td>First</td>\n",
       "      <td>21.1 km/kg</td>\n",
       "      <td>814 CC</td>\n",
       "      <td>55.2 bhp</td>\n",
       "      <td>5.0</td>\n",
       "      <td>10.25</td>\n",
       "      <td>2.35</td>\n",
       "    </tr>\n",
       "    <tr>\n",
       "      <th>6</th>\n",
       "      <td>6</td>\n",
       "      <td>Nissan Micra Diesel XV</td>\n",
       "      <td>Jaipur</td>\n",
       "      <td>2013</td>\n",
       "      <td>86999</td>\n",
       "      <td>Diesel</td>\n",
       "      <td>Manual</td>\n",
       "      <td>First</td>\n",
       "      <td>23.08 kmpl</td>\n",
       "      <td>1461 CC</td>\n",
       "      <td>63.1 bhp</td>\n",
       "      <td>5.0</td>\n",
       "      <td>9.47</td>\n",
       "      <td>3.50</td>\n",
       "    </tr>\n",
       "    <tr>\n",
       "      <th>7</th>\n",
       "      <td>7</td>\n",
       "      <td>Toyota Innova Crysta 2.8 GX AT 8S</td>\n",
       "      <td>Mumbai</td>\n",
       "      <td>2016</td>\n",
       "      <td>36000</td>\n",
       "      <td>Diesel</td>\n",
       "      <td>Automatic</td>\n",
       "      <td>First</td>\n",
       "      <td>11.36 kmpl</td>\n",
       "      <td>2755 CC</td>\n",
       "      <td>171.5 bhp</td>\n",
       "      <td>8.0</td>\n",
       "      <td>21.00</td>\n",
       "      <td>17.50</td>\n",
       "    </tr>\n",
       "    <tr>\n",
       "      <th>8</th>\n",
       "      <td>8</td>\n",
       "      <td>Volkswagen Vento Diesel Comfortline</td>\n",
       "      <td>Pune</td>\n",
       "      <td>2013</td>\n",
       "      <td>64430</td>\n",
       "      <td>Diesel</td>\n",
       "      <td>Manual</td>\n",
       "      <td>First</td>\n",
       "      <td>20.54 kmpl</td>\n",
       "      <td>1598 CC</td>\n",
       "      <td>103.6 bhp</td>\n",
       "      <td>5.0</td>\n",
       "      <td>13.23</td>\n",
       "      <td>5.20</td>\n",
       "    </tr>\n",
       "    <tr>\n",
       "      <th>9</th>\n",
       "      <td>9</td>\n",
       "      <td>Tata Indica Vista Quadrajet LS</td>\n",
       "      <td>Chennai</td>\n",
       "      <td>2012</td>\n",
       "      <td>65932</td>\n",
       "      <td>Diesel</td>\n",
       "      <td>Manual</td>\n",
       "      <td>Second</td>\n",
       "      <td>22.3 kmpl</td>\n",
       "      <td>1248 CC</td>\n",
       "      <td>74 bhp</td>\n",
       "      <td>5.0</td>\n",
       "      <td>7.63</td>\n",
       "      <td>1.95</td>\n",
       "    </tr>\n",
       "  </tbody>\n",
       "</table>\n",
       "</div>"
      ],
      "text/plain": [
       "   S.No.                                 Name    Location  Year  \\\n",
       "0      0               Maruti Wagon R LXI CNG      Mumbai  2010   \n",
       "1      1     Hyundai Creta 1.6 CRDi SX Option        Pune  2015   \n",
       "2      2                         Honda Jazz V     Chennai  2011   \n",
       "3      3                    Maruti Ertiga VDI     Chennai  2012   \n",
       "4      4      Audi A4 New 2.0 TDI Multitronic  Coimbatore  2013   \n",
       "5      5      Hyundai EON LPG Era Plus Option   Hyderabad  2012   \n",
       "6      6               Nissan Micra Diesel XV      Jaipur  2013   \n",
       "7      7    Toyota Innova Crysta 2.8 GX AT 8S      Mumbai  2016   \n",
       "8      8  Volkswagen Vento Diesel Comfortline        Pune  2013   \n",
       "9      9       Tata Indica Vista Quadrajet LS     Chennai  2012   \n",
       "\n",
       "   Kilometers_Driven Fuel_Type Transmission Owner_Type     Mileage   Engine  \\\n",
       "0              72000       CNG       Manual      First  26.6 km/kg   998 CC   \n",
       "1              41000    Diesel       Manual      First  19.67 kmpl  1582 CC   \n",
       "2              46000    Petrol       Manual      First   18.2 kmpl  1199 CC   \n",
       "3              87000    Diesel       Manual      First  20.77 kmpl  1248 CC   \n",
       "4              40670    Diesel    Automatic     Second   15.2 kmpl  1968 CC   \n",
       "5              75000       LPG       Manual      First  21.1 km/kg   814 CC   \n",
       "6              86999    Diesel       Manual      First  23.08 kmpl  1461 CC   \n",
       "7              36000    Diesel    Automatic      First  11.36 kmpl  2755 CC   \n",
       "8              64430    Diesel       Manual      First  20.54 kmpl  1598 CC   \n",
       "9              65932    Diesel       Manual     Second   22.3 kmpl  1248 CC   \n",
       "\n",
       "       Power  Seats  New_Price  Price  \n",
       "0  58.16 bhp    5.0       5.51   1.75  \n",
       "1  126.2 bhp    5.0      16.06  12.50  \n",
       "2   88.7 bhp    5.0       8.61   4.50  \n",
       "3  88.76 bhp    7.0      11.27   6.00  \n",
       "4  140.8 bhp    5.0      53.14  17.74  \n",
       "5   55.2 bhp    5.0      10.25   2.35  \n",
       "6   63.1 bhp    5.0       9.47   3.50  \n",
       "7  171.5 bhp    8.0      21.00  17.50  \n",
       "8  103.6 bhp    5.0      13.23   5.20  \n",
       "9     74 bhp    5.0       7.63   1.95  "
      ]
     },
     "execution_count": 3,
     "metadata": {},
     "output_type": "execute_result"
    }
   ],
   "source": [
    "# view the first 10 rows of data\n",
    "df.head(10)"
   ]
  },
  {
   "cell_type": "code",
   "execution_count": 4,
   "id": "2aa0cc70",
   "metadata": {},
   "outputs": [
    {
     "data": {
      "text/html": [
       "<div>\n",
       "<style scoped>\n",
       "    .dataframe tbody tr th:only-of-type {\n",
       "        vertical-align: middle;\n",
       "    }\n",
       "\n",
       "    .dataframe tbody tr th {\n",
       "        vertical-align: top;\n",
       "    }\n",
       "\n",
       "    .dataframe thead th {\n",
       "        text-align: right;\n",
       "    }\n",
       "</style>\n",
       "<table border=\"1\" class=\"dataframe\">\n",
       "  <thead>\n",
       "    <tr style=\"text-align: right;\">\n",
       "      <th></th>\n",
       "      <th>count</th>\n",
       "      <th>mean</th>\n",
       "      <th>std</th>\n",
       "      <th>min</th>\n",
       "      <th>25%</th>\n",
       "      <th>50%</th>\n",
       "      <th>75%</th>\n",
       "      <th>max</th>\n",
       "    </tr>\n",
       "  </thead>\n",
       "  <tbody>\n",
       "    <tr>\n",
       "      <th>S.No.</th>\n",
       "      <td>7253.0</td>\n",
       "      <td>3626.000000</td>\n",
       "      <td>2093.905084</td>\n",
       "      <td>0.00</td>\n",
       "      <td>1813.00</td>\n",
       "      <td>3626.00</td>\n",
       "      <td>5439.00</td>\n",
       "      <td>7252.0</td>\n",
       "    </tr>\n",
       "    <tr>\n",
       "      <th>Year</th>\n",
       "      <td>7253.0</td>\n",
       "      <td>2013.365366</td>\n",
       "      <td>3.254421</td>\n",
       "      <td>1996.00</td>\n",
       "      <td>2011.00</td>\n",
       "      <td>2014.00</td>\n",
       "      <td>2016.00</td>\n",
       "      <td>2019.0</td>\n",
       "    </tr>\n",
       "    <tr>\n",
       "      <th>Kilometers_Driven</th>\n",
       "      <td>7253.0</td>\n",
       "      <td>58699.063146</td>\n",
       "      <td>84427.720583</td>\n",
       "      <td>171.00</td>\n",
       "      <td>34000.00</td>\n",
       "      <td>53416.00</td>\n",
       "      <td>73000.00</td>\n",
       "      <td>6500000.0</td>\n",
       "    </tr>\n",
       "    <tr>\n",
       "      <th>Seats</th>\n",
       "      <td>7200.0</td>\n",
       "      <td>5.279722</td>\n",
       "      <td>0.811660</td>\n",
       "      <td>0.00</td>\n",
       "      <td>5.00</td>\n",
       "      <td>5.00</td>\n",
       "      <td>5.00</td>\n",
       "      <td>10.0</td>\n",
       "    </tr>\n",
       "    <tr>\n",
       "      <th>New_Price</th>\n",
       "      <td>7253.0</td>\n",
       "      <td>21.307322</td>\n",
       "      <td>24.256314</td>\n",
       "      <td>3.91</td>\n",
       "      <td>7.88</td>\n",
       "      <td>11.30</td>\n",
       "      <td>21.69</td>\n",
       "      <td>375.0</td>\n",
       "    </tr>\n",
       "    <tr>\n",
       "      <th>Price</th>\n",
       "      <td>6019.0</td>\n",
       "      <td>9.479468</td>\n",
       "      <td>11.187917</td>\n",
       "      <td>0.44</td>\n",
       "      <td>3.50</td>\n",
       "      <td>5.64</td>\n",
       "      <td>9.95</td>\n",
       "      <td>160.0</td>\n",
       "    </tr>\n",
       "  </tbody>\n",
       "</table>\n",
       "</div>"
      ],
      "text/plain": [
       "                    count          mean           std      min       25%  \\\n",
       "S.No.              7253.0   3626.000000   2093.905084     0.00   1813.00   \n",
       "Year               7253.0   2013.365366      3.254421  1996.00   2011.00   \n",
       "Kilometers_Driven  7253.0  58699.063146  84427.720583   171.00  34000.00   \n",
       "Seats              7200.0      5.279722      0.811660     0.00      5.00   \n",
       "New_Price          7253.0     21.307322     24.256314     3.91      7.88   \n",
       "Price              6019.0      9.479468     11.187917     0.44      3.50   \n",
       "\n",
       "                        50%       75%        max  \n",
       "S.No.               3626.00   5439.00     7252.0  \n",
       "Year                2014.00   2016.00     2019.0  \n",
       "Kilometers_Driven  53416.00  73000.00  6500000.0  \n",
       "Seats                  5.00      5.00       10.0  \n",
       "New_Price             11.30     21.69      375.0  \n",
       "Price                  5.64      9.95      160.0  "
      ]
     },
     "execution_count": 4,
     "metadata": {},
     "output_type": "execute_result"
    }
   ],
   "source": [
    "# statistical summary of numerical variables\n",
    "df.describe().T"
   ]
  },
  {
   "cell_type": "code",
   "execution_count": 5,
   "id": "2c75ad05",
   "metadata": {},
   "outputs": [
    {
     "data": {
      "text/plain": [
       "(7253, 14)"
      ]
     },
     "execution_count": 5,
     "metadata": {},
     "output_type": "execute_result"
    }
   ],
   "source": [
    "# shape of the dataset, rows by columns\n",
    "df.shape"
   ]
  },
  {
   "cell_type": "code",
   "execution_count": 6,
   "id": "ffe5fe90",
   "metadata": {},
   "outputs": [
    {
     "name": "stdout",
     "output_type": "stream",
     "text": [
      "<class 'pandas.core.frame.DataFrame'>\n",
      "RangeIndex: 7253 entries, 0 to 7252\n",
      "Data columns (total 14 columns):\n",
      " #   Column             Non-Null Count  Dtype  \n",
      "---  ------             --------------  -----  \n",
      " 0   S.No.              7253 non-null   int64  \n",
      " 1   Name               7253 non-null   object \n",
      " 2   Location           7253 non-null   object \n",
      " 3   Year               7253 non-null   int64  \n",
      " 4   Kilometers_Driven  7253 non-null   int64  \n",
      " 5   Fuel_Type          7253 non-null   object \n",
      " 6   Transmission       7253 non-null   object \n",
      " 7   Owner_Type         7253 non-null   object \n",
      " 8   Mileage            7251 non-null   object \n",
      " 9   Engine             7207 non-null   object \n",
      " 10  Power              7078 non-null   object \n",
      " 11  Seats              7200 non-null   float64\n",
      " 12  New_Price          7253 non-null   float64\n",
      " 13  Price              6019 non-null   float64\n",
      "dtypes: float64(3), int64(3), object(8)\n",
      "memory usage: 793.4+ KB\n"
     ]
    }
   ],
   "source": [
    "# datatypes and null counts for each column\n",
    "df.info()"
   ]
  },
  {
   "cell_type": "code",
   "execution_count": 7,
   "id": "44d3133d",
   "metadata": {},
   "outputs": [
    {
     "data": {
      "text/plain": [
       "S.No.                   0\n",
       "Name                    0\n",
       "Location                0\n",
       "Year                    0\n",
       "Kilometers_Driven       0\n",
       "Fuel_Type               0\n",
       "Transmission            0\n",
       "Owner_Type              0\n",
       "Mileage                 2\n",
       "Engine                 46\n",
       "Power                 175\n",
       "Seats                  53\n",
       "New_Price               0\n",
       "Price                1234\n",
       "dtype: int64"
      ]
     },
     "execution_count": 7,
     "metadata": {},
     "output_type": "execute_result"
    }
   ],
   "source": [
    "# number of null values in each column\n",
    "df.isnull().sum()"
   ]
  },
  {
   "cell_type": "code",
   "execution_count": 8,
   "id": "5103abe6",
   "metadata": {},
   "outputs": [
    {
     "data": {
      "text/plain": [
       "0"
      ]
     },
     "execution_count": 8,
     "metadata": {},
     "output_type": "execute_result"
    }
   ],
   "source": [
    "# number of duplicate rows\n",
    "df.duplicated().sum()"
   ]
  },
  {
   "cell_type": "code",
   "execution_count": 9,
   "id": "ff15bee3",
   "metadata": {},
   "outputs": [
    {
     "data": {
      "text/plain": [
       "S.No.                7253\n",
       "Name                 2041\n",
       "Location               11\n",
       "Year                   23\n",
       "Kilometers_Driven    3660\n",
       "Fuel_Type               5\n",
       "Transmission            2\n",
       "Owner_Type              4\n",
       "Mileage               450\n",
       "Engine                150\n",
       "Power                 385\n",
       "Seats                   9\n",
       "New_Price             643\n",
       "Price                1373\n",
       "dtype: int64"
      ]
     },
     "execution_count": 9,
     "metadata": {},
     "output_type": "execute_result"
    }
   ],
   "source": [
    "# checks number of unique values in each column\n",
    "df.nunique()"
   ]
  },
  {
   "cell_type": "markdown",
   "id": "1d13ee40",
   "metadata": {},
   "source": [
    "## Data Pre-Processing"
   ]
  },
  {
   "cell_type": "code",
   "execution_count": 10,
   "id": "8ac064bd",
   "metadata": {},
   "outputs": [],
   "source": [
    "# we first want to drop rows without the price column because that is the object of this analysis\n",
    "# if there is no price, we can not get any insights\n",
    "df = df[-df[\"Price\"].isna()]"
   ]
  },
  {
   "cell_type": "code",
   "execution_count": 11,
   "id": "bedce894",
   "metadata": {},
   "outputs": [],
   "source": [
    "# drop serial number column\n",
    "df.drop([\"S.No.\"], axis = 1, inplace = True)"
   ]
  },
  {
   "cell_type": "code",
   "execution_count": 12,
   "id": "f6d70527",
   "metadata": {},
   "outputs": [
    {
     "data": {
      "text/html": [
       "<div>\n",
       "<style scoped>\n",
       "    .dataframe tbody tr th:only-of-type {\n",
       "        vertical-align: middle;\n",
       "    }\n",
       "\n",
       "    .dataframe tbody tr th {\n",
       "        vertical-align: top;\n",
       "    }\n",
       "\n",
       "    .dataframe thead th {\n",
       "        text-align: right;\n",
       "    }\n",
       "</style>\n",
       "<table border=\"1\" class=\"dataframe\">\n",
       "  <thead>\n",
       "    <tr style=\"text-align: right;\">\n",
       "      <th></th>\n",
       "      <th>Name</th>\n",
       "      <th>Location</th>\n",
       "      <th>Year</th>\n",
       "      <th>Kilometers_Driven</th>\n",
       "      <th>Fuel_Type</th>\n",
       "      <th>Transmission</th>\n",
       "      <th>Owner_Type</th>\n",
       "      <th>Mileage</th>\n",
       "      <th>Engine</th>\n",
       "      <th>Power</th>\n",
       "      <th>Seats</th>\n",
       "      <th>New_Price</th>\n",
       "      <th>Price</th>\n",
       "      <th>Brand</th>\n",
       "    </tr>\n",
       "  </thead>\n",
       "  <tbody>\n",
       "    <tr>\n",
       "      <th>0</th>\n",
       "      <td>Maruti Wagon R LXI CNG</td>\n",
       "      <td>Mumbai</td>\n",
       "      <td>2010</td>\n",
       "      <td>72000</td>\n",
       "      <td>CNG</td>\n",
       "      <td>Manual</td>\n",
       "      <td>First</td>\n",
       "      <td>26.6 km/kg</td>\n",
       "      <td>998 CC</td>\n",
       "      <td>58.16 bhp</td>\n",
       "      <td>5.0</td>\n",
       "      <td>5.51</td>\n",
       "      <td>1.75</td>\n",
       "      <td>Maruti</td>\n",
       "    </tr>\n",
       "    <tr>\n",
       "      <th>1</th>\n",
       "      <td>Hyundai Creta 1.6 CRDi SX Option</td>\n",
       "      <td>Pune</td>\n",
       "      <td>2015</td>\n",
       "      <td>41000</td>\n",
       "      <td>Diesel</td>\n",
       "      <td>Manual</td>\n",
       "      <td>First</td>\n",
       "      <td>19.67 kmpl</td>\n",
       "      <td>1582 CC</td>\n",
       "      <td>126.2 bhp</td>\n",
       "      <td>5.0</td>\n",
       "      <td>16.06</td>\n",
       "      <td>12.50</td>\n",
       "      <td>Hyundai</td>\n",
       "    </tr>\n",
       "    <tr>\n",
       "      <th>2</th>\n",
       "      <td>Honda Jazz V</td>\n",
       "      <td>Chennai</td>\n",
       "      <td>2011</td>\n",
       "      <td>46000</td>\n",
       "      <td>Petrol</td>\n",
       "      <td>Manual</td>\n",
       "      <td>First</td>\n",
       "      <td>18.2 kmpl</td>\n",
       "      <td>1199 CC</td>\n",
       "      <td>88.7 bhp</td>\n",
       "      <td>5.0</td>\n",
       "      <td>8.61</td>\n",
       "      <td>4.50</td>\n",
       "      <td>Honda</td>\n",
       "    </tr>\n",
       "    <tr>\n",
       "      <th>3</th>\n",
       "      <td>Maruti Ertiga VDI</td>\n",
       "      <td>Chennai</td>\n",
       "      <td>2012</td>\n",
       "      <td>87000</td>\n",
       "      <td>Diesel</td>\n",
       "      <td>Manual</td>\n",
       "      <td>First</td>\n",
       "      <td>20.77 kmpl</td>\n",
       "      <td>1248 CC</td>\n",
       "      <td>88.76 bhp</td>\n",
       "      <td>7.0</td>\n",
       "      <td>11.27</td>\n",
       "      <td>6.00</td>\n",
       "      <td>Maruti</td>\n",
       "    </tr>\n",
       "    <tr>\n",
       "      <th>4</th>\n",
       "      <td>Audi A4 New 2.0 TDI Multitronic</td>\n",
       "      <td>Coimbatore</td>\n",
       "      <td>2013</td>\n",
       "      <td>40670</td>\n",
       "      <td>Diesel</td>\n",
       "      <td>Automatic</td>\n",
       "      <td>Second</td>\n",
       "      <td>15.2 kmpl</td>\n",
       "      <td>1968 CC</td>\n",
       "      <td>140.8 bhp</td>\n",
       "      <td>5.0</td>\n",
       "      <td>53.14</td>\n",
       "      <td>17.74</td>\n",
       "      <td>Audi</td>\n",
       "    </tr>\n",
       "  </tbody>\n",
       "</table>\n",
       "</div>"
      ],
      "text/plain": [
       "                               Name    Location  Year  Kilometers_Driven  \\\n",
       "0            Maruti Wagon R LXI CNG      Mumbai  2010              72000   \n",
       "1  Hyundai Creta 1.6 CRDi SX Option        Pune  2015              41000   \n",
       "2                      Honda Jazz V     Chennai  2011              46000   \n",
       "3                 Maruti Ertiga VDI     Chennai  2012              87000   \n",
       "4   Audi A4 New 2.0 TDI Multitronic  Coimbatore  2013              40670   \n",
       "\n",
       "  Fuel_Type Transmission Owner_Type     Mileage   Engine      Power  Seats  \\\n",
       "0       CNG       Manual      First  26.6 km/kg   998 CC  58.16 bhp    5.0   \n",
       "1    Diesel       Manual      First  19.67 kmpl  1582 CC  126.2 bhp    5.0   \n",
       "2    Petrol       Manual      First   18.2 kmpl  1199 CC   88.7 bhp    5.0   \n",
       "3    Diesel       Manual      First  20.77 kmpl  1248 CC  88.76 bhp    7.0   \n",
       "4    Diesel    Automatic     Second   15.2 kmpl  1968 CC  140.8 bhp    5.0   \n",
       "\n",
       "   New_Price  Price    Brand  \n",
       "0       5.51   1.75   Maruti  \n",
       "1      16.06  12.50  Hyundai  \n",
       "2       8.61   4.50    Honda  \n",
       "3      11.27   6.00   Maruti  \n",
       "4      53.14  17.74     Audi  "
      ]
     },
     "execution_count": 12,
     "metadata": {},
     "output_type": "execute_result"
    }
   ],
   "source": [
    "# adding column for just brand name from Name\n",
    "brand = df[\"Name\"].str.split(\" \", n = 1, expand = True) \n",
    "brand.head()\n",
    "\n",
    "df[\"Brand\"] = brand[0]\n",
    "df.head()"
   ]
  },
  {
   "cell_type": "code",
   "execution_count": 13,
   "id": "38f43a5a",
   "metadata": {},
   "outputs": [
    {
     "data": {
      "text/plain": [
       "array(['Maruti', 'Hyundai', 'Honda', 'Audi', 'Nissan', 'Toyota',\n",
       "       'Volkswagen', 'Tata', 'Land', 'Mitsubishi', 'Renault',\n",
       "       'Mercedes-Benz', 'BMW', 'Mahindra', 'Ford', 'Porsche', 'Datsun',\n",
       "       'Jaguar', 'Volvo', 'Chevrolet', 'Skoda', 'Mini', 'Fiat', 'Jeep',\n",
       "       'Smart', 'Ambassador', 'Isuzu', 'ISUZU', 'Force', 'Bentley',\n",
       "       'Lamborghini'], dtype=object)"
      ]
     },
     "execution_count": 13,
     "metadata": {},
     "output_type": "execute_result"
    }
   ],
   "source": [
    "# check if the brands were created correctly\n",
    "df[\"Brand\"].unique()"
   ]
  },
  {
   "cell_type": "code",
   "execution_count": 14,
   "id": "8397857f",
   "metadata": {},
   "outputs": [],
   "source": [
    "# correct the brands that need fixing\n",
    "df[\"Brand\"].replace(\"Land\", \"Land Rover\", inplace = True)\n",
    "df[\"Brand\"].replace(\"ISUZU\", \"Isuzu\", inplace = True)"
   ]
  },
  {
   "cell_type": "code",
   "execution_count": 15,
   "id": "cca661cc",
   "metadata": {},
   "outputs": [],
   "source": [
    "# drop name column now that we have brand\n",
    "df.drop([\"Name\"], axis = 1, inplace = True)"
   ]
  },
  {
   "cell_type": "code",
   "execution_count": 16,
   "id": "552d44e9",
   "metadata": {},
   "outputs": [
    {
     "name": "stdout",
     "output_type": "stream",
     "text": [
      "['km/kg' 'kmpl' nan]\n",
      "['CC' nan]\n",
      "['bhp' nan]\n"
     ]
    }
   ],
   "source": [
    "# check the units on mileage, engine, and power columns\n",
    "mileage_units = df[\"Mileage\"].str.split(\" \", n = 1, expand = True)\n",
    "print(mileage_units[1].unique())\n",
    "\n",
    "engine_units = df[\"Engine\"].str.split(\" \", n = 1, expand = True)\n",
    "print(engine_units[1].unique())\n",
    "\n",
    "power_units = df[\"Power\"].str.split(\" \", n = 1, expand = True)\n",
    "print(power_units[1].unique())"
   ]
  },
  {
   "cell_type": "code",
   "execution_count": 17,
   "id": "7ba3870f",
   "metadata": {},
   "outputs": [],
   "source": [
    "def mileage_to_kmpl(mileage):\n",
    "    \"\"\"\n",
    "    This function takes in a string representing a mileage in km/kg\n",
    "    or kmpl and converts it to kmpl. If the input is already numeric, \n",
    "    which probably means it's NaN, this function just returns np.nan.\n",
    "    \"\"\"\n",
    "    \n",
    "    if isinstance(mileage, str):  # checks if `mileage` is a string\n",
    "        if mileage.endswith('km/kg'):\n",
    "            mileage = mileage[:-6]\n",
    "            return float(mileage) * 1.40\n",
    "        elif mileage.endswith('kmpl'):\n",
    "            return float(mileage[:-5])\n",
    "    else:  # this happens when the current mileage is np.nan\n",
    "        return np.nan"
   ]
  },
  {
   "cell_type": "code",
   "execution_count": 18,
   "id": "c7634503",
   "metadata": {},
   "outputs": [],
   "source": [
    "# replaces the mileage column with all kmpl units\n",
    "df[\"Mileage\"] = df[\"Mileage\"].apply(mileage_to_kmpl)"
   ]
  },
  {
   "cell_type": "code",
   "execution_count": 19,
   "id": "a9695c65",
   "metadata": {},
   "outputs": [],
   "source": [
    "# drops the CC from engine displacement volume\n",
    "df[\"Engine\"] = engine_units[0]"
   ]
  },
  {
   "cell_type": "code",
   "execution_count": 20,
   "id": "912a6648",
   "metadata": {},
   "outputs": [],
   "source": [
    "# drops the bhp from engine displacement volume\n",
    "df[\"Power\"] = power_units[0]"
   ]
  },
  {
   "cell_type": "code",
   "execution_count": 21,
   "id": "3a41145e",
   "metadata": {},
   "outputs": [],
   "source": [
    "# converts new_price in INR Lakhs to just INR\n",
    "df[\"New_Price\"] = df[\"New_Price\"] * 100000"
   ]
  },
  {
   "cell_type": "code",
   "execution_count": 22,
   "id": "0f5d8f65",
   "metadata": {},
   "outputs": [],
   "source": [
    "# converts price in INR Lakhs to just INR\n",
    "df[\"Price\"] = df[\"Price\"] * 100000"
   ]
  },
  {
   "cell_type": "code",
   "execution_count": 23,
   "id": "c2d07108",
   "metadata": {},
   "outputs": [],
   "source": [
    "# change engine data type to numeric\n",
    "df[\"Engine\"] = pd.to_numeric(df[\"Engine\"])"
   ]
  },
  {
   "cell_type": "code",
   "execution_count": 24,
   "id": "2be87629",
   "metadata": {},
   "outputs": [],
   "source": [
    "# change engine data type to numeric\n",
    "df[\"Power\"] = pd.to_numeric(df[\"Power\"])"
   ]
  },
  {
   "cell_type": "code",
   "execution_count": 25,
   "id": "4fbb8f95",
   "metadata": {},
   "outputs": [
    {
     "data": {
      "text/plain": [
       "Location               0\n",
       "Year                   0\n",
       "Kilometers_Driven      0\n",
       "Fuel_Type              0\n",
       "Transmission           0\n",
       "Owner_Type             0\n",
       "Mileage                2\n",
       "Engine                36\n",
       "Power                143\n",
       "Seats                 42\n",
       "New_Price              0\n",
       "Price                  0\n",
       "Brand                  0\n",
       "dtype: int64"
      ]
     },
     "execution_count": 25,
     "metadata": {},
     "output_type": "execute_result"
    }
   ],
   "source": [
    "# check missing values now\n",
    "df.isnull().sum()"
   ]
  },
  {
   "cell_type": "code",
   "execution_count": 26,
   "id": "9a34729e",
   "metadata": {},
   "outputs": [],
   "source": [
    "# impute the central tendency values for missing rows\n",
    "# impute mean mileage into missing rows\n",
    "df[\"Mileage\"].fillna(df[\"Mileage\"].mean(), inplace = True)\n",
    "\n",
    "# impute mean engine displacement into missing rows\n",
    "df[\"Engine\"].fillna(df[\"Engine\"].mean(), inplace = True)\n",
    "\n",
    "# impute mean engine power into missing rows\n",
    "df[\"Power\"].fillna(df[\"Power\"].mean(), inplace = True)"
   ]
  },
  {
   "cell_type": "code",
   "execution_count": 27,
   "id": "ae459c37",
   "metadata": {},
   "outputs": [],
   "source": [
    "# dropping the missing seats rows (could impute but a little complicated)\n",
    "df.drop(df[df[\"Seats\"].isna()].index, axis = 0, inplace = True)"
   ]
  },
  {
   "cell_type": "code",
   "execution_count": 28,
   "id": "2ff09a29",
   "metadata": {},
   "outputs": [
    {
     "data": {
      "text/plain": [
       "Location             0\n",
       "Year                 0\n",
       "Kilometers_Driven    0\n",
       "Fuel_Type            0\n",
       "Transmission         0\n",
       "Owner_Type           0\n",
       "Mileage              0\n",
       "Engine               0\n",
       "Power                0\n",
       "Seats                0\n",
       "New_Price            0\n",
       "Price                0\n",
       "Brand                0\n",
       "dtype: int64"
      ]
     },
     "execution_count": 28,
     "metadata": {},
     "output_type": "execute_result"
    }
   ],
   "source": [
    "# check missing values now\n",
    "df.isnull().sum()"
   ]
  },
  {
   "cell_type": "code",
   "execution_count": 29,
   "id": "00051ce0",
   "metadata": {},
   "outputs": [
    {
     "data": {
      "text/html": [
       "<div>\n",
       "<style scoped>\n",
       "    .dataframe tbody tr th:only-of-type {\n",
       "        vertical-align: middle;\n",
       "    }\n",
       "\n",
       "    .dataframe tbody tr th {\n",
       "        vertical-align: top;\n",
       "    }\n",
       "\n",
       "    .dataframe thead th {\n",
       "        text-align: right;\n",
       "    }\n",
       "</style>\n",
       "<table border=\"1\" class=\"dataframe\">\n",
       "  <thead>\n",
       "    <tr style=\"text-align: right;\">\n",
       "      <th></th>\n",
       "      <th>Location</th>\n",
       "      <th>Year</th>\n",
       "      <th>Kilometers_Driven</th>\n",
       "      <th>Fuel_Type</th>\n",
       "      <th>Transmission</th>\n",
       "      <th>Owner_Type</th>\n",
       "      <th>Mileage</th>\n",
       "      <th>Engine</th>\n",
       "      <th>Power</th>\n",
       "      <th>Seats</th>\n",
       "      <th>New_Price</th>\n",
       "      <th>Price</th>\n",
       "      <th>Brand</th>\n",
       "    </tr>\n",
       "  </thead>\n",
       "  <tbody>\n",
       "    <tr>\n",
       "      <th>0</th>\n",
       "      <td>Mumbai</td>\n",
       "      <td>2010</td>\n",
       "      <td>72000</td>\n",
       "      <td>CNG</td>\n",
       "      <td>Manual</td>\n",
       "      <td>First</td>\n",
       "      <td>37.24</td>\n",
       "      <td>998.0</td>\n",
       "      <td>58.16</td>\n",
       "      <td>5.0</td>\n",
       "      <td>551000.0</td>\n",
       "      <td>175000.0</td>\n",
       "      <td>Maruti</td>\n",
       "    </tr>\n",
       "    <tr>\n",
       "      <th>1</th>\n",
       "      <td>Pune</td>\n",
       "      <td>2015</td>\n",
       "      <td>41000</td>\n",
       "      <td>Diesel</td>\n",
       "      <td>Manual</td>\n",
       "      <td>First</td>\n",
       "      <td>19.67</td>\n",
       "      <td>1582.0</td>\n",
       "      <td>126.20</td>\n",
       "      <td>5.0</td>\n",
       "      <td>1606000.0</td>\n",
       "      <td>1250000.0</td>\n",
       "      <td>Hyundai</td>\n",
       "    </tr>\n",
       "    <tr>\n",
       "      <th>2</th>\n",
       "      <td>Chennai</td>\n",
       "      <td>2011</td>\n",
       "      <td>46000</td>\n",
       "      <td>Petrol</td>\n",
       "      <td>Manual</td>\n",
       "      <td>First</td>\n",
       "      <td>18.20</td>\n",
       "      <td>1199.0</td>\n",
       "      <td>88.70</td>\n",
       "      <td>5.0</td>\n",
       "      <td>861000.0</td>\n",
       "      <td>450000.0</td>\n",
       "      <td>Honda</td>\n",
       "    </tr>\n",
       "    <tr>\n",
       "      <th>3</th>\n",
       "      <td>Chennai</td>\n",
       "      <td>2012</td>\n",
       "      <td>87000</td>\n",
       "      <td>Diesel</td>\n",
       "      <td>Manual</td>\n",
       "      <td>First</td>\n",
       "      <td>20.77</td>\n",
       "      <td>1248.0</td>\n",
       "      <td>88.76</td>\n",
       "      <td>7.0</td>\n",
       "      <td>1127000.0</td>\n",
       "      <td>600000.0</td>\n",
       "      <td>Maruti</td>\n",
       "    </tr>\n",
       "    <tr>\n",
       "      <th>4</th>\n",
       "      <td>Coimbatore</td>\n",
       "      <td>2013</td>\n",
       "      <td>40670</td>\n",
       "      <td>Diesel</td>\n",
       "      <td>Automatic</td>\n",
       "      <td>Second</td>\n",
       "      <td>15.20</td>\n",
       "      <td>1968.0</td>\n",
       "      <td>140.80</td>\n",
       "      <td>5.0</td>\n",
       "      <td>5314000.0</td>\n",
       "      <td>1774000.0</td>\n",
       "      <td>Audi</td>\n",
       "    </tr>\n",
       "    <tr>\n",
       "      <th>5</th>\n",
       "      <td>Hyderabad</td>\n",
       "      <td>2012</td>\n",
       "      <td>75000</td>\n",
       "      <td>LPG</td>\n",
       "      <td>Manual</td>\n",
       "      <td>First</td>\n",
       "      <td>29.54</td>\n",
       "      <td>814.0</td>\n",
       "      <td>55.20</td>\n",
       "      <td>5.0</td>\n",
       "      <td>1025000.0</td>\n",
       "      <td>235000.0</td>\n",
       "      <td>Hyundai</td>\n",
       "    </tr>\n",
       "    <tr>\n",
       "      <th>6</th>\n",
       "      <td>Jaipur</td>\n",
       "      <td>2013</td>\n",
       "      <td>86999</td>\n",
       "      <td>Diesel</td>\n",
       "      <td>Manual</td>\n",
       "      <td>First</td>\n",
       "      <td>23.08</td>\n",
       "      <td>1461.0</td>\n",
       "      <td>63.10</td>\n",
       "      <td>5.0</td>\n",
       "      <td>947000.0</td>\n",
       "      <td>350000.0</td>\n",
       "      <td>Nissan</td>\n",
       "    </tr>\n",
       "    <tr>\n",
       "      <th>7</th>\n",
       "      <td>Mumbai</td>\n",
       "      <td>2016</td>\n",
       "      <td>36000</td>\n",
       "      <td>Diesel</td>\n",
       "      <td>Automatic</td>\n",
       "      <td>First</td>\n",
       "      <td>11.36</td>\n",
       "      <td>2755.0</td>\n",
       "      <td>171.50</td>\n",
       "      <td>8.0</td>\n",
       "      <td>2100000.0</td>\n",
       "      <td>1750000.0</td>\n",
       "      <td>Toyota</td>\n",
       "    </tr>\n",
       "    <tr>\n",
       "      <th>8</th>\n",
       "      <td>Pune</td>\n",
       "      <td>2013</td>\n",
       "      <td>64430</td>\n",
       "      <td>Diesel</td>\n",
       "      <td>Manual</td>\n",
       "      <td>First</td>\n",
       "      <td>20.54</td>\n",
       "      <td>1598.0</td>\n",
       "      <td>103.60</td>\n",
       "      <td>5.0</td>\n",
       "      <td>1323000.0</td>\n",
       "      <td>520000.0</td>\n",
       "      <td>Volkswagen</td>\n",
       "    </tr>\n",
       "    <tr>\n",
       "      <th>9</th>\n",
       "      <td>Chennai</td>\n",
       "      <td>2012</td>\n",
       "      <td>65932</td>\n",
       "      <td>Diesel</td>\n",
       "      <td>Manual</td>\n",
       "      <td>Second</td>\n",
       "      <td>22.30</td>\n",
       "      <td>1248.0</td>\n",
       "      <td>74.00</td>\n",
       "      <td>5.0</td>\n",
       "      <td>763000.0</td>\n",
       "      <td>195000.0</td>\n",
       "      <td>Tata</td>\n",
       "    </tr>\n",
       "    <tr>\n",
       "      <th>10</th>\n",
       "      <td>Kochi</td>\n",
       "      <td>2018</td>\n",
       "      <td>25692</td>\n",
       "      <td>Petrol</td>\n",
       "      <td>Manual</td>\n",
       "      <td>First</td>\n",
       "      <td>21.56</td>\n",
       "      <td>1462.0</td>\n",
       "      <td>103.25</td>\n",
       "      <td>5.0</td>\n",
       "      <td>1065000.0</td>\n",
       "      <td>995000.0</td>\n",
       "      <td>Maruti</td>\n",
       "    </tr>\n",
       "    <tr>\n",
       "      <th>11</th>\n",
       "      <td>Kolkata</td>\n",
       "      <td>2012</td>\n",
       "      <td>60000</td>\n",
       "      <td>Petrol</td>\n",
       "      <td>Automatic</td>\n",
       "      <td>First</td>\n",
       "      <td>16.80</td>\n",
       "      <td>1497.0</td>\n",
       "      <td>116.30</td>\n",
       "      <td>5.0</td>\n",
       "      <td>1358000.0</td>\n",
       "      <td>449000.0</td>\n",
       "      <td>Honda</td>\n",
       "    </tr>\n",
       "    <tr>\n",
       "      <th>12</th>\n",
       "      <td>Jaipur</td>\n",
       "      <td>2015</td>\n",
       "      <td>64424</td>\n",
       "      <td>Diesel</td>\n",
       "      <td>Manual</td>\n",
       "      <td>First</td>\n",
       "      <td>25.20</td>\n",
       "      <td>1248.0</td>\n",
       "      <td>74.00</td>\n",
       "      <td>5.0</td>\n",
       "      <td>788000.0</td>\n",
       "      <td>560000.0</td>\n",
       "      <td>Maruti</td>\n",
       "    </tr>\n",
       "    <tr>\n",
       "      <th>13</th>\n",
       "      <td>Delhi</td>\n",
       "      <td>2014</td>\n",
       "      <td>72000</td>\n",
       "      <td>Diesel</td>\n",
       "      <td>Automatic</td>\n",
       "      <td>First</td>\n",
       "      <td>12.70</td>\n",
       "      <td>2179.0</td>\n",
       "      <td>187.70</td>\n",
       "      <td>5.0</td>\n",
       "      <td>12000000.0</td>\n",
       "      <td>2700000.0</td>\n",
       "      <td>Land Rover</td>\n",
       "    </tr>\n",
       "    <tr>\n",
       "      <th>14</th>\n",
       "      <td>Pune</td>\n",
       "      <td>2012</td>\n",
       "      <td>85000</td>\n",
       "      <td>Diesel</td>\n",
       "      <td>Automatic</td>\n",
       "      <td>Second</td>\n",
       "      <td>0.00</td>\n",
       "      <td>2179.0</td>\n",
       "      <td>115.00</td>\n",
       "      <td>5.0</td>\n",
       "      <td>12000000.0</td>\n",
       "      <td>1750000.0</td>\n",
       "      <td>Land Rover</td>\n",
       "    </tr>\n",
       "    <tr>\n",
       "      <th>15</th>\n",
       "      <td>Delhi</td>\n",
       "      <td>2014</td>\n",
       "      <td>110000</td>\n",
       "      <td>Diesel</td>\n",
       "      <td>Manual</td>\n",
       "      <td>First</td>\n",
       "      <td>13.50</td>\n",
       "      <td>2477.0</td>\n",
       "      <td>175.56</td>\n",
       "      <td>7.0</td>\n",
       "      <td>3201000.0</td>\n",
       "      <td>1500000.0</td>\n",
       "      <td>Mitsubishi</td>\n",
       "    </tr>\n",
       "    <tr>\n",
       "      <th>16</th>\n",
       "      <td>Kochi</td>\n",
       "      <td>2016</td>\n",
       "      <td>58950</td>\n",
       "      <td>Diesel</td>\n",
       "      <td>Manual</td>\n",
       "      <td>First</td>\n",
       "      <td>25.80</td>\n",
       "      <td>1498.0</td>\n",
       "      <td>98.60</td>\n",
       "      <td>5.0</td>\n",
       "      <td>854000.0</td>\n",
       "      <td>540000.0</td>\n",
       "      <td>Honda</td>\n",
       "    </tr>\n",
       "    <tr>\n",
       "      <th>17</th>\n",
       "      <td>Jaipur</td>\n",
       "      <td>2017</td>\n",
       "      <td>25000</td>\n",
       "      <td>Diesel</td>\n",
       "      <td>Manual</td>\n",
       "      <td>First</td>\n",
       "      <td>28.40</td>\n",
       "      <td>1248.0</td>\n",
       "      <td>74.00</td>\n",
       "      <td>5.0</td>\n",
       "      <td>788000.0</td>\n",
       "      <td>599000.0</td>\n",
       "      <td>Maruti</td>\n",
       "    </tr>\n",
       "    <tr>\n",
       "      <th>18</th>\n",
       "      <td>Kochi</td>\n",
       "      <td>2014</td>\n",
       "      <td>77469</td>\n",
       "      <td>Diesel</td>\n",
       "      <td>Manual</td>\n",
       "      <td>First</td>\n",
       "      <td>20.45</td>\n",
       "      <td>1461.0</td>\n",
       "      <td>83.80</td>\n",
       "      <td>5.0</td>\n",
       "      <td>1505000.0</td>\n",
       "      <td>634000.0</td>\n",
       "      <td>Renault</td>\n",
       "    </tr>\n",
       "    <tr>\n",
       "      <th>19</th>\n",
       "      <td>Bangalore</td>\n",
       "      <td>2014</td>\n",
       "      <td>78500</td>\n",
       "      <td>Diesel</td>\n",
       "      <td>Automatic</td>\n",
       "      <td>First</td>\n",
       "      <td>14.84</td>\n",
       "      <td>2143.0</td>\n",
       "      <td>167.62</td>\n",
       "      <td>5.0</td>\n",
       "      <td>4949000.0</td>\n",
       "      <td>2800000.0</td>\n",
       "      <td>Mercedes-Benz</td>\n",
       "    </tr>\n",
       "  </tbody>\n",
       "</table>\n",
       "</div>"
      ],
      "text/plain": [
       "      Location  Year  Kilometers_Driven Fuel_Type Transmission Owner_Type  \\\n",
       "0       Mumbai  2010              72000       CNG       Manual      First   \n",
       "1         Pune  2015              41000    Diesel       Manual      First   \n",
       "2      Chennai  2011              46000    Petrol       Manual      First   \n",
       "3      Chennai  2012              87000    Diesel       Manual      First   \n",
       "4   Coimbatore  2013              40670    Diesel    Automatic     Second   \n",
       "5    Hyderabad  2012              75000       LPG       Manual      First   \n",
       "6       Jaipur  2013              86999    Diesel       Manual      First   \n",
       "7       Mumbai  2016              36000    Diesel    Automatic      First   \n",
       "8         Pune  2013              64430    Diesel       Manual      First   \n",
       "9      Chennai  2012              65932    Diesel       Manual     Second   \n",
       "10       Kochi  2018              25692    Petrol       Manual      First   \n",
       "11     Kolkata  2012              60000    Petrol    Automatic      First   \n",
       "12      Jaipur  2015              64424    Diesel       Manual      First   \n",
       "13       Delhi  2014              72000    Diesel    Automatic      First   \n",
       "14        Pune  2012              85000    Diesel    Automatic     Second   \n",
       "15       Delhi  2014             110000    Diesel       Manual      First   \n",
       "16       Kochi  2016              58950    Diesel       Manual      First   \n",
       "17      Jaipur  2017              25000    Diesel       Manual      First   \n",
       "18       Kochi  2014              77469    Diesel       Manual      First   \n",
       "19   Bangalore  2014              78500    Diesel    Automatic      First   \n",
       "\n",
       "    Mileage  Engine   Power  Seats   New_Price      Price          Brand  \n",
       "0     37.24   998.0   58.16    5.0    551000.0   175000.0         Maruti  \n",
       "1     19.67  1582.0  126.20    5.0   1606000.0  1250000.0        Hyundai  \n",
       "2     18.20  1199.0   88.70    5.0    861000.0   450000.0          Honda  \n",
       "3     20.77  1248.0   88.76    7.0   1127000.0   600000.0         Maruti  \n",
       "4     15.20  1968.0  140.80    5.0   5314000.0  1774000.0           Audi  \n",
       "5     29.54   814.0   55.20    5.0   1025000.0   235000.0        Hyundai  \n",
       "6     23.08  1461.0   63.10    5.0    947000.0   350000.0         Nissan  \n",
       "7     11.36  2755.0  171.50    8.0   2100000.0  1750000.0         Toyota  \n",
       "8     20.54  1598.0  103.60    5.0   1323000.0   520000.0     Volkswagen  \n",
       "9     22.30  1248.0   74.00    5.0    763000.0   195000.0           Tata  \n",
       "10    21.56  1462.0  103.25    5.0   1065000.0   995000.0         Maruti  \n",
       "11    16.80  1497.0  116.30    5.0   1358000.0   449000.0          Honda  \n",
       "12    25.20  1248.0   74.00    5.0    788000.0   560000.0         Maruti  \n",
       "13    12.70  2179.0  187.70    5.0  12000000.0  2700000.0     Land Rover  \n",
       "14     0.00  2179.0  115.00    5.0  12000000.0  1750000.0     Land Rover  \n",
       "15    13.50  2477.0  175.56    7.0   3201000.0  1500000.0     Mitsubishi  \n",
       "16    25.80  1498.0   98.60    5.0    854000.0   540000.0          Honda  \n",
       "17    28.40  1248.0   74.00    5.0    788000.0   599000.0         Maruti  \n",
       "18    20.45  1461.0   83.80    5.0   1505000.0   634000.0        Renault  \n",
       "19    14.84  2143.0  167.62    5.0   4949000.0  2800000.0  Mercedes-Benz  "
      ]
     },
     "execution_count": 29,
     "metadata": {},
     "output_type": "execute_result"
    }
   ],
   "source": [
    "# make sure the processing was done the way we want\n",
    "df.head(20)"
   ]
  },
  {
   "cell_type": "markdown",
   "id": "8240a7c7",
   "metadata": {},
   "source": [
    "## Data Visualization\n",
    "### Univariate Analysis"
   ]
  },
  {
   "cell_type": "code",
   "execution_count": 30,
   "id": "7492ee95",
   "metadata": {},
   "outputs": [
    {
     "data": {
      "image/png": "[encoded data removed]",
      "text/plain": [
       "<Figure size 432x288 with 1 Axes>"
      ]
     },
     "metadata": {
      "needs_background": "light"
     },
     "output_type": "display_data"
    }
   ],
   "source": [
    "plt.title(\"Location Frequency\")\n",
    "plt.xticks(rotation = 90)\n",
    "sns.countplot(data = df, x = \"Location\");"
   ]
  },
  {
   "cell_type": "code",
   "execution_count": 31,
   "id": "505a9639",
   "metadata": {},
   "outputs": [
    {
     "data": {
      "image/png": "[encoded data removed]",
      "text/plain": [
       "<Figure size 432x288 with 1 Axes>"
      ]
     },
     "metadata": {
      "needs_background": "light"
     },
     "output_type": "display_data"
    }
   ],
   "source": [
    "plt.title(\"Year Manufactured Frequency\")\n",
    "plt.xticks(rotation = 90)\n",
    "sns.countplot(data = df, x = \"Year\");"
   ]
  },
  {
   "cell_type": "code",
   "execution_count": 32,
   "id": "5c22f8c0",
   "metadata": {},
   "outputs": [
    {
     "data": {
      "image/png": "[encoded data removed]",
      "text/plain": [
       "<Figure size 432x288 with 1 Axes>"
      ]
     },
     "metadata": {
      "needs_background": "light"
     },
     "output_type": "display_data"
    }
   ],
   "source": [
    "plt.title(\"Fuel Type Frequency\")\n",
    "sns.countplot(data = df, x = \"Fuel_Type\");"
   ]
  },
  {
   "cell_type": "code",
   "execution_count": 33,
   "id": "f1ecbeb6",
   "metadata": {},
   "outputs": [
    {
     "data": {
      "image/png": "[encoded data removed]",
      "text/plain": [
       "<Figure size 432x288 with 1 Axes>"
      ]
     },
     "metadata": {
      "needs_background": "light"
     },
     "output_type": "display_data"
    }
   ],
   "source": [
    "plt.title(\"Transmission Frequency\")\n",
    "sns.countplot(data = df, x = \"Transmission\");"
   ]
  },
  {
   "cell_type": "code",
   "execution_count": 34,
   "id": "3520ec53",
   "metadata": {},
   "outputs": [
    {
     "data": {
      "image/png": "[encoded data removed]",
      "text/plain": [
       "<Figure size 432x288 with 1 Axes>"
      ]
     },
     "metadata": {
      "needs_background": "light"
     },
     "output_type": "display_data"
    }
   ],
   "source": [
    "plt.title(\"Owner Type Frequency\")\n",
    "plt.xticks(rotation = 90)\n",
    "sns.countplot(data = df, x = \"Owner_Type\", order = [\"First\", \"Second\", \"Third\", \"Fourth & Above\"]);"
   ]
  },
  {
   "cell_type": "code",
   "execution_count": 35,
   "id": "cfa4f447",
   "metadata": {},
   "outputs": [
    {
     "data": {
      "image/png": "[encoded data removed]",
      "text/plain": [
       "<Figure size 432x288 with 1 Axes>"
      ]
     },
     "metadata": {
      "needs_background": "light"
     },
     "output_type": "display_data"
    }
   ],
   "source": [
    "plt.title(\"Number of Seats Frequency\")\n",
    "sns.countplot(data = df, x = \"Seats\");"
   ]
  },
  {
   "cell_type": "code",
   "execution_count": 36,
   "id": "9ad2fa84",
   "metadata": {},
   "outputs": [
    {
     "data": {
      "image/png": "[encoded data removed]",
      "text/plain": [
       "<Figure size 864x576 with 1 Axes>"
      ]
     },
     "metadata": {
      "needs_background": "light"
     },
     "output_type": "display_data"
    }
   ],
   "source": [
    "plt.figure(figsize = (12,8))\n",
    "plt.title(\"Brand Frequency\")\n",
    "plt.xticks(rotation = 90)\n",
    "sns.countplot(data = df, x = \"Brand\");"
   ]
  },
  {
   "cell_type": "code",
   "execution_count": 37,
   "id": "34d7d1af",
   "metadata": {},
   "outputs": [
    {
     "data": {
      "image/png": "[encoded data removed]",
      "text/plain": [
       "<Figure size 432x288 with 1 Axes>"
      ]
     },
     "metadata": {
      "needs_background": "light"
     },
     "output_type": "display_data"
    }
   ],
   "source": [
    "plt.title(\"Kilometers Driven Distribution\")\n",
    "sns.boxplot(data = df, x = \"Kilometers_Driven\", showfliers = True);"
   ]
  },
  {
   "cell_type": "code",
   "execution_count": 38,
   "id": "deed23cf",
   "metadata": {},
   "outputs": [
    {
     "data": {
      "image/png": "[encoded data removed]",
      "text/plain": [
       "<Figure size 432x288 with 1 Axes>"
      ]
     },
     "metadata": {
      "needs_background": "light"
     },
     "output_type": "display_data"
    }
   ],
   "source": [
    "plt.title(\"Mileage Distribution\")\n",
    "sns.boxplot(data = df, x = \"Mileage\", showfliers = True, color = \"Red\");"
   ]
  },
  {
   "cell_type": "code",
   "execution_count": 39,
   "id": "2954a8f5",
   "metadata": {},
   "outputs": [
    {
     "data": {
      "image/png": "[encoded data removed]",
      "text/plain": [
       "<Figure size 432x288 with 1 Axes>"
      ]
     },
     "metadata": {
      "needs_background": "light"
     },
     "output_type": "display_data"
    }
   ],
   "source": [
    "plt.title(\"Engine Displacement Distribution\")\n",
    "sns.boxplot(data = df, x = \"Engine\", showfliers = True, color = \"lightblue\");"
   ]
  },
  {
   "cell_type": "code",
   "execution_count": 40,
   "id": "451240f1",
   "metadata": {},
   "outputs": [
    {
     "data": {
      "image/png": "[encoded data removed]",
      "text/plain": [
       "<Figure size 432x288 with 1 Axes>"
      ]
     },
     "metadata": {
      "needs_background": "light"
     },
     "output_type": "display_data"
    }
   ],
   "source": [
    "plt.title(\"Power Distribution\")\n",
    "sns.boxplot(data = df, x = \"Power\", showfliers = True, color = \"lightgreen\");"
   ]
  },
  {
   "cell_type": "code",
   "execution_count": 41,
   "id": "b4af353c",
   "metadata": {},
   "outputs": [
    {
     "data": {
      "image/png": "[encoded data removed]",
      "text/plain": [
       "<Figure size 432x288 with 1 Axes>"
      ]
     },
     "metadata": {
      "needs_background": "light"
     },
     "output_type": "display_data"
    }
   ],
   "source": [
    "plt.title(\"New Car Price Distribution\")\n",
    "sns.boxplot(data = df, x = \"New_Price\", showfliers = True, color = \"yellow\");"
   ]
  },
  {
   "cell_type": "code",
   "execution_count": 42,
   "id": "803736e4",
   "metadata": {},
   "outputs": [
    {
     "data": {
      "image/png": "[encoded data removed]",
      "text/plain": [
       "<Figure size 432x288 with 1 Axes>"
      ]
     },
     "metadata": {
      "needs_background": "light"
     },
     "output_type": "display_data"
    }
   ],
   "source": [
    "plt.title(\"Used Car Price Distribution\")\n",
    "sns.boxplot(data = df, x = \"Price\", showfliers = True, color = \"pink\");"
   ]
  },
  {
   "cell_type": "markdown",
   "id": "638670cf",
   "metadata": {},
   "source": [
    "Insights:\n",
    "- The cars are from many different locations, but most from Mumbai\n",
    "- Most cars were manufactured recently from 2010 onwards\n",
    "- Most cars were either diesel or petrol, very few were electric, PNG, or LPG\n",
    "- More than twice as many cars were manual than automatic\n",
    "- Most cars only had one owner\n",
    "- The vast majority of cars had 5 seats\n",
    "- The top 3 most popular brands were Marati, Hyundai, and Honda\n",
    "- 50% of cars were driven between 30,000 and 75,000 kilometers, but the distribution is right skewed, with some outliers\n",
    "- Almost all cars get between 10 and 30 KMPL mileage\n",
    "- The prices are both right skewed"
   ]
  },
  {
   "cell_type": "markdown",
   "id": "dffb7550",
   "metadata": {},
   "source": [
    "Note:\n",
    "- Many outliers were left untreated intentionally as there is a wide variety of cars in this data, and the values of those outliers are reasonable."
   ]
  },
  {
   "cell_type": "markdown",
   "id": "b3026a7d",
   "metadata": {},
   "source": [
    "### Bivariate Analysis"
   ]
  },
  {
   "cell_type": "markdown",
   "id": "791be0f1",
   "metadata": {},
   "source": [
    "We want to see the relationship the other variables have with price"
   ]
  },
  {
   "cell_type": "code",
   "execution_count": 43,
   "id": "3c4b8927",
   "metadata": {},
   "outputs": [
    {
     "data": {
      "text/html": [
       "<div>\n",
       "<style scoped>\n",
       "    .dataframe tbody tr th:only-of-type {\n",
       "        vertical-align: middle;\n",
       "    }\n",
       "\n",
       "    .dataframe tbody tr th {\n",
       "        vertical-align: top;\n",
       "    }\n",
       "\n",
       "    .dataframe thead th {\n",
       "        text-align: right;\n",
       "    }\n",
       "</style>\n",
       "<table border=\"1\" class=\"dataframe\">\n",
       "  <thead>\n",
       "    <tr style=\"text-align: right;\">\n",
       "      <th></th>\n",
       "      <th>Year</th>\n",
       "      <th>Kilometers_Driven</th>\n",
       "      <th>Mileage</th>\n",
       "      <th>Engine</th>\n",
       "      <th>Power</th>\n",
       "      <th>Seats</th>\n",
       "      <th>New_Price</th>\n",
       "      <th>Price</th>\n",
       "    </tr>\n",
       "  </thead>\n",
       "  <tbody>\n",
       "    <tr>\n",
       "      <th>Year</th>\n",
       "      <td>1.000000</td>\n",
       "      <td>-0.172639</td>\n",
       "      <td>0.296360</td>\n",
       "      <td>-0.052886</td>\n",
       "      <td>0.013957</td>\n",
       "      <td>0.012333</td>\n",
       "      <td>-0.006094</td>\n",
       "      <td>0.305772</td>\n",
       "    </tr>\n",
       "    <tr>\n",
       "      <th>Kilometers_Driven</th>\n",
       "      <td>-0.172639</td>\n",
       "      <td>1.000000</td>\n",
       "      <td>-0.061502</td>\n",
       "      <td>0.090814</td>\n",
       "      <td>0.033455</td>\n",
       "      <td>0.083113</td>\n",
       "      <td>0.016498</td>\n",
       "      <td>-0.011276</td>\n",
       "    </tr>\n",
       "    <tr>\n",
       "      <th>Mileage</th>\n",
       "      <td>0.296360</td>\n",
       "      <td>-0.061502</td>\n",
       "      <td>1.000000</td>\n",
       "      <td>-0.582155</td>\n",
       "      <td>-0.504621</td>\n",
       "      <td>-0.297470</td>\n",
       "      <td>-0.408532</td>\n",
       "      <td>-0.306632</td>\n",
       "    </tr>\n",
       "    <tr>\n",
       "      <th>Engine</th>\n",
       "      <td>-0.052886</td>\n",
       "      <td>0.090814</td>\n",
       "      <td>-0.582155</td>\n",
       "      <td>1.000000</td>\n",
       "      <td>0.859557</td>\n",
       "      <td>0.393337</td>\n",
       "      <td>0.702375</td>\n",
       "      <td>0.658616</td>\n",
       "    </tr>\n",
       "    <tr>\n",
       "      <th>Power</th>\n",
       "      <td>0.013957</td>\n",
       "      <td>0.033455</td>\n",
       "      <td>-0.504621</td>\n",
       "      <td>0.859557</td>\n",
       "      <td>1.000000</td>\n",
       "      <td>0.100201</td>\n",
       "      <td>0.796306</td>\n",
       "      <td>0.768871</td>\n",
       "    </tr>\n",
       "    <tr>\n",
       "      <th>Seats</th>\n",
       "      <td>0.012333</td>\n",
       "      <td>0.083113</td>\n",
       "      <td>-0.297470</td>\n",
       "      <td>0.393337</td>\n",
       "      <td>0.100201</td>\n",
       "      <td>1.000000</td>\n",
       "      <td>0.039056</td>\n",
       "      <td>0.052225</td>\n",
       "    </tr>\n",
       "    <tr>\n",
       "      <th>New_Price</th>\n",
       "      <td>-0.006094</td>\n",
       "      <td>0.016498</td>\n",
       "      <td>-0.408532</td>\n",
       "      <td>0.702375</td>\n",
       "      <td>0.796306</td>\n",
       "      <td>0.039056</td>\n",
       "      <td>1.000000</td>\n",
       "      <td>0.763997</td>\n",
       "    </tr>\n",
       "    <tr>\n",
       "      <th>Price</th>\n",
       "      <td>0.305772</td>\n",
       "      <td>-0.011276</td>\n",
       "      <td>-0.306632</td>\n",
       "      <td>0.658616</td>\n",
       "      <td>0.768871</td>\n",
       "      <td>0.052225</td>\n",
       "      <td>0.763997</td>\n",
       "      <td>1.000000</td>\n",
       "    </tr>\n",
       "  </tbody>\n",
       "</table>\n",
       "</div>"
      ],
      "text/plain": [
       "                       Year  Kilometers_Driven   Mileage    Engine     Power  \\\n",
       "Year               1.000000          -0.172639  0.296360 -0.052886  0.013957   \n",
       "Kilometers_Driven -0.172639           1.000000 -0.061502  0.090814  0.033455   \n",
       "Mileage            0.296360          -0.061502  1.000000 -0.582155 -0.504621   \n",
       "Engine            -0.052886           0.090814 -0.582155  1.000000  0.859557   \n",
       "Power              0.013957           0.033455 -0.504621  0.859557  1.000000   \n",
       "Seats              0.012333           0.083113 -0.297470  0.393337  0.100201   \n",
       "New_Price         -0.006094           0.016498 -0.408532  0.702375  0.796306   \n",
       "Price              0.305772          -0.011276 -0.306632  0.658616  0.768871   \n",
       "\n",
       "                      Seats  New_Price     Price  \n",
       "Year               0.012333  -0.006094  0.305772  \n",
       "Kilometers_Driven  0.083113   0.016498 -0.011276  \n",
       "Mileage           -0.297470  -0.408532 -0.306632  \n",
       "Engine             0.393337   0.702375  0.658616  \n",
       "Power              0.100201   0.796306  0.768871  \n",
       "Seats              1.000000   0.039056  0.052225  \n",
       "New_Price          0.039056   1.000000  0.763997  \n",
       "Price              0.052225   0.763997  1.000000  "
      ]
     },
     "execution_count": 43,
     "metadata": {},
     "output_type": "execute_result"
    }
   ],
   "source": [
    "# correlation of numeric variables\n",
    "df.corr()"
   ]
  },
  {
   "cell_type": "markdown",
   "id": "914b85e5",
   "metadata": {},
   "source": [
    "- Looking at the correlations with price, we see that larger displacement engines, and more powerful cars are more expensive with a strong positive correlation. \n",
    "- Cars that are more expensive when new, also tend to be more expensive when used. \n",
    "- Newer cars are more expensive when used, but the relationship is not as strong. \n",
    "- Cars that have higher mileage tend to be cheaper when used, causing a negative correlation.\n",
    "- The engine size and power relationships also hold for new car prices"
   ]
  },
  {
   "cell_type": "code",
   "execution_count": 44,
   "id": "5e8a7802",
   "metadata": {},
   "outputs": [
    {
     "data": {
      "image/png": "[encoded data removed]",
      "text/plain": [
       "<Figure size 432x288 with 1 Axes>"
      ]
     },
     "metadata": {
      "needs_background": "light"
     },
     "output_type": "display_data"
    }
   ],
   "source": [
    "plt.title(\"Kilometers Driven vs Price\")\n",
    "sns.scatterplot(data = df, x = \"Kilometers_Driven\", y = \"Price\");"
   ]
  },
  {
   "cell_type": "markdown",
   "id": "521175ca",
   "metadata": {},
   "source": [
    "It is very unlikely that a car actually drove 6 million kilometers, so we will remove that data point as an outlier. We will also just remove outliers of greater than 400000 km driven, because it is unlikely any car would be driven more than that."
   ]
  },
  {
   "cell_type": "code",
   "execution_count": 45,
   "id": "bcb4b2df",
   "metadata": {},
   "outputs": [],
   "source": [
    "# drops the unreasonable outliers\n",
    "df[df[\"Kilometers_Driven\"] > 400000]\n",
    "df.drop([340, 358, 1860, 2328, 2823, 3092, 4491] , axis = 0, inplace = True)"
   ]
  },
  {
   "cell_type": "code",
   "execution_count": 46,
   "id": "0dc81588",
   "metadata": {},
   "outputs": [
    {
     "data": {
      "image/png": "[encoded data removed]",
      "text/plain": [
       "<Figure size 432x288 with 1 Axes>"
      ]
     },
     "metadata": {
      "needs_background": "light"
     },
     "output_type": "display_data"
    }
   ],
   "source": [
    "plt.title(\"Kilometers Driven vs Price\")\n",
    "sns.scatterplot(data = df, x = \"Kilometers_Driven\", y = \"Price\", hue = \"Transmission\");"
   ]
  },
  {
   "cell_type": "markdown",
   "id": "e8b6c589",
   "metadata": {},
   "source": [
    "- We can pretty clearly see that automatic cars tend to be more expensive than manual cars.\n",
    "- However, there seems to be more variance in price for automatic cars.\n",
    "- There seems to be more variance in kilometers driven for manual cars.\n",
    "- The price seems pretty constant for manual cars regardless of kilometers driven.\n",
    "- There is a negative relationship with price and kilometers driven for automatic cars."
   ]
  },
  {
   "cell_type": "code",
   "execution_count": 47,
   "id": "4217daff",
   "metadata": {},
   "outputs": [
    {
     "data": {
      "image/png": "[encoded data removed]",
      "text/plain": [
       "<Figure size 864x576 with 1 Axes>"
      ]
     },
     "metadata": {
      "needs_background": "light"
     },
     "output_type": "display_data"
    }
   ],
   "source": [
    "plt.figure(figsize = (12,8))\n",
    "plt.title(\"Brand vs Price\")\n",
    "plt.xticks(rotation = 90)\n",
    "sns.boxplot(data = df, x = \"Brand\", y = \"Price\", showfliers = False);"
   ]
  },
  {
   "cell_type": "markdown",
   "id": "6cca3530",
   "metadata": {},
   "source": [
    "- Interestingly, Maruti, Hyundai, and Honda are the most popular brands despite being some of the lowest priced cars on the market.\n",
    "- Porsche, Bentley, and Lamborghini are the most expensive brands, but are some of the least popular, which is understandable as not many people could afford them."
   ]
  },
  {
   "cell_type": "code",
   "execution_count": 48,
   "id": "8e0c328f",
   "metadata": {},
   "outputs": [
    {
     "data": {
      "image/png": "[encoded data removed]",
      "text/plain": [
       "<Figure size 432x288 with 1 Axes>"
      ]
     },
     "metadata": {
      "needs_background": "light"
     },
     "output_type": "display_data"
    }
   ],
   "source": [
    "plt.title(\"Mileage vs Price\")\n",
    "sns.scatterplot(data = df, x = \"Mileage\", y = \"Price\", hue = \"Fuel_Type\");"
   ]
  },
  {
   "cell_type": "markdown",
   "id": "bd9ac670",
   "metadata": {},
   "source": [
    "- There seems to be little relationship between price and mileage for diesel and petrol vehicles.\n",
    "- CNG cars are low cost with very high mileage\n",
    "- There seems to be an overall negative relationship between milage and price"
   ]
  },
  {
   "cell_type": "code",
   "execution_count": 49,
   "id": "24c80aba",
   "metadata": {},
   "outputs": [
    {
     "data": {
      "image/png": "[encoded data removed]",
      "text/plain": [
       "<Figure size 864x576 with 1 Axes>"
      ]
     },
     "metadata": {
      "needs_background": "light"
     },
     "output_type": "display_data"
    }
   ],
   "source": [
    "plt.figure(figsize = (12,8))\n",
    "plt.title(\"Location vs Price\")\n",
    "plt.xticks(rotation = 90)\n",
    "sns.boxplot(data = df, x = \"Location\", y = \"Price\", showfliers = False);"
   ]
  },
  {
   "cell_type": "markdown",
   "id": "4c9d8833",
   "metadata": {},
   "source": [
    "- On average Coimbatore had the priciest used cars\n",
    "- Bangalore had the most variance in prices.\n",
    "- Most other locations had similar median prices."
   ]
  },
  {
   "cell_type": "code",
   "execution_count": 50,
   "id": "1fb8aa5e",
   "metadata": {},
   "outputs": [
    {
     "data": {
      "image/png": "[encoded data removed]",
      "text/plain": [
       "<Figure size 864x576 with 1 Axes>"
      ]
     },
     "metadata": {
      "needs_background": "light"
     },
     "output_type": "display_data"
    }
   ],
   "source": [
    "plt.figure(figsize = (12,8))\n",
    "plt.title(\"Year Manufactured vs Price\")\n",
    "plt.xticks(rotation = 90)\n",
    "sns.boxplot(data = df, x = \"Year\", y = \"Price\", showfliers = False);"
   ]
  },
  {
   "cell_type": "markdown",
   "id": "a2f50470",
   "metadata": {},
   "source": [
    "- The median price increases as cars get newer.\n",
    "- Newer cars also have much more variance in price."
   ]
  },
  {
   "cell_type": "markdown",
   "id": "baf90299",
   "metadata": {},
   "source": [
    "## Linear Regression Model"
   ]
  },
  {
   "cell_type": "code",
   "execution_count": 51,
   "id": "5d0c96a7",
   "metadata": {},
   "outputs": [],
   "source": [
    "# import linear regression packages\n",
    "# to split the data into train and test\n",
    "from sklearn.model_selection import train_test_split\n",
    "\n",
    "# to build linear regression_model\n",
    "from sklearn.linear_model import LinearRegression\n",
    "\n",
    "# to check model performance\n",
    "from sklearn.metrics import mean_absolute_error, mean_squared_error, r2_score"
   ]
  },
  {
   "cell_type": "code",
   "execution_count": 52,
   "id": "4af3cbd3",
   "metadata": {},
   "outputs": [],
   "source": [
    "# set our predictors and response variables\n",
    "X = df.drop(\"Price\", axis = 1)\n",
    "y = df[\"Price\"]"
   ]
  },
  {
   "cell_type": "code",
   "execution_count": 53,
   "id": "31509af2",
   "metadata": {},
   "outputs": [
    {
     "data": {
      "text/html": [
       "<div>\n",
       "<style scoped>\n",
       "    .dataframe tbody tr th:only-of-type {\n",
       "        vertical-align: middle;\n",
       "    }\n",
       "\n",
       "    .dataframe tbody tr th {\n",
       "        vertical-align: top;\n",
       "    }\n",
       "\n",
       "    .dataframe thead th {\n",
       "        text-align: right;\n",
       "    }\n",
       "</style>\n",
       "<table border=\"1\" class=\"dataframe\">\n",
       "  <thead>\n",
       "    <tr style=\"text-align: right;\">\n",
       "      <th></th>\n",
       "      <th>Year</th>\n",
       "      <th>Kilometers_Driven</th>\n",
       "      <th>Mileage</th>\n",
       "      <th>Engine</th>\n",
       "      <th>Power</th>\n",
       "      <th>Seats</th>\n",
       "      <th>New_Price</th>\n",
       "      <th>Location_Bangalore</th>\n",
       "      <th>Location_Chennai</th>\n",
       "      <th>Location_Coimbatore</th>\n",
       "      <th>Location_Delhi</th>\n",
       "      <th>Location_Hyderabad</th>\n",
       "      <th>Location_Jaipur</th>\n",
       "      <th>Location_Kochi</th>\n",
       "      <th>Location_Kolkata</th>\n",
       "      <th>Location_Mumbai</th>\n",
       "      <th>Location_Pune</th>\n",
       "      <th>Fuel_Type_Diesel</th>\n",
       "      <th>Fuel_Type_Electric</th>\n",
       "      <th>Fuel_Type_LPG</th>\n",
       "      <th>Fuel_Type_Petrol</th>\n",
       "      <th>Transmission_Manual</th>\n",
       "      <th>Owner_Type_Fourth &amp; Above</th>\n",
       "      <th>Owner_Type_Second</th>\n",
       "      <th>Owner_Type_Third</th>\n",
       "      <th>Brand_Audi</th>\n",
       "      <th>Brand_BMW</th>\n",
       "      <th>Brand_Bentley</th>\n",
       "      <th>Brand_Chevrolet</th>\n",
       "      <th>Brand_Datsun</th>\n",
       "      <th>Brand_Fiat</th>\n",
       "      <th>Brand_Force</th>\n",
       "      <th>Brand_Ford</th>\n",
       "      <th>Brand_Honda</th>\n",
       "      <th>Brand_Hyundai</th>\n",
       "      <th>Brand_Isuzu</th>\n",
       "      <th>Brand_Jaguar</th>\n",
       "      <th>Brand_Jeep</th>\n",
       "      <th>Brand_Lamborghini</th>\n",
       "      <th>Brand_Land Rover</th>\n",
       "      <th>Brand_Mahindra</th>\n",
       "      <th>Brand_Maruti</th>\n",
       "      <th>Brand_Mercedes-Benz</th>\n",
       "      <th>Brand_Mini</th>\n",
       "      <th>Brand_Mitsubishi</th>\n",
       "      <th>Brand_Nissan</th>\n",
       "      <th>Brand_Porsche</th>\n",
       "      <th>Brand_Renault</th>\n",
       "      <th>Brand_Skoda</th>\n",
       "      <th>Brand_Smart</th>\n",
       "      <th>Brand_Tata</th>\n",
       "      <th>Brand_Toyota</th>\n",
       "      <th>Brand_Volkswagen</th>\n",
       "      <th>Brand_Volvo</th>\n",
       "    </tr>\n",
       "  </thead>\n",
       "  <tbody>\n",
       "    <tr>\n",
       "      <th>0</th>\n",
       "      <td>2010</td>\n",
       "      <td>72000</td>\n",
       "      <td>37.24</td>\n",
       "      <td>998.0</td>\n",
       "      <td>58.16</td>\n",
       "      <td>5.0</td>\n",
       "      <td>551000.0</td>\n",
       "      <td>0</td>\n",
       "      <td>0</td>\n",
       "      <td>0</td>\n",
       "      <td>0</td>\n",
       "      <td>0</td>\n",
       "      <td>0</td>\n",
       "      <td>0</td>\n",
       "      <td>0</td>\n",
       "      <td>1</td>\n",
       "      <td>0</td>\n",
       "      <td>0</td>\n",
       "      <td>0</td>\n",
       "      <td>0</td>\n",
       "      <td>0</td>\n",
       "      <td>1</td>\n",
       "      <td>0</td>\n",
       "      <td>0</td>\n",
       "      <td>0</td>\n",
       "      <td>0</td>\n",
       "      <td>0</td>\n",
       "      <td>0</td>\n",
       "      <td>0</td>\n",
       "      <td>0</td>\n",
       "      <td>0</td>\n",
       "      <td>0</td>\n",
       "      <td>0</td>\n",
       "      <td>0</td>\n",
       "      <td>0</td>\n",
       "      <td>0</td>\n",
       "      <td>0</td>\n",
       "      <td>0</td>\n",
       "      <td>0</td>\n",
       "      <td>0</td>\n",
       "      <td>0</td>\n",
       "      <td>1</td>\n",
       "      <td>0</td>\n",
       "      <td>0</td>\n",
       "      <td>0</td>\n",
       "      <td>0</td>\n",
       "      <td>0</td>\n",
       "      <td>0</td>\n",
       "      <td>0</td>\n",
       "      <td>0</td>\n",
       "      <td>0</td>\n",
       "      <td>0</td>\n",
       "      <td>0</td>\n",
       "      <td>0</td>\n",
       "    </tr>\n",
       "    <tr>\n",
       "      <th>1</th>\n",
       "      <td>2015</td>\n",
       "      <td>41000</td>\n",
       "      <td>19.67</td>\n",
       "      <td>1582.0</td>\n",
       "      <td>126.20</td>\n",
       "      <td>5.0</td>\n",
       "      <td>1606000.0</td>\n",
       "      <td>0</td>\n",
       "      <td>0</td>\n",
       "      <td>0</td>\n",
       "      <td>0</td>\n",
       "      <td>0</td>\n",
       "      <td>0</td>\n",
       "      <td>0</td>\n",
       "      <td>0</td>\n",
       "      <td>0</td>\n",
       "      <td>1</td>\n",
       "      <td>1</td>\n",
       "      <td>0</td>\n",
       "      <td>0</td>\n",
       "      <td>0</td>\n",
       "      <td>1</td>\n",
       "      <td>0</td>\n",
       "      <td>0</td>\n",
       "      <td>0</td>\n",
       "      <td>0</td>\n",
       "      <td>0</td>\n",
       "      <td>0</td>\n",
       "      <td>0</td>\n",
       "      <td>0</td>\n",
       "      <td>0</td>\n",
       "      <td>0</td>\n",
       "      <td>0</td>\n",
       "      <td>0</td>\n",
       "      <td>1</td>\n",
       "      <td>0</td>\n",
       "      <td>0</td>\n",
       "      <td>0</td>\n",
       "      <td>0</td>\n",
       "      <td>0</td>\n",
       "      <td>0</td>\n",
       "      <td>0</td>\n",
       "      <td>0</td>\n",
       "      <td>0</td>\n",
       "      <td>0</td>\n",
       "      <td>0</td>\n",
       "      <td>0</td>\n",
       "      <td>0</td>\n",
       "      <td>0</td>\n",
       "      <td>0</td>\n",
       "      <td>0</td>\n",
       "      <td>0</td>\n",
       "      <td>0</td>\n",
       "      <td>0</td>\n",
       "    </tr>\n",
       "    <tr>\n",
       "      <th>2</th>\n",
       "      <td>2011</td>\n",
       "      <td>46000</td>\n",
       "      <td>18.20</td>\n",
       "      <td>1199.0</td>\n",
       "      <td>88.70</td>\n",
       "      <td>5.0</td>\n",
       "      <td>861000.0</td>\n",
       "      <td>0</td>\n",
       "      <td>1</td>\n",
       "      <td>0</td>\n",
       "      <td>0</td>\n",
       "      <td>0</td>\n",
       "      <td>0</td>\n",
       "      <td>0</td>\n",
       "      <td>0</td>\n",
       "      <td>0</td>\n",
       "      <td>0</td>\n",
       "      <td>0</td>\n",
       "      <td>0</td>\n",
       "      <td>0</td>\n",
       "      <td>1</td>\n",
       "      <td>1</td>\n",
       "      <td>0</td>\n",
       "      <td>0</td>\n",
       "      <td>0</td>\n",
       "      <td>0</td>\n",
       "      <td>0</td>\n",
       "      <td>0</td>\n",
       "      <td>0</td>\n",
       "      <td>0</td>\n",
       "      <td>0</td>\n",
       "      <td>0</td>\n",
       "      <td>0</td>\n",
       "      <td>1</td>\n",
       "      <td>0</td>\n",
       "      <td>0</td>\n",
       "      <td>0</td>\n",
       "      <td>0</td>\n",
       "      <td>0</td>\n",
       "      <td>0</td>\n",
       "      <td>0</td>\n",
       "      <td>0</td>\n",
       "      <td>0</td>\n",
       "      <td>0</td>\n",
       "      <td>0</td>\n",
       "      <td>0</td>\n",
       "      <td>0</td>\n",
       "      <td>0</td>\n",
       "      <td>0</td>\n",
       "      <td>0</td>\n",
       "      <td>0</td>\n",
       "      <td>0</td>\n",
       "      <td>0</td>\n",
       "      <td>0</td>\n",
       "    </tr>\n",
       "    <tr>\n",
       "      <th>3</th>\n",
       "      <td>2012</td>\n",
       "      <td>87000</td>\n",
       "      <td>20.77</td>\n",
       "      <td>1248.0</td>\n",
       "      <td>88.76</td>\n",
       "      <td>7.0</td>\n",
       "      <td>1127000.0</td>\n",
       "      <td>0</td>\n",
       "      <td>1</td>\n",
       "      <td>0</td>\n",
       "      <td>0</td>\n",
       "      <td>0</td>\n",
       "      <td>0</td>\n",
       "      <td>0</td>\n",
       "      <td>0</td>\n",
       "      <td>0</td>\n",
       "      <td>0</td>\n",
       "      <td>1</td>\n",
       "      <td>0</td>\n",
       "      <td>0</td>\n",
       "      <td>0</td>\n",
       "      <td>1</td>\n",
       "      <td>0</td>\n",
       "      <td>0</td>\n",
       "      <td>0</td>\n",
       "      <td>0</td>\n",
       "      <td>0</td>\n",
       "      <td>0</td>\n",
       "      <td>0</td>\n",
       "      <td>0</td>\n",
       "      <td>0</td>\n",
       "      <td>0</td>\n",
       "      <td>0</td>\n",
       "      <td>0</td>\n",
       "      <td>0</td>\n",
       "      <td>0</td>\n",
       "      <td>0</td>\n",
       "      <td>0</td>\n",
       "      <td>0</td>\n",
       "      <td>0</td>\n",
       "      <td>0</td>\n",
       "      <td>1</td>\n",
       "      <td>0</td>\n",
       "      <td>0</td>\n",
       "      <td>0</td>\n",
       "      <td>0</td>\n",
       "      <td>0</td>\n",
       "      <td>0</td>\n",
       "      <td>0</td>\n",
       "      <td>0</td>\n",
       "      <td>0</td>\n",
       "      <td>0</td>\n",
       "      <td>0</td>\n",
       "      <td>0</td>\n",
       "    </tr>\n",
       "    <tr>\n",
       "      <th>4</th>\n",
       "      <td>2013</td>\n",
       "      <td>40670</td>\n",
       "      <td>15.20</td>\n",
       "      <td>1968.0</td>\n",
       "      <td>140.80</td>\n",
       "      <td>5.0</td>\n",
       "      <td>5314000.0</td>\n",
       "      <td>0</td>\n",
       "      <td>0</td>\n",
       "      <td>1</td>\n",
       "      <td>0</td>\n",
       "      <td>0</td>\n",
       "      <td>0</td>\n",
       "      <td>0</td>\n",
       "      <td>0</td>\n",
       "      <td>0</td>\n",
       "      <td>0</td>\n",
       "      <td>1</td>\n",
       "      <td>0</td>\n",
       "      <td>0</td>\n",
       "      <td>0</td>\n",
       "      <td>0</td>\n",
       "      <td>0</td>\n",
       "      <td>1</td>\n",
       "      <td>0</td>\n",
       "      <td>1</td>\n",
       "      <td>0</td>\n",
       "      <td>0</td>\n",
       "      <td>0</td>\n",
       "      <td>0</td>\n",
       "      <td>0</td>\n",
       "      <td>0</td>\n",
       "      <td>0</td>\n",
       "      <td>0</td>\n",
       "      <td>0</td>\n",
       "      <td>0</td>\n",
       "      <td>0</td>\n",
       "      <td>0</td>\n",
       "      <td>0</td>\n",
       "      <td>0</td>\n",
       "      <td>0</td>\n",
       "      <td>0</td>\n",
       "      <td>0</td>\n",
       "      <td>0</td>\n",
       "      <td>0</td>\n",
       "      <td>0</td>\n",
       "      <td>0</td>\n",
       "      <td>0</td>\n",
       "      <td>0</td>\n",
       "      <td>0</td>\n",
       "      <td>0</td>\n",
       "      <td>0</td>\n",
       "      <td>0</td>\n",
       "      <td>0</td>\n",
       "    </tr>\n",
       "  </tbody>\n",
       "</table>\n",
       "</div>"
      ],
      "text/plain": [
       "   Year  Kilometers_Driven  Mileage  Engine   Power  Seats  New_Price  \\\n",
       "0  2010              72000    37.24   998.0   58.16    5.0   551000.0   \n",
       "1  2015              41000    19.67  1582.0  126.20    5.0  1606000.0   \n",
       "2  2011              46000    18.20  1199.0   88.70    5.0   861000.0   \n",
       "3  2012              87000    20.77  1248.0   88.76    7.0  1127000.0   \n",
       "4  2013              40670    15.20  1968.0  140.80    5.0  5314000.0   \n",
       "\n",
       "   Location_Bangalore  Location_Chennai  Location_Coimbatore  Location_Delhi  \\\n",
       "0                   0                 0                    0               0   \n",
       "1                   0                 0                    0               0   \n",
       "2                   0                 1                    0               0   \n",
       "3                   0                 1                    0               0   \n",
       "4                   0                 0                    1               0   \n",
       "\n",
       "   Location_Hyderabad  Location_Jaipur  Location_Kochi  Location_Kolkata  \\\n",
       "0                   0                0               0                 0   \n",
       "1                   0                0               0                 0   \n",
       "2                   0                0               0                 0   \n",
       "3                   0                0               0                 0   \n",
       "4                   0                0               0                 0   \n",
       "\n",
       "   Location_Mumbai  Location_Pune  Fuel_Type_Diesel  Fuel_Type_Electric  \\\n",
       "0                1              0                 0                   0   \n",
       "1                0              1                 1                   0   \n",
       "2                0              0                 0                   0   \n",
       "3                0              0                 1                   0   \n",
       "4                0              0                 1                   0   \n",
       "\n",
       "   Fuel_Type_LPG  Fuel_Type_Petrol  Transmission_Manual  \\\n",
       "0              0                 0                    1   \n",
       "1              0                 0                    1   \n",
       "2              0                 1                    1   \n",
       "3              0                 0                    1   \n",
       "4              0                 0                    0   \n",
       "\n",
       "   Owner_Type_Fourth & Above  Owner_Type_Second  Owner_Type_Third  Brand_Audi  \\\n",
       "0                          0                  0                 0           0   \n",
       "1                          0                  0                 0           0   \n",
       "2                          0                  0                 0           0   \n",
       "3                          0                  0                 0           0   \n",
       "4                          0                  1                 0           1   \n",
       "\n",
       "   Brand_BMW  Brand_Bentley  Brand_Chevrolet  Brand_Datsun  Brand_Fiat  \\\n",
       "0          0              0                0             0           0   \n",
       "1          0              0                0             0           0   \n",
       "2          0              0                0             0           0   \n",
       "3          0              0                0             0           0   \n",
       "4          0              0                0             0           0   \n",
       "\n",
       "   Brand_Force  Brand_Ford  Brand_Honda  Brand_Hyundai  Brand_Isuzu  \\\n",
       "0            0           0            0              0            0   \n",
       "1            0           0            0              1            0   \n",
       "2            0           0            1              0            0   \n",
       "3            0           0            0              0            0   \n",
       "4            0           0            0              0            0   \n",
       "\n",
       "   Brand_Jaguar  Brand_Jeep  Brand_Lamborghini  Brand_Land Rover  \\\n",
       "0             0           0                  0                 0   \n",
       "1             0           0                  0                 0   \n",
       "2             0           0                  0                 0   \n",
       "3             0           0                  0                 0   \n",
       "4             0           0                  0                 0   \n",
       "\n",
       "   Brand_Mahindra  Brand_Maruti  Brand_Mercedes-Benz  Brand_Mini  \\\n",
       "0               0             1                    0           0   \n",
       "1               0             0                    0           0   \n",
       "2               0             0                    0           0   \n",
       "3               0             1                    0           0   \n",
       "4               0             0                    0           0   \n",
       "\n",
       "   Brand_Mitsubishi  Brand_Nissan  Brand_Porsche  Brand_Renault  Brand_Skoda  \\\n",
       "0                 0             0              0              0            0   \n",
       "1                 0             0              0              0            0   \n",
       "2                 0             0              0              0            0   \n",
       "3                 0             0              0              0            0   \n",
       "4                 0             0              0              0            0   \n",
       "\n",
       "   Brand_Smart  Brand_Tata  Brand_Toyota  Brand_Volkswagen  Brand_Volvo  \n",
       "0            0           0             0                 0            0  \n",
       "1            0           0             0                 0            0  \n",
       "2            0           0             0                 0            0  \n",
       "3            0           0             0                 0            0  \n",
       "4            0           0             0                 0            0  "
      ]
     },
     "execution_count": 53,
     "metadata": {},
     "output_type": "execute_result"
    }
   ],
   "source": [
    "# generate dummy variables for the categorical variables\n",
    "X = pd.get_dummies(\n",
    "    X,\n",
    "    columns = X.select_dtypes(include = [\"object\", \"category\"]).columns.tolist(),\n",
    "    drop_first = True,\n",
    ")\n",
    "X.head()"
   ]
  },
  {
   "cell_type": "code",
   "execution_count": 54,
   "id": "f6a7531b",
   "metadata": {},
   "outputs": [],
   "source": [
    "# splitting the data in 80:20 ratio for train to test data\n",
    "x_train, x_test, y_train, y_test = train_test_split(X, y, test_size = 0.2, random_state = 1)"
   ]
  },
  {
   "cell_type": "code",
   "execution_count": 55,
   "id": "74716feb",
   "metadata": {},
   "outputs": [
    {
     "data": {
      "text/plain": [
       "LinearRegression()"
      ]
     },
     "execution_count": 55,
     "metadata": {},
     "output_type": "execute_result"
    }
   ],
   "source": [
    "# fitting the linear model\n",
    "lin_reg_model = LinearRegression()\n",
    "lin_reg_model.fit(x_train, y_train)"
   ]
  },
  {
   "cell_type": "code",
   "execution_count": 56,
   "id": "826fea5b",
   "metadata": {},
   "outputs": [
    {
     "data": {
      "text/html": [
       "<div>\n",
       "<style scoped>\n",
       "    .dataframe tbody tr th:only-of-type {\n",
       "        vertical-align: middle;\n",
       "    }\n",
       "\n",
       "    .dataframe tbody tr th {\n",
       "        vertical-align: top;\n",
       "    }\n",
       "\n",
       "    .dataframe thead th {\n",
       "        text-align: right;\n",
       "    }\n",
       "</style>\n",
       "<table border=\"1\" class=\"dataframe\">\n",
       "  <thead>\n",
       "    <tr style=\"text-align: right;\">\n",
       "      <th></th>\n",
       "      <th>Coefficients</th>\n",
       "    </tr>\n",
       "  </thead>\n",
       "  <tbody>\n",
       "    <tr>\n",
       "      <th>Year</th>\n",
       "      <td>91235.6</td>\n",
       "    </tr>\n",
       "    <tr>\n",
       "      <th>Kilometers_Driven</th>\n",
       "      <td>-3.2</td>\n",
       "    </tr>\n",
       "    <tr>\n",
       "      <th>Mileage</th>\n",
       "      <td>-14089.7</td>\n",
       "    </tr>\n",
       "    <tr>\n",
       "      <th>Engine</th>\n",
       "      <td>172.6</td>\n",
       "    </tr>\n",
       "    <tr>\n",
       "      <th>Power</th>\n",
       "      <td>6387.8</td>\n",
       "    </tr>\n",
       "    <tr>\n",
       "      <th>Seats</th>\n",
       "      <td>-14030.3</td>\n",
       "    </tr>\n",
       "    <tr>\n",
       "      <th>New_Price</th>\n",
       "      <td>0.1</td>\n",
       "    </tr>\n",
       "    <tr>\n",
       "      <th>Location_Bangalore</th>\n",
       "      <td>198522.9</td>\n",
       "    </tr>\n",
       "    <tr>\n",
       "      <th>Location_Chennai</th>\n",
       "      <td>122579.4</td>\n",
       "    </tr>\n",
       "    <tr>\n",
       "      <th>Location_Coimbatore</th>\n",
       "      <td>160107.3</td>\n",
       "    </tr>\n",
       "    <tr>\n",
       "      <th>Location_Delhi</th>\n",
       "      <td>-73899.4</td>\n",
       "    </tr>\n",
       "    <tr>\n",
       "      <th>Location_Hyderabad</th>\n",
       "      <td>182592.5</td>\n",
       "    </tr>\n",
       "    <tr>\n",
       "      <th>Location_Jaipur</th>\n",
       "      <td>100074.7</td>\n",
       "    </tr>\n",
       "    <tr>\n",
       "      <th>Location_Kochi</th>\n",
       "      <td>-38247.8</td>\n",
       "    </tr>\n",
       "    <tr>\n",
       "      <th>Location_Kolkata</th>\n",
       "      <td>-137522.4</td>\n",
       "    </tr>\n",
       "    <tr>\n",
       "      <th>Location_Mumbai</th>\n",
       "      <td>-89383.0</td>\n",
       "    </tr>\n",
       "    <tr>\n",
       "      <th>Location_Pune</th>\n",
       "      <td>50104.2</td>\n",
       "    </tr>\n",
       "    <tr>\n",
       "      <th>Fuel_Type_Diesel</th>\n",
       "      <td>-99987.6</td>\n",
       "    </tr>\n",
       "    <tr>\n",
       "      <th>Fuel_Type_Electric</th>\n",
       "      <td>811709.7</td>\n",
       "    </tr>\n",
       "    <tr>\n",
       "      <th>Fuel_Type_LPG</th>\n",
       "      <td>64627.7</td>\n",
       "    </tr>\n",
       "    <tr>\n",
       "      <th>Fuel_Type_Petrol</th>\n",
       "      <td>-247945.4</td>\n",
       "    </tr>\n",
       "    <tr>\n",
       "      <th>Transmission_Manual</th>\n",
       "      <td>12960.9</td>\n",
       "    </tr>\n",
       "    <tr>\n",
       "      <th>Owner_Type_Fourth &amp; Above</th>\n",
       "      <td>166670.6</td>\n",
       "    </tr>\n",
       "    <tr>\n",
       "      <th>Owner_Type_Second</th>\n",
       "      <td>-71946.8</td>\n",
       "    </tr>\n",
       "    <tr>\n",
       "      <th>Owner_Type_Third</th>\n",
       "      <td>80227.8</td>\n",
       "    </tr>\n",
       "    <tr>\n",
       "      <th>Brand_Audi</th>\n",
       "      <td>-202254.2</td>\n",
       "    </tr>\n",
       "    <tr>\n",
       "      <th>Brand_BMW</th>\n",
       "      <td>-314280.5</td>\n",
       "    </tr>\n",
       "    <tr>\n",
       "      <th>Brand_Bentley</th>\n",
       "      <td>-3410656.8</td>\n",
       "    </tr>\n",
       "    <tr>\n",
       "      <th>Brand_Chevrolet</th>\n",
       "      <td>-640253.8</td>\n",
       "    </tr>\n",
       "    <tr>\n",
       "      <th>Brand_Datsun</th>\n",
       "      <td>-789082.7</td>\n",
       "    </tr>\n",
       "    <tr>\n",
       "      <th>Brand_Fiat</th>\n",
       "      <td>-642873.2</td>\n",
       "    </tr>\n",
       "    <tr>\n",
       "      <th>Brand_Force</th>\n",
       "      <td>-759560.9</td>\n",
       "    </tr>\n",
       "    <tr>\n",
       "      <th>Brand_Ford</th>\n",
       "      <td>-607179.4</td>\n",
       "    </tr>\n",
       "    <tr>\n",
       "      <th>Brand_Honda</th>\n",
       "      <td>-676959.6</td>\n",
       "    </tr>\n",
       "    <tr>\n",
       "      <th>Brand_Hyundai</th>\n",
       "      <td>-625291.2</td>\n",
       "    </tr>\n",
       "    <tr>\n",
       "      <th>Brand_Isuzu</th>\n",
       "      <td>-1147033.5</td>\n",
       "    </tr>\n",
       "    <tr>\n",
       "      <th>Brand_Jaguar</th>\n",
       "      <td>506542.3</td>\n",
       "    </tr>\n",
       "    <tr>\n",
       "      <th>Brand_Jeep</th>\n",
       "      <td>-568905.8</td>\n",
       "    </tr>\n",
       "    <tr>\n",
       "      <th>Brand_Lamborghini</th>\n",
       "      <td>7135872.6</td>\n",
       "    </tr>\n",
       "    <tr>\n",
       "      <th>Brand_Land Rover</th>\n",
       "      <td>420532.8</td>\n",
       "    </tr>\n",
       "    <tr>\n",
       "      <th>Brand_Mahindra</th>\n",
       "      <td>-837093.6</td>\n",
       "    </tr>\n",
       "    <tr>\n",
       "      <th>Brand_Maruti</th>\n",
       "      <td>-480600.9</td>\n",
       "    </tr>\n",
       "    <tr>\n",
       "      <th>Brand_Mercedes-Benz</th>\n",
       "      <td>-110633.5</td>\n",
       "    </tr>\n",
       "    <tr>\n",
       "      <th>Brand_Mini</th>\n",
       "      <td>396115.7</td>\n",
       "    </tr>\n",
       "    <tr>\n",
       "      <th>Brand_Mitsubishi</th>\n",
       "      <td>-745037.1</td>\n",
       "    </tr>\n",
       "    <tr>\n",
       "      <th>Brand_Nissan</th>\n",
       "      <td>-647599.6</td>\n",
       "    </tr>\n",
       "    <tr>\n",
       "      <th>Brand_Porsche</th>\n",
       "      <td>104853.1</td>\n",
       "    </tr>\n",
       "    <tr>\n",
       "      <th>Brand_Renault</th>\n",
       "      <td>-707799.3</td>\n",
       "    </tr>\n",
       "    <tr>\n",
       "      <th>Brand_Skoda</th>\n",
       "      <td>-769820.4</td>\n",
       "    </tr>\n",
       "    <tr>\n",
       "      <th>Brand_Smart</th>\n",
       "      <td>-580726.7</td>\n",
       "    </tr>\n",
       "    <tr>\n",
       "      <th>Brand_Tata</th>\n",
       "      <td>-685186.8</td>\n",
       "    </tr>\n",
       "    <tr>\n",
       "      <th>Brand_Toyota</th>\n",
       "      <td>-537297.5</td>\n",
       "    </tr>\n",
       "    <tr>\n",
       "      <th>Brand_Volkswagen</th>\n",
       "      <td>-686662.8</td>\n",
       "    </tr>\n",
       "    <tr>\n",
       "      <th>Brand_Volvo</th>\n",
       "      <td>-651796.3</td>\n",
       "    </tr>\n",
       "    <tr>\n",
       "      <th>Intercept</th>\n",
       "      <td>-182855555.3</td>\n",
       "    </tr>\n",
       "  </tbody>\n",
       "</table>\n",
       "</div>"
      ],
      "text/plain": [
       "                           Coefficients\n",
       "Year                            91235.6\n",
       "Kilometers_Driven                  -3.2\n",
       "Mileage                        -14089.7\n",
       "Engine                            172.6\n",
       "Power                            6387.8\n",
       "Seats                          -14030.3\n",
       "New_Price                           0.1\n",
       "Location_Bangalore             198522.9\n",
       "Location_Chennai               122579.4\n",
       "Location_Coimbatore            160107.3\n",
       "Location_Delhi                 -73899.4\n",
       "Location_Hyderabad             182592.5\n",
       "Location_Jaipur                100074.7\n",
       "Location_Kochi                 -38247.8\n",
       "Location_Kolkata              -137522.4\n",
       "Location_Mumbai                -89383.0\n",
       "Location_Pune                   50104.2\n",
       "Fuel_Type_Diesel               -99987.6\n",
       "Fuel_Type_Electric             811709.7\n",
       "Fuel_Type_LPG                   64627.7\n",
       "Fuel_Type_Petrol              -247945.4\n",
       "Transmission_Manual             12960.9\n",
       "Owner_Type_Fourth & Above      166670.6\n",
       "Owner_Type_Second              -71946.8\n",
       "Owner_Type_Third                80227.8\n",
       "Brand_Audi                    -202254.2\n",
       "Brand_BMW                     -314280.5\n",
       "Brand_Bentley                -3410656.8\n",
       "Brand_Chevrolet               -640253.8\n",
       "Brand_Datsun                  -789082.7\n",
       "Brand_Fiat                    -642873.2\n",
       "Brand_Force                   -759560.9\n",
       "Brand_Ford                    -607179.4\n",
       "Brand_Honda                   -676959.6\n",
       "Brand_Hyundai                 -625291.2\n",
       "Brand_Isuzu                  -1147033.5\n",
       "Brand_Jaguar                   506542.3\n",
       "Brand_Jeep                    -568905.8\n",
       "Brand_Lamborghini             7135872.6\n",
       "Brand_Land Rover               420532.8\n",
       "Brand_Mahindra                -837093.6\n",
       "Brand_Maruti                  -480600.9\n",
       "Brand_Mercedes-Benz           -110633.5\n",
       "Brand_Mini                     396115.7\n",
       "Brand_Mitsubishi              -745037.1\n",
       "Brand_Nissan                  -647599.6\n",
       "Brand_Porsche                  104853.1\n",
       "Brand_Renault                 -707799.3\n",
       "Brand_Skoda                   -769820.4\n",
       "Brand_Smart                   -580726.7\n",
       "Brand_Tata                    -685186.8\n",
       "Brand_Toyota                  -537297.5\n",
       "Brand_Volkswagen              -686662.8\n",
       "Brand_Volvo                   -651796.3\n",
       "Intercept                  -182855555.3"
      ]
     },
     "execution_count": 56,
     "metadata": {},
     "output_type": "execute_result"
    }
   ],
   "source": [
    "# values of the model coefficients\n",
    "coef_df = pd.DataFrame(\n",
    "    np.append(lin_reg_model.coef_, lin_reg_model.intercept_),\n",
    "    index = x_train.columns.tolist() + [\"Intercept\"],\n",
    "    columns = [\"Coefficients\"],\n",
    ")\n",
    "round(coef_df, 1)"
   ]
  },
  {
   "cell_type": "markdown",
   "id": "e3fd0aab",
   "metadata": {},
   "source": [
    "Coefficient Interpretation:\n",
    "- Positive coefficients such as Year, Engine, and Power were associated with an increase in price. So increasing one of those led to an increase in price in this dataset\n",
    "- Negative coefficients such as Seats and Mileage were associated with a decrease in price. So increasing one of those led to an decrease in price in this dataset\n",
    "- The dummy variable can be measured as their effect on price relative to the first reference level. For example, Transmission_Manual has a large positive coefficient, which means manual cars were associated with higher price when compared to automatic cars.\n",
    "- Interestingly, Brand_Bentley has a large negative coefficient, despite being associated with high prices in our EDA."
   ]
  },
  {
   "cell_type": "markdown",
   "id": "ca23a10a",
   "metadata": {},
   "source": [
    "## Model Performance Evaluation"
   ]
  },
  {
   "cell_type": "code",
   "execution_count": 57,
   "id": "1f768737",
   "metadata": {},
   "outputs": [],
   "source": [
    "# function to compute adjusted R-squared\n",
    "def adj_r2_score(predictors, targets, predictions):\n",
    "    r2 = r2_score(targets, predictions)\n",
    "    n = predictors.shape[0]\n",
    "    k = predictors.shape[1]\n",
    "    return 1 - ((1 - r2) * (n - 1) / (n - k - 1))\n",
    "\n",
    "\n",
    "# function to compute MAPE\n",
    "def mape_score(targets, predictions):\n",
    "    return np.mean(np.abs(targets - predictions) / targets) * 100\n",
    "\n",
    "\n",
    "# function to compute different metrics to check performance of a regression model\n",
    "def model_performance_regression(model, predictors, target):\n",
    "    \"\"\"\n",
    "    Function to compute different metrics to check regression model performance\n",
    "\n",
    "    model: regressor\n",
    "    predictors: independent variables\n",
    "    target: dependent variable\n",
    "    \"\"\"\n",
    "\n",
    "    # predicting using the independent variables\n",
    "    pred = model.predict(predictors)\n",
    "\n",
    "    r2 = r2_score(target, pred)  # to compute R-squared\n",
    "    adjr2 = adj_r2_score(predictors, target, pred)  # to compute adjusted R-squared\n",
    "    rmse = np.sqrt(mean_squared_error(target, pred))  # to compute RMSE\n",
    "    mae = mean_absolute_error(target, pred)  # to compute MAE\n",
    "    mape = mape_score(target, pred)  # to compute MAPE\n",
    "\n",
    "    # creating a dataframe of metrics\n",
    "    df_perf = pd.DataFrame(\n",
    "        {\n",
    "            \"RMSE\": rmse,\n",
    "            \"MAE\": mae,\n",
    "            \"R-squared\": r2,\n",
    "            \"Adj. R-squared\": adjr2,\n",
    "            \"MAPE\": mape,\n",
    "        },\n",
    "        index=[0],\n",
    "    )\n",
    "\n",
    "    return df_perf"
   ]
  },
  {
   "cell_type": "code",
   "execution_count": 58,
   "id": "25d7a086",
   "metadata": {},
   "outputs": [
    {
     "name": "stdout",
     "output_type": "stream",
     "text": [
      "Training Performance\n",
      "\n"
     ]
    },
    {
     "data": {
      "text/html": [
       "<div>\n",
       "<style scoped>\n",
       "    .dataframe tbody tr th:only-of-type {\n",
       "        vertical-align: middle;\n",
       "    }\n",
       "\n",
       "    .dataframe tbody tr th {\n",
       "        vertical-align: top;\n",
       "    }\n",
       "\n",
       "    .dataframe thead th {\n",
       "        text-align: right;\n",
       "    }\n",
       "</style>\n",
       "<table border=\"1\" class=\"dataframe\">\n",
       "  <thead>\n",
       "    <tr style=\"text-align: right;\">\n",
       "      <th></th>\n",
       "      <th>RMSE</th>\n",
       "      <th>MAE</th>\n",
       "      <th>R-squared</th>\n",
       "      <th>Adj. R-squared</th>\n",
       "      <th>MAPE</th>\n",
       "    </tr>\n",
       "  </thead>\n",
       "  <tbody>\n",
       "    <tr>\n",
       "      <th>0</th>\n",
       "      <td>517337.832703</td>\n",
       "      <td>281676.386062</td>\n",
       "      <td>0.7908</td>\n",
       "      <td>0.788407</td>\n",
       "      <td>56.204625</td>\n",
       "    </tr>\n",
       "  </tbody>\n",
       "</table>\n",
       "</div>"
      ],
      "text/plain": [
       "            RMSE            MAE  R-squared  Adj. R-squared       MAPE\n",
       "0  517337.832703  281676.386062     0.7908        0.788407  56.204625"
      ]
     },
     "execution_count": 58,
     "metadata": {},
     "output_type": "execute_result"
    }
   ],
   "source": [
    "# Checking model performance on train set\n",
    "print(\"Training Performance\\n\")\n",
    "lin_reg_model_train_perf = model_performance_regression(lin_reg_model, x_train, y_train)\n",
    "lin_reg_model_train_perf"
   ]
  },
  {
   "cell_type": "code",
   "execution_count": 59,
   "id": "fa770f39",
   "metadata": {},
   "outputs": [
    {
     "name": "stdout",
     "output_type": "stream",
     "text": [
      "Test Performance\n",
      "\n"
     ]
    },
    {
     "data": {
      "text/html": [
       "<div>\n",
       "<style scoped>\n",
       "    .dataframe tbody tr th:only-of-type {\n",
       "        vertical-align: middle;\n",
       "    }\n",
       "\n",
       "    .dataframe tbody tr th {\n",
       "        vertical-align: top;\n",
       "    }\n",
       "\n",
       "    .dataframe thead th {\n",
       "        text-align: right;\n",
       "    }\n",
       "</style>\n",
       "<table border=\"1\" class=\"dataframe\">\n",
       "  <thead>\n",
       "    <tr style=\"text-align: right;\">\n",
       "      <th></th>\n",
       "      <th>RMSE</th>\n",
       "      <th>MAE</th>\n",
       "      <th>R-squared</th>\n",
       "      <th>Adj. R-squared</th>\n",
       "      <th>MAPE</th>\n",
       "    </tr>\n",
       "  </thead>\n",
       "  <tbody>\n",
       "    <tr>\n",
       "      <th>0</th>\n",
       "      <td>482858.113611</td>\n",
       "      <td>276485.810637</td>\n",
       "      <td>0.795077</td>\n",
       "      <td>0.785361</td>\n",
       "      <td>55.426225</td>\n",
       "    </tr>\n",
       "  </tbody>\n",
       "</table>\n",
       "</div>"
      ],
      "text/plain": [
       "            RMSE            MAE  R-squared  Adj. R-squared       MAPE\n",
       "0  482858.113611  276485.810637   0.795077        0.785361  55.426225"
      ]
     },
     "execution_count": 59,
     "metadata": {},
     "output_type": "execute_result"
    }
   ],
   "source": [
    "# Checking model performance on test set\n",
    "print(\"Test Performance\\n\")\n",
    "lin_reg_model_test_perf = model_performance_regression(lin_reg_model, x_test, y_test)\n",
    "lin_reg_model_test_perf"
   ]
  },
  {
   "cell_type": "markdown",
   "id": "00f1f5eb",
   "metadata": {},
   "source": [
    "- The R^2 values are 79.08% and 79.51% for train and test sets. This means the model performs well and can explain 79% of the variance in both datasets.\n",
    "- The R^2 and RMSE values are similar for both test and training sets. This shows that the model is not overfitting.\n",
    "- The MAE is very high, which means there is high mean error on our models predictions.\n",
    "- Additionally, the MAPE is 56 and 55 in train and test sets respectively, so the model can predict within 55%-56% of the correct prices.\n",
    "- The overall performance of the model is decent, because although there are high errors, the R^2 is high and the model is not overfitting."
   ]
  },
  {
   "cell_type": "markdown",
   "id": "fd467590",
   "metadata": {},
   "source": [
    "# Conclusion"
   ]
  },
  {
   "cell_type": "markdown",
   "id": "b658a761",
   "metadata": {},
   "source": [
    "## Insights and Recommendations"
   ]
  },
  {
   "cell_type": "markdown",
   "id": "f03cdbe0",
   "metadata": {},
   "source": [
    "- We were able to build a linear model that can predict the price of used cars with 79% accuracy.\n",
    "- Lamborghinis, large and powerful engines, and newer models tend to increase the price.\n",
    "- Electric cars, manuals, and cars with many owners also drive the price up.\n",
    "- Petrol and diesel cars as well as cars with two owners drive the price down.\n",
    "- Cars with better mileage and more seats are cheaper.\n",
    "- Cars in Kolkuta, Dehli, and Mumbai are cheaper than other locations.\n",
    "- Similarly, cars in Bangalore, Hyderabad, and Coimbatore are more expensive."
   ]
  },
  {
   "cell_type": "markdown",
   "id": "c5cdb517",
   "metadata": {},
   "source": [
    "- Cars4U can used location based pricing as the market price in different locations would be different. We know from our model that used car prices in Mumbai are lower than prices in Bangalore, so they can set the prices higher in Bangalore and lower in Mumbai.\n",
    "- Using the location based strategy, Cars4U could try to sell more small petrol and diesel cars in places like Mumbai and Dehli, where prices are lower, and try to sell more exotic cars like Lamborghinis and electric cars that are more costly in places like Bangalore.\n",
    "- Automatic cars with small engines that are older would tend to sell better in Kolkuta than in Coimbatore. When selling these cars in places like Coimbatore, Cars4U would have an opportunity to drive up the price and make a profit.\n",
    "- Since many car dealerships participate in resell programs, selling newer powerful cars in pricey locations, then buying those cars back after a few years when they are old and are relatively less powerful, then selling thse in cheaper locations could be an opportunity for profit."
   ]
  }
 ],
 "metadata": {
  "kernelspec": {
   "display_name": "Python 3",
   "language": "python",
   "name": "python3"
  },
  "language_info": {
   "codemirror_mode": {
    "name": "ipython",
    "version": 3
   },
   "file_extension": ".py",
   "mimetype": "text/x-python",
   "name": "python",
   "nbconvert_exporter": "python",
   "pygments_lexer": "ipython3",
   "version": "3.8.8"
  }
 },
 "nbformat": 4,
 "nbformat_minor": 5
}
