{
 "cells": [
  {
   "cell_type": "markdown",
   "id": "e4f0781b",
   "metadata": {},
   "source": [
    "# Travel Package Purchase: Ensemble Techniques\n",
    "## By: Swaraj Tripathy"
   ]
  },
  {
   "cell_type": "markdown",
   "id": "559aa414",
   "metadata": {},
   "source": [
    "The goal of this project is to identify customers who are likely to purchase the newly introduced Wellness Tourism Package for a tourism company. I will be creating predictive models using ensemble techniques, particularly bagging and boosting, to identify customers who are likely to purchase the tourism package. By identifying customers who are likely to purchase the package, the company can target these customers more than others in order to improve sales of their tourism package."
   ]
  },
  {
   "cell_type": "markdown",
   "id": "898a8cea",
   "metadata": {},
   "source": [
    "This project aims to answer the following questions: What types of customers are likely to purchase the wellness tourism package? How accurately can our model identify these customers? What are the most important attributes about a customer that determine whether or not they will purchase the package? "
   ]
  },
  {
   "cell_type": "code",
   "execution_count": 96,
   "id": "99b2fa3f",
   "metadata": {},
   "outputs": [],
   "source": [
    "# import relevant packages\n",
    "import pandas as pd\n",
    "import numpy as np\n",
    "from sklearn import metrics\n",
    "import matplotlib.pyplot as plt\n",
    "%matplotlib inline\n",
    "import warnings\n",
    "warnings.filterwarnings('ignore')\n",
    "import seaborn as sns\n",
    "from sklearn.model_selection import train_test_split\n",
    "from sklearn.model_selection import GridSearchCV\n",
    "from sklearn import metrics\n",
    "from sklearn.tree import DecisionTreeClassifier\n",
    "from sklearn.ensemble import BaggingClassifier, RandomForestClassifier, GradientBoostingClassifier, AdaBoostClassifier, StackingClassifier\n",
    "from xgboost import XGBClassifier\n",
    "from sklearn.metrics import make_scorer\n",
    "from sklearn.linear_model import LogisticRegression"
   ]
  },
  {
   "cell_type": "markdown",
   "id": "5220037c",
   "metadata": {},
   "source": [
    "## Exploratory Data Analysis"
   ]
  },
  {
   "cell_type": "code",
   "execution_count": 2,
   "id": "10588743",
   "metadata": {},
   "outputs": [
    {
     "data": {
      "text/html": [
       "<div>\n",
       "<style scoped>\n",
       "    .dataframe tbody tr th:only-of-type {\n",
       "        vertical-align: middle;\n",
       "    }\n",
       "\n",
       "    .dataframe tbody tr th {\n",
       "        vertical-align: top;\n",
       "    }\n",
       "\n",
       "    .dataframe thead th {\n",
       "        text-align: right;\n",
       "    }\n",
       "</style>\n",
       "<table border=\"1\" class=\"dataframe\">\n",
       "  <thead>\n",
       "    <tr style=\"text-align: right;\">\n",
       "      <th></th>\n",
       "      <th>CustomerID</th>\n",
       "      <th>ProdTaken</th>\n",
       "      <th>Age</th>\n",
       "      <th>TypeofContact</th>\n",
       "      <th>CityTier</th>\n",
       "      <th>DurationOfPitch</th>\n",
       "      <th>Occupation</th>\n",
       "      <th>Gender</th>\n",
       "      <th>NumberOfPersonVisiting</th>\n",
       "      <th>NumberOfFollowups</th>\n",
       "      <th>ProductPitched</th>\n",
       "      <th>PreferredPropertyStar</th>\n",
       "      <th>MaritalStatus</th>\n",
       "      <th>NumberOfTrips</th>\n",
       "      <th>Passport</th>\n",
       "      <th>PitchSatisfactionScore</th>\n",
       "      <th>OwnCar</th>\n",
       "      <th>NumberOfChildrenVisiting</th>\n",
       "      <th>Designation</th>\n",
       "      <th>MonthlyIncome</th>\n",
       "    </tr>\n",
       "  </thead>\n",
       "  <tbody>\n",
       "    <tr>\n",
       "      <th>0</th>\n",
       "      <td>200000</td>\n",
       "      <td>1</td>\n",
       "      <td>41.0</td>\n",
       "      <td>Self Enquiry</td>\n",
       "      <td>3</td>\n",
       "      <td>6.0</td>\n",
       "      <td>Salaried</td>\n",
       "      <td>Female</td>\n",
       "      <td>3</td>\n",
       "      <td>3.0</td>\n",
       "      <td>Deluxe</td>\n",
       "      <td>3.0</td>\n",
       "      <td>Single</td>\n",
       "      <td>1.0</td>\n",
       "      <td>1</td>\n",
       "      <td>2</td>\n",
       "      <td>1</td>\n",
       "      <td>0.0</td>\n",
       "      <td>Manager</td>\n",
       "      <td>20993.0</td>\n",
       "    </tr>\n",
       "    <tr>\n",
       "      <th>1</th>\n",
       "      <td>200001</td>\n",
       "      <td>0</td>\n",
       "      <td>49.0</td>\n",
       "      <td>Company Invited</td>\n",
       "      <td>1</td>\n",
       "      <td>14.0</td>\n",
       "      <td>Salaried</td>\n",
       "      <td>Male</td>\n",
       "      <td>3</td>\n",
       "      <td>4.0</td>\n",
       "      <td>Deluxe</td>\n",
       "      <td>4.0</td>\n",
       "      <td>Divorced</td>\n",
       "      <td>2.0</td>\n",
       "      <td>0</td>\n",
       "      <td>3</td>\n",
       "      <td>1</td>\n",
       "      <td>2.0</td>\n",
       "      <td>Manager</td>\n",
       "      <td>20130.0</td>\n",
       "    </tr>\n",
       "    <tr>\n",
       "      <th>2</th>\n",
       "      <td>200002</td>\n",
       "      <td>1</td>\n",
       "      <td>37.0</td>\n",
       "      <td>Self Enquiry</td>\n",
       "      <td>1</td>\n",
       "      <td>8.0</td>\n",
       "      <td>Free Lancer</td>\n",
       "      <td>Male</td>\n",
       "      <td>3</td>\n",
       "      <td>4.0</td>\n",
       "      <td>Basic</td>\n",
       "      <td>3.0</td>\n",
       "      <td>Single</td>\n",
       "      <td>7.0</td>\n",
       "      <td>1</td>\n",
       "      <td>3</td>\n",
       "      <td>0</td>\n",
       "      <td>0.0</td>\n",
       "      <td>Executive</td>\n",
       "      <td>17090.0</td>\n",
       "    </tr>\n",
       "    <tr>\n",
       "      <th>3</th>\n",
       "      <td>200003</td>\n",
       "      <td>0</td>\n",
       "      <td>33.0</td>\n",
       "      <td>Company Invited</td>\n",
       "      <td>1</td>\n",
       "      <td>9.0</td>\n",
       "      <td>Salaried</td>\n",
       "      <td>Female</td>\n",
       "      <td>2</td>\n",
       "      <td>3.0</td>\n",
       "      <td>Basic</td>\n",
       "      <td>3.0</td>\n",
       "      <td>Divorced</td>\n",
       "      <td>2.0</td>\n",
       "      <td>1</td>\n",
       "      <td>5</td>\n",
       "      <td>1</td>\n",
       "      <td>1.0</td>\n",
       "      <td>Executive</td>\n",
       "      <td>17909.0</td>\n",
       "    </tr>\n",
       "    <tr>\n",
       "      <th>4</th>\n",
       "      <td>200004</td>\n",
       "      <td>0</td>\n",
       "      <td>NaN</td>\n",
       "      <td>Self Enquiry</td>\n",
       "      <td>1</td>\n",
       "      <td>8.0</td>\n",
       "      <td>Small Business</td>\n",
       "      <td>Male</td>\n",
       "      <td>2</td>\n",
       "      <td>3.0</td>\n",
       "      <td>Basic</td>\n",
       "      <td>4.0</td>\n",
       "      <td>Divorced</td>\n",
       "      <td>1.0</td>\n",
       "      <td>0</td>\n",
       "      <td>5</td>\n",
       "      <td>1</td>\n",
       "      <td>0.0</td>\n",
       "      <td>Executive</td>\n",
       "      <td>18468.0</td>\n",
       "    </tr>\n",
       "    <tr>\n",
       "      <th>5</th>\n",
       "      <td>200005</td>\n",
       "      <td>0</td>\n",
       "      <td>32.0</td>\n",
       "      <td>Company Invited</td>\n",
       "      <td>1</td>\n",
       "      <td>8.0</td>\n",
       "      <td>Salaried</td>\n",
       "      <td>Male</td>\n",
       "      <td>3</td>\n",
       "      <td>3.0</td>\n",
       "      <td>Basic</td>\n",
       "      <td>3.0</td>\n",
       "      <td>Single</td>\n",
       "      <td>1.0</td>\n",
       "      <td>0</td>\n",
       "      <td>5</td>\n",
       "      <td>1</td>\n",
       "      <td>1.0</td>\n",
       "      <td>Executive</td>\n",
       "      <td>18068.0</td>\n",
       "    </tr>\n",
       "    <tr>\n",
       "      <th>6</th>\n",
       "      <td>200006</td>\n",
       "      <td>0</td>\n",
       "      <td>59.0</td>\n",
       "      <td>Self Enquiry</td>\n",
       "      <td>1</td>\n",
       "      <td>9.0</td>\n",
       "      <td>Small Business</td>\n",
       "      <td>Female</td>\n",
       "      <td>2</td>\n",
       "      <td>2.0</td>\n",
       "      <td>Basic</td>\n",
       "      <td>5.0</td>\n",
       "      <td>Divorced</td>\n",
       "      <td>5.0</td>\n",
       "      <td>1</td>\n",
       "      <td>2</td>\n",
       "      <td>1</td>\n",
       "      <td>1.0</td>\n",
       "      <td>Executive</td>\n",
       "      <td>17670.0</td>\n",
       "    </tr>\n",
       "    <tr>\n",
       "      <th>7</th>\n",
       "      <td>200007</td>\n",
       "      <td>0</td>\n",
       "      <td>30.0</td>\n",
       "      <td>Self Enquiry</td>\n",
       "      <td>1</td>\n",
       "      <td>30.0</td>\n",
       "      <td>Salaried</td>\n",
       "      <td>Male</td>\n",
       "      <td>3</td>\n",
       "      <td>3.0</td>\n",
       "      <td>Basic</td>\n",
       "      <td>3.0</td>\n",
       "      <td>Married</td>\n",
       "      <td>2.0</td>\n",
       "      <td>0</td>\n",
       "      <td>2</td>\n",
       "      <td>0</td>\n",
       "      <td>1.0</td>\n",
       "      <td>Executive</td>\n",
       "      <td>17693.0</td>\n",
       "    </tr>\n",
       "    <tr>\n",
       "      <th>8</th>\n",
       "      <td>200008</td>\n",
       "      <td>0</td>\n",
       "      <td>38.0</td>\n",
       "      <td>Company Invited</td>\n",
       "      <td>1</td>\n",
       "      <td>29.0</td>\n",
       "      <td>Salaried</td>\n",
       "      <td>Male</td>\n",
       "      <td>2</td>\n",
       "      <td>4.0</td>\n",
       "      <td>Standard</td>\n",
       "      <td>3.0</td>\n",
       "      <td>Unmarried</td>\n",
       "      <td>1.0</td>\n",
       "      <td>0</td>\n",
       "      <td>3</td>\n",
       "      <td>0</td>\n",
       "      <td>0.0</td>\n",
       "      <td>Senior Manager</td>\n",
       "      <td>24526.0</td>\n",
       "    </tr>\n",
       "    <tr>\n",
       "      <th>9</th>\n",
       "      <td>200009</td>\n",
       "      <td>0</td>\n",
       "      <td>36.0</td>\n",
       "      <td>Self Enquiry</td>\n",
       "      <td>1</td>\n",
       "      <td>33.0</td>\n",
       "      <td>Small Business</td>\n",
       "      <td>Male</td>\n",
       "      <td>3</td>\n",
       "      <td>3.0</td>\n",
       "      <td>Deluxe</td>\n",
       "      <td>3.0</td>\n",
       "      <td>Divorced</td>\n",
       "      <td>7.0</td>\n",
       "      <td>0</td>\n",
       "      <td>3</td>\n",
       "      <td>1</td>\n",
       "      <td>0.0</td>\n",
       "      <td>Manager</td>\n",
       "      <td>20237.0</td>\n",
       "    </tr>\n",
       "  </tbody>\n",
       "</table>\n",
       "</div>"
      ],
      "text/plain": [
       "   CustomerID  ProdTaken   Age    TypeofContact  CityTier  DurationOfPitch  \\\n",
       "0      200000          1  41.0     Self Enquiry         3              6.0   \n",
       "1      200001          0  49.0  Company Invited         1             14.0   \n",
       "2      200002          1  37.0     Self Enquiry         1              8.0   \n",
       "3      200003          0  33.0  Company Invited         1              9.0   \n",
       "4      200004          0   NaN     Self Enquiry         1              8.0   \n",
       "5      200005          0  32.0  Company Invited         1              8.0   \n",
       "6      200006          0  59.0     Self Enquiry         1              9.0   \n",
       "7      200007          0  30.0     Self Enquiry         1             30.0   \n",
       "8      200008          0  38.0  Company Invited         1             29.0   \n",
       "9      200009          0  36.0     Self Enquiry         1             33.0   \n",
       "\n",
       "       Occupation  Gender  NumberOfPersonVisiting  NumberOfFollowups  \\\n",
       "0        Salaried  Female                       3                3.0   \n",
       "1        Salaried    Male                       3                4.0   \n",
       "2     Free Lancer    Male                       3                4.0   \n",
       "3        Salaried  Female                       2                3.0   \n",
       "4  Small Business    Male                       2                3.0   \n",
       "5        Salaried    Male                       3                3.0   \n",
       "6  Small Business  Female                       2                2.0   \n",
       "7        Salaried    Male                       3                3.0   \n",
       "8        Salaried    Male                       2                4.0   \n",
       "9  Small Business    Male                       3                3.0   \n",
       "\n",
       "  ProductPitched  PreferredPropertyStar MaritalStatus  NumberOfTrips  \\\n",
       "0         Deluxe                    3.0        Single            1.0   \n",
       "1         Deluxe                    4.0      Divorced            2.0   \n",
       "2          Basic                    3.0        Single            7.0   \n",
       "3          Basic                    3.0      Divorced            2.0   \n",
       "4          Basic                    4.0      Divorced            1.0   \n",
       "5          Basic                    3.0        Single            1.0   \n",
       "6          Basic                    5.0      Divorced            5.0   \n",
       "7          Basic                    3.0       Married            2.0   \n",
       "8       Standard                    3.0     Unmarried            1.0   \n",
       "9         Deluxe                    3.0      Divorced            7.0   \n",
       "\n",
       "   Passport  PitchSatisfactionScore  OwnCar  NumberOfChildrenVisiting  \\\n",
       "0         1                       2       1                       0.0   \n",
       "1         0                       3       1                       2.0   \n",
       "2         1                       3       0                       0.0   \n",
       "3         1                       5       1                       1.0   \n",
       "4         0                       5       1                       0.0   \n",
       "5         0                       5       1                       1.0   \n",
       "6         1                       2       1                       1.0   \n",
       "7         0                       2       0                       1.0   \n",
       "8         0                       3       0                       0.0   \n",
       "9         0                       3       1                       0.0   \n",
       "\n",
       "      Designation  MonthlyIncome  \n",
       "0         Manager        20993.0  \n",
       "1         Manager        20130.0  \n",
       "2       Executive        17090.0  \n",
       "3       Executive        17909.0  \n",
       "4       Executive        18468.0  \n",
       "5       Executive        18068.0  \n",
       "6       Executive        17670.0  \n",
       "7       Executive        17693.0  \n",
       "8  Senior Manager        24526.0  \n",
       "9         Manager        20237.0  "
      ]
     },
     "execution_count": 2,
     "metadata": {},
     "output_type": "execute_result"
    }
   ],
   "source": [
    "# load in the dataset\n",
    "raw_data = pd.read_excel(\"Tourism.xlsx\", sheet_name = \"Tourism\")\n",
    "raw_data.head(10)"
   ]
  },
  {
   "cell_type": "code",
   "execution_count": 3,
   "id": "bed4cf37",
   "metadata": {},
   "outputs": [
    {
     "data": {
      "text/html": [
       "<div>\n",
       "<style scoped>\n",
       "    .dataframe tbody tr th:only-of-type {\n",
       "        vertical-align: middle;\n",
       "    }\n",
       "\n",
       "    .dataframe tbody tr th {\n",
       "        vertical-align: top;\n",
       "    }\n",
       "\n",
       "    .dataframe thead th {\n",
       "        text-align: right;\n",
       "    }\n",
       "</style>\n",
       "<table border=\"1\" class=\"dataframe\">\n",
       "  <thead>\n",
       "    <tr style=\"text-align: right;\">\n",
       "      <th></th>\n",
       "      <th>CustomerID</th>\n",
       "      <th>ProdTaken</th>\n",
       "      <th>Age</th>\n",
       "      <th>TypeofContact</th>\n",
       "      <th>CityTier</th>\n",
       "      <th>DurationOfPitch</th>\n",
       "      <th>Occupation</th>\n",
       "      <th>Gender</th>\n",
       "      <th>NumberOfPersonVisiting</th>\n",
       "      <th>NumberOfFollowups</th>\n",
       "      <th>ProductPitched</th>\n",
       "      <th>PreferredPropertyStar</th>\n",
       "      <th>MaritalStatus</th>\n",
       "      <th>NumberOfTrips</th>\n",
       "      <th>Passport</th>\n",
       "      <th>PitchSatisfactionScore</th>\n",
       "      <th>OwnCar</th>\n",
       "      <th>NumberOfChildrenVisiting</th>\n",
       "      <th>Designation</th>\n",
       "      <th>MonthlyIncome</th>\n",
       "    </tr>\n",
       "  </thead>\n",
       "  <tbody>\n",
       "    <tr>\n",
       "      <th>0</th>\n",
       "      <td>200000</td>\n",
       "      <td>1</td>\n",
       "      <td>41.0</td>\n",
       "      <td>Self Enquiry</td>\n",
       "      <td>3</td>\n",
       "      <td>6.0</td>\n",
       "      <td>Salaried</td>\n",
       "      <td>Female</td>\n",
       "      <td>3</td>\n",
       "      <td>3.0</td>\n",
       "      <td>Deluxe</td>\n",
       "      <td>3.0</td>\n",
       "      <td>Single</td>\n",
       "      <td>1.0</td>\n",
       "      <td>1</td>\n",
       "      <td>2</td>\n",
       "      <td>1</td>\n",
       "      <td>0.0</td>\n",
       "      <td>Manager</td>\n",
       "      <td>20993.0</td>\n",
       "    </tr>\n",
       "    <tr>\n",
       "      <th>1</th>\n",
       "      <td>200001</td>\n",
       "      <td>0</td>\n",
       "      <td>49.0</td>\n",
       "      <td>Company Invited</td>\n",
       "      <td>1</td>\n",
       "      <td>14.0</td>\n",
       "      <td>Salaried</td>\n",
       "      <td>Male</td>\n",
       "      <td>3</td>\n",
       "      <td>4.0</td>\n",
       "      <td>Deluxe</td>\n",
       "      <td>4.0</td>\n",
       "      <td>Divorced</td>\n",
       "      <td>2.0</td>\n",
       "      <td>0</td>\n",
       "      <td>3</td>\n",
       "      <td>1</td>\n",
       "      <td>2.0</td>\n",
       "      <td>Manager</td>\n",
       "      <td>20130.0</td>\n",
       "    </tr>\n",
       "    <tr>\n",
       "      <th>2</th>\n",
       "      <td>200002</td>\n",
       "      <td>1</td>\n",
       "      <td>37.0</td>\n",
       "      <td>Self Enquiry</td>\n",
       "      <td>1</td>\n",
       "      <td>8.0</td>\n",
       "      <td>Free Lancer</td>\n",
       "      <td>Male</td>\n",
       "      <td>3</td>\n",
       "      <td>4.0</td>\n",
       "      <td>Basic</td>\n",
       "      <td>3.0</td>\n",
       "      <td>Single</td>\n",
       "      <td>7.0</td>\n",
       "      <td>1</td>\n",
       "      <td>3</td>\n",
       "      <td>0</td>\n",
       "      <td>0.0</td>\n",
       "      <td>Executive</td>\n",
       "      <td>17090.0</td>\n",
       "    </tr>\n",
       "    <tr>\n",
       "      <th>3</th>\n",
       "      <td>200003</td>\n",
       "      <td>0</td>\n",
       "      <td>33.0</td>\n",
       "      <td>Company Invited</td>\n",
       "      <td>1</td>\n",
       "      <td>9.0</td>\n",
       "      <td>Salaried</td>\n",
       "      <td>Female</td>\n",
       "      <td>2</td>\n",
       "      <td>3.0</td>\n",
       "      <td>Basic</td>\n",
       "      <td>3.0</td>\n",
       "      <td>Divorced</td>\n",
       "      <td>2.0</td>\n",
       "      <td>1</td>\n",
       "      <td>5</td>\n",
       "      <td>1</td>\n",
       "      <td>1.0</td>\n",
       "      <td>Executive</td>\n",
       "      <td>17909.0</td>\n",
       "    </tr>\n",
       "    <tr>\n",
       "      <th>4</th>\n",
       "      <td>200004</td>\n",
       "      <td>0</td>\n",
       "      <td>NaN</td>\n",
       "      <td>Self Enquiry</td>\n",
       "      <td>1</td>\n",
       "      <td>8.0</td>\n",
       "      <td>Small Business</td>\n",
       "      <td>Male</td>\n",
       "      <td>2</td>\n",
       "      <td>3.0</td>\n",
       "      <td>Basic</td>\n",
       "      <td>4.0</td>\n",
       "      <td>Divorced</td>\n",
       "      <td>1.0</td>\n",
       "      <td>0</td>\n",
       "      <td>5</td>\n",
       "      <td>1</td>\n",
       "      <td>0.0</td>\n",
       "      <td>Executive</td>\n",
       "      <td>18468.0</td>\n",
       "    </tr>\n",
       "    <tr>\n",
       "      <th>5</th>\n",
       "      <td>200005</td>\n",
       "      <td>0</td>\n",
       "      <td>32.0</td>\n",
       "      <td>Company Invited</td>\n",
       "      <td>1</td>\n",
       "      <td>8.0</td>\n",
       "      <td>Salaried</td>\n",
       "      <td>Male</td>\n",
       "      <td>3</td>\n",
       "      <td>3.0</td>\n",
       "      <td>Basic</td>\n",
       "      <td>3.0</td>\n",
       "      <td>Single</td>\n",
       "      <td>1.0</td>\n",
       "      <td>0</td>\n",
       "      <td>5</td>\n",
       "      <td>1</td>\n",
       "      <td>1.0</td>\n",
       "      <td>Executive</td>\n",
       "      <td>18068.0</td>\n",
       "    </tr>\n",
       "    <tr>\n",
       "      <th>6</th>\n",
       "      <td>200006</td>\n",
       "      <td>0</td>\n",
       "      <td>59.0</td>\n",
       "      <td>Self Enquiry</td>\n",
       "      <td>1</td>\n",
       "      <td>9.0</td>\n",
       "      <td>Small Business</td>\n",
       "      <td>Female</td>\n",
       "      <td>2</td>\n",
       "      <td>2.0</td>\n",
       "      <td>Basic</td>\n",
       "      <td>5.0</td>\n",
       "      <td>Divorced</td>\n",
       "      <td>5.0</td>\n",
       "      <td>1</td>\n",
       "      <td>2</td>\n",
       "      <td>1</td>\n",
       "      <td>1.0</td>\n",
       "      <td>Executive</td>\n",
       "      <td>17670.0</td>\n",
       "    </tr>\n",
       "    <tr>\n",
       "      <th>7</th>\n",
       "      <td>200007</td>\n",
       "      <td>0</td>\n",
       "      <td>30.0</td>\n",
       "      <td>Self Enquiry</td>\n",
       "      <td>1</td>\n",
       "      <td>30.0</td>\n",
       "      <td>Salaried</td>\n",
       "      <td>Male</td>\n",
       "      <td>3</td>\n",
       "      <td>3.0</td>\n",
       "      <td>Basic</td>\n",
       "      <td>3.0</td>\n",
       "      <td>Married</td>\n",
       "      <td>2.0</td>\n",
       "      <td>0</td>\n",
       "      <td>2</td>\n",
       "      <td>0</td>\n",
       "      <td>1.0</td>\n",
       "      <td>Executive</td>\n",
       "      <td>17693.0</td>\n",
       "    </tr>\n",
       "    <tr>\n",
       "      <th>8</th>\n",
       "      <td>200008</td>\n",
       "      <td>0</td>\n",
       "      <td>38.0</td>\n",
       "      <td>Company Invited</td>\n",
       "      <td>1</td>\n",
       "      <td>29.0</td>\n",
       "      <td>Salaried</td>\n",
       "      <td>Male</td>\n",
       "      <td>2</td>\n",
       "      <td>4.0</td>\n",
       "      <td>Standard</td>\n",
       "      <td>3.0</td>\n",
       "      <td>Unmarried</td>\n",
       "      <td>1.0</td>\n",
       "      <td>0</td>\n",
       "      <td>3</td>\n",
       "      <td>0</td>\n",
       "      <td>0.0</td>\n",
       "      <td>Senior Manager</td>\n",
       "      <td>24526.0</td>\n",
       "    </tr>\n",
       "    <tr>\n",
       "      <th>9</th>\n",
       "      <td>200009</td>\n",
       "      <td>0</td>\n",
       "      <td>36.0</td>\n",
       "      <td>Self Enquiry</td>\n",
       "      <td>1</td>\n",
       "      <td>33.0</td>\n",
       "      <td>Small Business</td>\n",
       "      <td>Male</td>\n",
       "      <td>3</td>\n",
       "      <td>3.0</td>\n",
       "      <td>Deluxe</td>\n",
       "      <td>3.0</td>\n",
       "      <td>Divorced</td>\n",
       "      <td>7.0</td>\n",
       "      <td>0</td>\n",
       "      <td>3</td>\n",
       "      <td>1</td>\n",
       "      <td>0.0</td>\n",
       "      <td>Manager</td>\n",
       "      <td>20237.0</td>\n",
       "    </tr>\n",
       "  </tbody>\n",
       "</table>\n",
       "</div>"
      ],
      "text/plain": [
       "   CustomerID  ProdTaken   Age    TypeofContact  CityTier  DurationOfPitch  \\\n",
       "0      200000          1  41.0     Self Enquiry         3              6.0   \n",
       "1      200001          0  49.0  Company Invited         1             14.0   \n",
       "2      200002          1  37.0     Self Enquiry         1              8.0   \n",
       "3      200003          0  33.0  Company Invited         1              9.0   \n",
       "4      200004          0   NaN     Self Enquiry         1              8.0   \n",
       "5      200005          0  32.0  Company Invited         1              8.0   \n",
       "6      200006          0  59.0     Self Enquiry         1              9.0   \n",
       "7      200007          0  30.0     Self Enquiry         1             30.0   \n",
       "8      200008          0  38.0  Company Invited         1             29.0   \n",
       "9      200009          0  36.0     Self Enquiry         1             33.0   \n",
       "\n",
       "       Occupation  Gender  NumberOfPersonVisiting  NumberOfFollowups  \\\n",
       "0        Salaried  Female                       3                3.0   \n",
       "1        Salaried    Male                       3                4.0   \n",
       "2     Free Lancer    Male                       3                4.0   \n",
       "3        Salaried  Female                       2                3.0   \n",
       "4  Small Business    Male                       2                3.0   \n",
       "5        Salaried    Male                       3                3.0   \n",
       "6  Small Business  Female                       2                2.0   \n",
       "7        Salaried    Male                       3                3.0   \n",
       "8        Salaried    Male                       2                4.0   \n",
       "9  Small Business    Male                       3                3.0   \n",
       "\n",
       "  ProductPitched  PreferredPropertyStar MaritalStatus  NumberOfTrips  \\\n",
       "0         Deluxe                    3.0        Single            1.0   \n",
       "1         Deluxe                    4.0      Divorced            2.0   \n",
       "2          Basic                    3.0        Single            7.0   \n",
       "3          Basic                    3.0      Divorced            2.0   \n",
       "4          Basic                    4.0      Divorced            1.0   \n",
       "5          Basic                    3.0        Single            1.0   \n",
       "6          Basic                    5.0      Divorced            5.0   \n",
       "7          Basic                    3.0       Married            2.0   \n",
       "8       Standard                    3.0     Unmarried            1.0   \n",
       "9         Deluxe                    3.0      Divorced            7.0   \n",
       "\n",
       "   Passport  PitchSatisfactionScore  OwnCar  NumberOfChildrenVisiting  \\\n",
       "0         1                       2       1                       0.0   \n",
       "1         0                       3       1                       2.0   \n",
       "2         1                       3       0                       0.0   \n",
       "3         1                       5       1                       1.0   \n",
       "4         0                       5       1                       0.0   \n",
       "5         0                       5       1                       1.0   \n",
       "6         1                       2       1                       1.0   \n",
       "7         0                       2       0                       1.0   \n",
       "8         0                       3       0                       0.0   \n",
       "9         0                       3       1                       0.0   \n",
       "\n",
       "      Designation  MonthlyIncome  \n",
       "0         Manager        20993.0  \n",
       "1         Manager        20130.0  \n",
       "2       Executive        17090.0  \n",
       "3       Executive        17909.0  \n",
       "4       Executive        18468.0  \n",
       "5       Executive        18068.0  \n",
       "6       Executive        17670.0  \n",
       "7       Executive        17693.0  \n",
       "8  Senior Manager        24526.0  \n",
       "9         Manager        20237.0  "
      ]
     },
     "execution_count": 3,
     "metadata": {},
     "output_type": "execute_result"
    }
   ],
   "source": [
    "# make a copy of the data to be manipulated\n",
    "data = raw_data.copy()\n",
    "data.head(10)"
   ]
  },
  {
   "cell_type": "code",
   "execution_count": 4,
   "id": "1ddaa47b",
   "metadata": {},
   "outputs": [
    {
     "data": {
      "text/html": [
       "<div>\n",
       "<style scoped>\n",
       "    .dataframe tbody tr th:only-of-type {\n",
       "        vertical-align: middle;\n",
       "    }\n",
       "\n",
       "    .dataframe tbody tr th {\n",
       "        vertical-align: top;\n",
       "    }\n",
       "\n",
       "    .dataframe thead th {\n",
       "        text-align: right;\n",
       "    }\n",
       "</style>\n",
       "<table border=\"1\" class=\"dataframe\">\n",
       "  <thead>\n",
       "    <tr style=\"text-align: right;\">\n",
       "      <th></th>\n",
       "      <th>count</th>\n",
       "      <th>mean</th>\n",
       "      <th>std</th>\n",
       "      <th>min</th>\n",
       "      <th>25%</th>\n",
       "      <th>50%</th>\n",
       "      <th>75%</th>\n",
       "      <th>max</th>\n",
       "    </tr>\n",
       "  </thead>\n",
       "  <tbody>\n",
       "    <tr>\n",
       "      <th>CustomerID</th>\n",
       "      <td>4888.0</td>\n",
       "      <td>202443.500000</td>\n",
       "      <td>1411.188388</td>\n",
       "      <td>200000.0</td>\n",
       "      <td>201221.75</td>\n",
       "      <td>202443.5</td>\n",
       "      <td>203665.25</td>\n",
       "      <td>204887.0</td>\n",
       "    </tr>\n",
       "    <tr>\n",
       "      <th>ProdTaken</th>\n",
       "      <td>4888.0</td>\n",
       "      <td>0.188216</td>\n",
       "      <td>0.390925</td>\n",
       "      <td>0.0</td>\n",
       "      <td>0.00</td>\n",
       "      <td>0.0</td>\n",
       "      <td>0.00</td>\n",
       "      <td>1.0</td>\n",
       "    </tr>\n",
       "    <tr>\n",
       "      <th>Age</th>\n",
       "      <td>4662.0</td>\n",
       "      <td>37.622265</td>\n",
       "      <td>9.316387</td>\n",
       "      <td>18.0</td>\n",
       "      <td>31.00</td>\n",
       "      <td>36.0</td>\n",
       "      <td>44.00</td>\n",
       "      <td>61.0</td>\n",
       "    </tr>\n",
       "    <tr>\n",
       "      <th>CityTier</th>\n",
       "      <td>4888.0</td>\n",
       "      <td>1.654255</td>\n",
       "      <td>0.916583</td>\n",
       "      <td>1.0</td>\n",
       "      <td>1.00</td>\n",
       "      <td>1.0</td>\n",
       "      <td>3.00</td>\n",
       "      <td>3.0</td>\n",
       "    </tr>\n",
       "    <tr>\n",
       "      <th>DurationOfPitch</th>\n",
       "      <td>4637.0</td>\n",
       "      <td>15.490835</td>\n",
       "      <td>8.519643</td>\n",
       "      <td>5.0</td>\n",
       "      <td>9.00</td>\n",
       "      <td>13.0</td>\n",
       "      <td>20.00</td>\n",
       "      <td>127.0</td>\n",
       "    </tr>\n",
       "    <tr>\n",
       "      <th>NumberOfPersonVisiting</th>\n",
       "      <td>4888.0</td>\n",
       "      <td>2.905074</td>\n",
       "      <td>0.724891</td>\n",
       "      <td>1.0</td>\n",
       "      <td>2.00</td>\n",
       "      <td>3.0</td>\n",
       "      <td>3.00</td>\n",
       "      <td>5.0</td>\n",
       "    </tr>\n",
       "    <tr>\n",
       "      <th>NumberOfFollowups</th>\n",
       "      <td>4843.0</td>\n",
       "      <td>3.708445</td>\n",
       "      <td>1.002509</td>\n",
       "      <td>1.0</td>\n",
       "      <td>3.00</td>\n",
       "      <td>4.0</td>\n",
       "      <td>4.00</td>\n",
       "      <td>6.0</td>\n",
       "    </tr>\n",
       "    <tr>\n",
       "      <th>PreferredPropertyStar</th>\n",
       "      <td>4862.0</td>\n",
       "      <td>3.581037</td>\n",
       "      <td>0.798009</td>\n",
       "      <td>3.0</td>\n",
       "      <td>3.00</td>\n",
       "      <td>3.0</td>\n",
       "      <td>4.00</td>\n",
       "      <td>5.0</td>\n",
       "    </tr>\n",
       "    <tr>\n",
       "      <th>NumberOfTrips</th>\n",
       "      <td>4748.0</td>\n",
       "      <td>3.236521</td>\n",
       "      <td>1.849019</td>\n",
       "      <td>1.0</td>\n",
       "      <td>2.00</td>\n",
       "      <td>3.0</td>\n",
       "      <td>4.00</td>\n",
       "      <td>22.0</td>\n",
       "    </tr>\n",
       "    <tr>\n",
       "      <th>Passport</th>\n",
       "      <td>4888.0</td>\n",
       "      <td>0.290917</td>\n",
       "      <td>0.454232</td>\n",
       "      <td>0.0</td>\n",
       "      <td>0.00</td>\n",
       "      <td>0.0</td>\n",
       "      <td>1.00</td>\n",
       "      <td>1.0</td>\n",
       "    </tr>\n",
       "    <tr>\n",
       "      <th>PitchSatisfactionScore</th>\n",
       "      <td>4888.0</td>\n",
       "      <td>3.078151</td>\n",
       "      <td>1.365792</td>\n",
       "      <td>1.0</td>\n",
       "      <td>2.00</td>\n",
       "      <td>3.0</td>\n",
       "      <td>4.00</td>\n",
       "      <td>5.0</td>\n",
       "    </tr>\n",
       "    <tr>\n",
       "      <th>OwnCar</th>\n",
       "      <td>4888.0</td>\n",
       "      <td>0.620295</td>\n",
       "      <td>0.485363</td>\n",
       "      <td>0.0</td>\n",
       "      <td>0.00</td>\n",
       "      <td>1.0</td>\n",
       "      <td>1.00</td>\n",
       "      <td>1.0</td>\n",
       "    </tr>\n",
       "    <tr>\n",
       "      <th>NumberOfChildrenVisiting</th>\n",
       "      <td>4822.0</td>\n",
       "      <td>1.187267</td>\n",
       "      <td>0.857861</td>\n",
       "      <td>0.0</td>\n",
       "      <td>1.00</td>\n",
       "      <td>1.0</td>\n",
       "      <td>2.00</td>\n",
       "      <td>3.0</td>\n",
       "    </tr>\n",
       "    <tr>\n",
       "      <th>MonthlyIncome</th>\n",
       "      <td>4655.0</td>\n",
       "      <td>23619.853491</td>\n",
       "      <td>5380.698361</td>\n",
       "      <td>1000.0</td>\n",
       "      <td>20346.00</td>\n",
       "      <td>22347.0</td>\n",
       "      <td>25571.00</td>\n",
       "      <td>98678.0</td>\n",
       "    </tr>\n",
       "  </tbody>\n",
       "</table>\n",
       "</div>"
      ],
      "text/plain": [
       "                           count           mean          std       min  \\\n",
       "CustomerID                4888.0  202443.500000  1411.188388  200000.0   \n",
       "ProdTaken                 4888.0       0.188216     0.390925       0.0   \n",
       "Age                       4662.0      37.622265     9.316387      18.0   \n",
       "CityTier                  4888.0       1.654255     0.916583       1.0   \n",
       "DurationOfPitch           4637.0      15.490835     8.519643       5.0   \n",
       "NumberOfPersonVisiting    4888.0       2.905074     0.724891       1.0   \n",
       "NumberOfFollowups         4843.0       3.708445     1.002509       1.0   \n",
       "PreferredPropertyStar     4862.0       3.581037     0.798009       3.0   \n",
       "NumberOfTrips             4748.0       3.236521     1.849019       1.0   \n",
       "Passport                  4888.0       0.290917     0.454232       0.0   \n",
       "PitchSatisfactionScore    4888.0       3.078151     1.365792       1.0   \n",
       "OwnCar                    4888.0       0.620295     0.485363       0.0   \n",
       "NumberOfChildrenVisiting  4822.0       1.187267     0.857861       0.0   \n",
       "MonthlyIncome             4655.0   23619.853491  5380.698361    1000.0   \n",
       "\n",
       "                                25%       50%        75%       max  \n",
       "CustomerID                201221.75  202443.5  203665.25  204887.0  \n",
       "ProdTaken                      0.00       0.0       0.00       1.0  \n",
       "Age                           31.00      36.0      44.00      61.0  \n",
       "CityTier                       1.00       1.0       3.00       3.0  \n",
       "DurationOfPitch                9.00      13.0      20.00     127.0  \n",
       "NumberOfPersonVisiting         2.00       3.0       3.00       5.0  \n",
       "NumberOfFollowups              3.00       4.0       4.00       6.0  \n",
       "PreferredPropertyStar          3.00       3.0       4.00       5.0  \n",
       "NumberOfTrips                  2.00       3.0       4.00      22.0  \n",
       "Passport                       0.00       0.0       1.00       1.0  \n",
       "PitchSatisfactionScore         2.00       3.0       4.00       5.0  \n",
       "OwnCar                         0.00       1.0       1.00       1.0  \n",
       "NumberOfChildrenVisiting       1.00       1.0       2.00       3.0  \n",
       "MonthlyIncome              20346.00   22347.0   25571.00   98678.0  "
      ]
     },
     "execution_count": 4,
     "metadata": {},
     "output_type": "execute_result"
    }
   ],
   "source": [
    "# statistical summary of data\n",
    "data.describe().T"
   ]
  },
  {
   "cell_type": "code",
   "execution_count": 5,
   "id": "d98aa765",
   "metadata": {},
   "outputs": [
    {
     "data": {
      "text/plain": [
       "0"
      ]
     },
     "execution_count": 5,
     "metadata": {},
     "output_type": "execute_result"
    }
   ],
   "source": [
    "# number of duplicate rows\n",
    "data.duplicated().sum()"
   ]
  },
  {
   "cell_type": "code",
   "execution_count": 6,
   "id": "0cf81435",
   "metadata": {},
   "outputs": [],
   "source": [
    "# remove duplicate rows\n",
    "data = data.drop_duplicates()"
   ]
  },
  {
   "cell_type": "code",
   "execution_count": 7,
   "id": "9f7249ef",
   "metadata": {},
   "outputs": [
    {
     "name": "stdout",
     "output_type": "stream",
     "text": [
      "<class 'pandas.core.frame.DataFrame'>\n",
      "Int64Index: 4888 entries, 0 to 4887\n",
      "Data columns (total 20 columns):\n",
      " #   Column                    Non-Null Count  Dtype  \n",
      "---  ------                    --------------  -----  \n",
      " 0   CustomerID                4888 non-null   int64  \n",
      " 1   ProdTaken                 4888 non-null   int64  \n",
      " 2   Age                       4662 non-null   float64\n",
      " 3   TypeofContact             4863 non-null   object \n",
      " 4   CityTier                  4888 non-null   int64  \n",
      " 5   DurationOfPitch           4637 non-null   float64\n",
      " 6   Occupation                4888 non-null   object \n",
      " 7   Gender                    4888 non-null   object \n",
      " 8   NumberOfPersonVisiting    4888 non-null   int64  \n",
      " 9   NumberOfFollowups         4843 non-null   float64\n",
      " 10  ProductPitched            4888 non-null   object \n",
      " 11  PreferredPropertyStar     4862 non-null   float64\n",
      " 12  MaritalStatus             4888 non-null   object \n",
      " 13  NumberOfTrips             4748 non-null   float64\n",
      " 14  Passport                  4888 non-null   int64  \n",
      " 15  PitchSatisfactionScore    4888 non-null   int64  \n",
      " 16  OwnCar                    4888 non-null   int64  \n",
      " 17  NumberOfChildrenVisiting  4822 non-null   float64\n",
      " 18  Designation               4888 non-null   object \n",
      " 19  MonthlyIncome             4655 non-null   float64\n",
      "dtypes: float64(7), int64(7), object(6)\n",
      "memory usage: 801.9+ KB\n"
     ]
    }
   ],
   "source": [
    "# data types and missing values\n",
    "data.info()"
   ]
  },
  {
   "cell_type": "code",
   "execution_count": 8,
   "id": "b0cb0da1",
   "metadata": {},
   "outputs": [
    {
     "data": {
      "text/plain": [
       "CustomerID                    0\n",
       "ProdTaken                     0\n",
       "Age                         226\n",
       "TypeofContact                25\n",
       "CityTier                      0\n",
       "DurationOfPitch             251\n",
       "Occupation                    0\n",
       "Gender                        0\n",
       "NumberOfPersonVisiting        0\n",
       "NumberOfFollowups            45\n",
       "ProductPitched                0\n",
       "PreferredPropertyStar        26\n",
       "MaritalStatus                 0\n",
       "NumberOfTrips               140\n",
       "Passport                      0\n",
       "PitchSatisfactionScore        0\n",
       "OwnCar                        0\n",
       "NumberOfChildrenVisiting     66\n",
       "Designation                   0\n",
       "MonthlyIncome               233\n",
       "dtype: int64"
      ]
     },
     "execution_count": 8,
     "metadata": {},
     "output_type": "execute_result"
    }
   ],
   "source": [
    "# count missing values\n",
    "data.isna().sum()"
   ]
  },
  {
   "cell_type": "code",
   "execution_count": 9,
   "id": "6e36ce44",
   "metadata": {},
   "outputs": [],
   "source": [
    "# imputation of missing values\n",
    "# for continuous numerical variables, we impute the mean\n",
    "# for categorical variables, we impute the mode\n",
    "\n",
    "# mean imputation\n",
    "data[\"Age\"].fillna(np.round(data[\"Age\"].mean()), inplace = True)\n",
    "data[\"DurationOfPitch\"].fillna(np.round(data[\"DurationOfPitch\"].mean()), inplace = True)\n",
    "data[\"MonthlyIncome\"].fillna(np.round(data[\"MonthlyIncome\"].mean()), inplace = True)\n",
    "\n",
    "# mode imputation of remaining categorical variables\n",
    "data = data.fillna(data.mode().iloc[0])"
   ]
  },
  {
   "cell_type": "code",
   "execution_count": 10,
   "id": "e11f6b2a",
   "metadata": {},
   "outputs": [
    {
     "data": {
      "text/plain": [
       "CustomerID                  0\n",
       "ProdTaken                   0\n",
       "Age                         0\n",
       "TypeofContact               0\n",
       "CityTier                    0\n",
       "DurationOfPitch             0\n",
       "Occupation                  0\n",
       "Gender                      0\n",
       "NumberOfPersonVisiting      0\n",
       "NumberOfFollowups           0\n",
       "ProductPitched              0\n",
       "PreferredPropertyStar       0\n",
       "MaritalStatus               0\n",
       "NumberOfTrips               0\n",
       "Passport                    0\n",
       "PitchSatisfactionScore      0\n",
       "OwnCar                      0\n",
       "NumberOfChildrenVisiting    0\n",
       "Designation                 0\n",
       "MonthlyIncome               0\n",
       "dtype: int64"
      ]
     },
     "execution_count": 10,
     "metadata": {},
     "output_type": "execute_result"
    }
   ],
   "source": [
    "# check if we removed all missing values\n",
    "data.isna().sum()"
   ]
  },
  {
   "cell_type": "code",
   "execution_count": 11,
   "id": "eae4b6d9",
   "metadata": {},
   "outputs": [
    {
     "data": {
      "text/plain": [
       "(4888, 20)"
      ]
     },
     "execution_count": 11,
     "metadata": {},
     "output_type": "execute_result"
    }
   ],
   "source": [
    "# check the shape of the data\n",
    "data.shape"
   ]
  },
  {
   "cell_type": "code",
   "execution_count": 12,
   "id": "090ea860",
   "metadata": {},
   "outputs": [
    {
     "data": {
      "text/plain": [
       "0    0.811784\n",
       "1    0.188216\n",
       "Name: ProdTaken, dtype: float64"
      ]
     },
     "execution_count": 12,
     "metadata": {},
     "output_type": "execute_result"
    }
   ],
   "source": [
    "# balance of target variable for purchasing the package\n",
    "data[\"ProdTaken\"].value_counts(normalize = True)"
   ]
  },
  {
   "cell_type": "code",
   "execution_count": 13,
   "id": "3776b731",
   "metadata": {},
   "outputs": [],
   "source": [
    "# fix misentered gender entries\n",
    "data[\"Gender\"].replace(\"Fe Male\", \"Female\", inplace = True)"
   ]
  },
  {
   "cell_type": "code",
   "execution_count": 14,
   "id": "a56881e3",
   "metadata": {},
   "outputs": [
    {
     "data": {
      "text/plain": [
       "Male      2916\n",
       "Female    1972\n",
       "Name: Gender, dtype: int64"
      ]
     },
     "execution_count": 14,
     "metadata": {},
     "output_type": "execute_result"
    }
   ],
   "source": [
    "# check that the correction worked\n",
    "data[\"Gender\"].value_counts()"
   ]
  },
  {
   "cell_type": "code",
   "execution_count": 15,
   "id": "a0fcb6d8",
   "metadata": {},
   "outputs": [
    {
     "data": {
      "text/html": [
       "<div>\n",
       "<style scoped>\n",
       "    .dataframe tbody tr th:only-of-type {\n",
       "        vertical-align: middle;\n",
       "    }\n",
       "\n",
       "    .dataframe tbody tr th {\n",
       "        vertical-align: top;\n",
       "    }\n",
       "\n",
       "    .dataframe thead th {\n",
       "        text-align: right;\n",
       "    }\n",
       "</style>\n",
       "<table border=\"1\" class=\"dataframe\">\n",
       "  <thead>\n",
       "    <tr style=\"text-align: right;\">\n",
       "      <th></th>\n",
       "      <th>CustomerID</th>\n",
       "      <th>ProdTaken</th>\n",
       "      <th>Age</th>\n",
       "      <th>TypeofContact</th>\n",
       "      <th>CityTier</th>\n",
       "      <th>DurationOfPitch</th>\n",
       "      <th>Occupation</th>\n",
       "      <th>Gender</th>\n",
       "      <th>NumberOfPersonVisiting</th>\n",
       "      <th>NumberOfFollowups</th>\n",
       "      <th>ProductPitched</th>\n",
       "      <th>PreferredPropertyStar</th>\n",
       "      <th>MaritalStatus</th>\n",
       "      <th>NumberOfTrips</th>\n",
       "      <th>Passport</th>\n",
       "      <th>PitchSatisfactionScore</th>\n",
       "      <th>OwnCar</th>\n",
       "      <th>NumberOfChildrenVisiting</th>\n",
       "      <th>Designation</th>\n",
       "      <th>MonthlyIncome</th>\n",
       "    </tr>\n",
       "  </thead>\n",
       "  <tbody>\n",
       "    <tr>\n",
       "      <th>0</th>\n",
       "      <td>200000</td>\n",
       "      <td>1</td>\n",
       "      <td>41.0</td>\n",
       "      <td>Self Enquiry</td>\n",
       "      <td>3</td>\n",
       "      <td>6.0</td>\n",
       "      <td>Salaried</td>\n",
       "      <td>Female</td>\n",
       "      <td>3</td>\n",
       "      <td>3.0</td>\n",
       "      <td>Deluxe</td>\n",
       "      <td>3.0</td>\n",
       "      <td>Single</td>\n",
       "      <td>1.0</td>\n",
       "      <td>1</td>\n",
       "      <td>2</td>\n",
       "      <td>1</td>\n",
       "      <td>0.0</td>\n",
       "      <td>Manager</td>\n",
       "      <td>20993.0</td>\n",
       "    </tr>\n",
       "    <tr>\n",
       "      <th>1</th>\n",
       "      <td>200001</td>\n",
       "      <td>0</td>\n",
       "      <td>49.0</td>\n",
       "      <td>Company Invited</td>\n",
       "      <td>1</td>\n",
       "      <td>14.0</td>\n",
       "      <td>Salaried</td>\n",
       "      <td>Male</td>\n",
       "      <td>3</td>\n",
       "      <td>4.0</td>\n",
       "      <td>Deluxe</td>\n",
       "      <td>4.0</td>\n",
       "      <td>Divorced</td>\n",
       "      <td>2.0</td>\n",
       "      <td>0</td>\n",
       "      <td>3</td>\n",
       "      <td>1</td>\n",
       "      <td>2.0</td>\n",
       "      <td>Manager</td>\n",
       "      <td>20130.0</td>\n",
       "    </tr>\n",
       "    <tr>\n",
       "      <th>2</th>\n",
       "      <td>200002</td>\n",
       "      <td>1</td>\n",
       "      <td>37.0</td>\n",
       "      <td>Self Enquiry</td>\n",
       "      <td>1</td>\n",
       "      <td>8.0</td>\n",
       "      <td>Free Lancer</td>\n",
       "      <td>Male</td>\n",
       "      <td>3</td>\n",
       "      <td>4.0</td>\n",
       "      <td>Basic</td>\n",
       "      <td>3.0</td>\n",
       "      <td>Single</td>\n",
       "      <td>7.0</td>\n",
       "      <td>1</td>\n",
       "      <td>3</td>\n",
       "      <td>0</td>\n",
       "      <td>0.0</td>\n",
       "      <td>Executive</td>\n",
       "      <td>17090.0</td>\n",
       "    </tr>\n",
       "    <tr>\n",
       "      <th>3</th>\n",
       "      <td>200003</td>\n",
       "      <td>0</td>\n",
       "      <td>33.0</td>\n",
       "      <td>Company Invited</td>\n",
       "      <td>1</td>\n",
       "      <td>9.0</td>\n",
       "      <td>Salaried</td>\n",
       "      <td>Female</td>\n",
       "      <td>2</td>\n",
       "      <td>3.0</td>\n",
       "      <td>Basic</td>\n",
       "      <td>3.0</td>\n",
       "      <td>Divorced</td>\n",
       "      <td>2.0</td>\n",
       "      <td>1</td>\n",
       "      <td>5</td>\n",
       "      <td>1</td>\n",
       "      <td>1.0</td>\n",
       "      <td>Executive</td>\n",
       "      <td>17909.0</td>\n",
       "    </tr>\n",
       "    <tr>\n",
       "      <th>4</th>\n",
       "      <td>200004</td>\n",
       "      <td>0</td>\n",
       "      <td>38.0</td>\n",
       "      <td>Self Enquiry</td>\n",
       "      <td>1</td>\n",
       "      <td>8.0</td>\n",
       "      <td>Small Business</td>\n",
       "      <td>Male</td>\n",
       "      <td>2</td>\n",
       "      <td>3.0</td>\n",
       "      <td>Basic</td>\n",
       "      <td>4.0</td>\n",
       "      <td>Divorced</td>\n",
       "      <td>1.0</td>\n",
       "      <td>0</td>\n",
       "      <td>5</td>\n",
       "      <td>1</td>\n",
       "      <td>0.0</td>\n",
       "      <td>Executive</td>\n",
       "      <td>18468.0</td>\n",
       "    </tr>\n",
       "    <tr>\n",
       "      <th>5</th>\n",
       "      <td>200005</td>\n",
       "      <td>0</td>\n",
       "      <td>32.0</td>\n",
       "      <td>Company Invited</td>\n",
       "      <td>1</td>\n",
       "      <td>8.0</td>\n",
       "      <td>Salaried</td>\n",
       "      <td>Male</td>\n",
       "      <td>3</td>\n",
       "      <td>3.0</td>\n",
       "      <td>Basic</td>\n",
       "      <td>3.0</td>\n",
       "      <td>Single</td>\n",
       "      <td>1.0</td>\n",
       "      <td>0</td>\n",
       "      <td>5</td>\n",
       "      <td>1</td>\n",
       "      <td>1.0</td>\n",
       "      <td>Executive</td>\n",
       "      <td>18068.0</td>\n",
       "    </tr>\n",
       "    <tr>\n",
       "      <th>6</th>\n",
       "      <td>200006</td>\n",
       "      <td>0</td>\n",
       "      <td>59.0</td>\n",
       "      <td>Self Enquiry</td>\n",
       "      <td>1</td>\n",
       "      <td>9.0</td>\n",
       "      <td>Small Business</td>\n",
       "      <td>Female</td>\n",
       "      <td>2</td>\n",
       "      <td>2.0</td>\n",
       "      <td>Basic</td>\n",
       "      <td>5.0</td>\n",
       "      <td>Divorced</td>\n",
       "      <td>5.0</td>\n",
       "      <td>1</td>\n",
       "      <td>2</td>\n",
       "      <td>1</td>\n",
       "      <td>1.0</td>\n",
       "      <td>Executive</td>\n",
       "      <td>17670.0</td>\n",
       "    </tr>\n",
       "    <tr>\n",
       "      <th>7</th>\n",
       "      <td>200007</td>\n",
       "      <td>0</td>\n",
       "      <td>30.0</td>\n",
       "      <td>Self Enquiry</td>\n",
       "      <td>1</td>\n",
       "      <td>30.0</td>\n",
       "      <td>Salaried</td>\n",
       "      <td>Male</td>\n",
       "      <td>3</td>\n",
       "      <td>3.0</td>\n",
       "      <td>Basic</td>\n",
       "      <td>3.0</td>\n",
       "      <td>Married</td>\n",
       "      <td>2.0</td>\n",
       "      <td>0</td>\n",
       "      <td>2</td>\n",
       "      <td>0</td>\n",
       "      <td>1.0</td>\n",
       "      <td>Executive</td>\n",
       "      <td>17693.0</td>\n",
       "    </tr>\n",
       "    <tr>\n",
       "      <th>8</th>\n",
       "      <td>200008</td>\n",
       "      <td>0</td>\n",
       "      <td>38.0</td>\n",
       "      <td>Company Invited</td>\n",
       "      <td>1</td>\n",
       "      <td>29.0</td>\n",
       "      <td>Salaried</td>\n",
       "      <td>Male</td>\n",
       "      <td>2</td>\n",
       "      <td>4.0</td>\n",
       "      <td>Standard</td>\n",
       "      <td>3.0</td>\n",
       "      <td>Unmarried</td>\n",
       "      <td>1.0</td>\n",
       "      <td>0</td>\n",
       "      <td>3</td>\n",
       "      <td>0</td>\n",
       "      <td>0.0</td>\n",
       "      <td>Senior Manager</td>\n",
       "      <td>24526.0</td>\n",
       "    </tr>\n",
       "    <tr>\n",
       "      <th>9</th>\n",
       "      <td>200009</td>\n",
       "      <td>0</td>\n",
       "      <td>36.0</td>\n",
       "      <td>Self Enquiry</td>\n",
       "      <td>1</td>\n",
       "      <td>33.0</td>\n",
       "      <td>Small Business</td>\n",
       "      <td>Male</td>\n",
       "      <td>3</td>\n",
       "      <td>3.0</td>\n",
       "      <td>Deluxe</td>\n",
       "      <td>3.0</td>\n",
       "      <td>Divorced</td>\n",
       "      <td>7.0</td>\n",
       "      <td>0</td>\n",
       "      <td>3</td>\n",
       "      <td>1</td>\n",
       "      <td>0.0</td>\n",
       "      <td>Manager</td>\n",
       "      <td>20237.0</td>\n",
       "    </tr>\n",
       "  </tbody>\n",
       "</table>\n",
       "</div>"
      ],
      "text/plain": [
       "   CustomerID  ProdTaken   Age    TypeofContact  CityTier  DurationOfPitch  \\\n",
       "0      200000          1  41.0     Self Enquiry         3              6.0   \n",
       "1      200001          0  49.0  Company Invited         1             14.0   \n",
       "2      200002          1  37.0     Self Enquiry         1              8.0   \n",
       "3      200003          0  33.0  Company Invited         1              9.0   \n",
       "4      200004          0  38.0     Self Enquiry         1              8.0   \n",
       "5      200005          0  32.0  Company Invited         1              8.0   \n",
       "6      200006          0  59.0     Self Enquiry         1              9.0   \n",
       "7      200007          0  30.0     Self Enquiry         1             30.0   \n",
       "8      200008          0  38.0  Company Invited         1             29.0   \n",
       "9      200009          0  36.0     Self Enquiry         1             33.0   \n",
       "\n",
       "       Occupation  Gender  NumberOfPersonVisiting  NumberOfFollowups  \\\n",
       "0        Salaried  Female                       3                3.0   \n",
       "1        Salaried    Male                       3                4.0   \n",
       "2     Free Lancer    Male                       3                4.0   \n",
       "3        Salaried  Female                       2                3.0   \n",
       "4  Small Business    Male                       2                3.0   \n",
       "5        Salaried    Male                       3                3.0   \n",
       "6  Small Business  Female                       2                2.0   \n",
       "7        Salaried    Male                       3                3.0   \n",
       "8        Salaried    Male                       2                4.0   \n",
       "9  Small Business    Male                       3                3.0   \n",
       "\n",
       "  ProductPitched  PreferredPropertyStar MaritalStatus  NumberOfTrips  \\\n",
       "0         Deluxe                    3.0        Single            1.0   \n",
       "1         Deluxe                    4.0      Divorced            2.0   \n",
       "2          Basic                    3.0        Single            7.0   \n",
       "3          Basic                    3.0      Divorced            2.0   \n",
       "4          Basic                    4.0      Divorced            1.0   \n",
       "5          Basic                    3.0        Single            1.0   \n",
       "6          Basic                    5.0      Divorced            5.0   \n",
       "7          Basic                    3.0       Married            2.0   \n",
       "8       Standard                    3.0     Unmarried            1.0   \n",
       "9         Deluxe                    3.0      Divorced            7.0   \n",
       "\n",
       "   Passport  PitchSatisfactionScore  OwnCar  NumberOfChildrenVisiting  \\\n",
       "0         1                       2       1                       0.0   \n",
       "1         0                       3       1                       2.0   \n",
       "2         1                       3       0                       0.0   \n",
       "3         1                       5       1                       1.0   \n",
       "4         0                       5       1                       0.0   \n",
       "5         0                       5       1                       1.0   \n",
       "6         1                       2       1                       1.0   \n",
       "7         0                       2       0                       1.0   \n",
       "8         0                       3       0                       0.0   \n",
       "9         0                       3       1                       0.0   \n",
       "\n",
       "      Designation  MonthlyIncome  \n",
       "0         Manager        20993.0  \n",
       "1         Manager        20130.0  \n",
       "2       Executive        17090.0  \n",
       "3       Executive        17909.0  \n",
       "4       Executive        18468.0  \n",
       "5       Executive        18068.0  \n",
       "6       Executive        17670.0  \n",
       "7       Executive        17693.0  \n",
       "8  Senior Manager        24526.0  \n",
       "9         Manager        20237.0  "
      ]
     },
     "execution_count": 15,
     "metadata": {},
     "output_type": "execute_result"
    }
   ],
   "source": [
    "# convert object datatypes to categorical variables\n",
    "for feature in data.columns: # Loop through all columns in the dataframe\n",
    "    if data[feature].dtype == 'object': # Only apply for columns with categorical strings\n",
    "        data[feature] = pd.Categorical(data[feature])# Replace strings with an integer\n",
    "data.head(10)"
   ]
  },
  {
   "cell_type": "code",
   "execution_count": 16,
   "id": "14ba3ad8",
   "metadata": {},
   "outputs": [
    {
     "name": "stdout",
     "output_type": "stream",
     "text": [
      "<class 'pandas.core.frame.DataFrame'>\n",
      "Int64Index: 4888 entries, 0 to 4887\n",
      "Data columns (total 20 columns):\n",
      " #   Column                    Non-Null Count  Dtype   \n",
      "---  ------                    --------------  -----   \n",
      " 0   CustomerID                4888 non-null   int64   \n",
      " 1   ProdTaken                 4888 non-null   int64   \n",
      " 2   Age                       4888 non-null   float64 \n",
      " 3   TypeofContact             4888 non-null   category\n",
      " 4   CityTier                  4888 non-null   int64   \n",
      " 5   DurationOfPitch           4888 non-null   float64 \n",
      " 6   Occupation                4888 non-null   category\n",
      " 7   Gender                    4888 non-null   category\n",
      " 8   NumberOfPersonVisiting    4888 non-null   int64   \n",
      " 9   NumberOfFollowups         4888 non-null   float64 \n",
      " 10  ProductPitched            4888 non-null   category\n",
      " 11  PreferredPropertyStar     4888 non-null   float64 \n",
      " 12  MaritalStatus             4888 non-null   category\n",
      " 13  NumberOfTrips             4888 non-null   float64 \n",
      " 14  Passport                  4888 non-null   int64   \n",
      " 15  PitchSatisfactionScore    4888 non-null   int64   \n",
      " 16  OwnCar                    4888 non-null   int64   \n",
      " 17  NumberOfChildrenVisiting  4888 non-null   float64 \n",
      " 18  Designation               4888 non-null   category\n",
      " 19  MonthlyIncome             4888 non-null   float64 \n",
      "dtypes: category(6), float64(7), int64(7)\n",
      "memory usage: 602.5 KB\n"
     ]
    }
   ],
   "source": [
    "# check datatypes\n",
    "data.info()"
   ]
  },
  {
   "cell_type": "code",
   "execution_count": 17,
   "id": "f8183037",
   "metadata": {},
   "outputs": [],
   "source": [
    "# drop CustomerID\n",
    "data = data.drop(\"CustomerID\", axis = 1)"
   ]
  },
  {
   "cell_type": "markdown",
   "id": "79de7226",
   "metadata": {},
   "source": [
    "### Univariate Analysis"
   ]
  },
  {
   "cell_type": "code",
   "execution_count": 18,
   "id": "9d7c600e",
   "metadata": {},
   "outputs": [
    {
     "data": {
      "text/plain": [
       "Index(['ProdTaken', 'Age', 'TypeofContact', 'CityTier', 'DurationOfPitch',\n",
       "       'Occupation', 'Gender', 'NumberOfPersonVisiting', 'NumberOfFollowups',\n",
       "       'ProductPitched', 'PreferredPropertyStar', 'MaritalStatus',\n",
       "       'NumberOfTrips', 'Passport', 'PitchSatisfactionScore', 'OwnCar',\n",
       "       'NumberOfChildrenVisiting', 'Designation', 'MonthlyIncome'],\n",
       "      dtype='object')"
      ]
     },
     "execution_count": 18,
     "metadata": {},
     "output_type": "execute_result"
    }
   ],
   "source": [
    "data.columns"
   ]
  },
  {
   "cell_type": "code",
   "execution_count": 19,
   "id": "4f7dfe12",
   "metadata": {},
   "outputs": [
    {
     "data": {
      "image/png": "[encoded data removed]",
      "text/plain": [
       "<Figure size 720x360 with 1 Axes>"
      ]
     },
     "metadata": {
      "needs_background": "light"
     },
     "output_type": "display_data"
    },
    {
     "data": {
      "image/png": "[encoded data removed]",
      "text/plain": [
       "<Figure size 720x360 with 1 Axes>"
      ]
     },
     "metadata": {
      "needs_background": "light"
     },
     "output_type": "display_data"
    },
    {
     "data": {
      "image/png": "[encoded data removed]",
      "text/plain": [
       "<Figure size 720x360 with 1 Axes>"
      ]
     },
     "metadata": {
      "needs_background": "light"
     },
     "output_type": "display_data"
    },
    {
     "data": {
      "image/png": "[encoded data removed]",
      "text/plain": [
       "<Figure size 720x360 with 1 Axes>"
      ]
     },
     "metadata": {
      "needs_background": "light"
     },
     "output_type": "display_data"
    },
    {
     "data": {
      "image/png": "[encoded data removed]",
      "text/plain": [
       "<Figure size 720x360 with 1 Axes>"
      ]
     },
     "metadata": {
      "needs_background": "light"
     },
     "output_type": "display_data"
    },
    {
     "data": {
      "image/png": "[encoded data removed]",
      "text/plain": [
       "<Figure size 720x360 with 1 Axes>"
      ]
     },
     "metadata": {
      "needs_background": "light"
     },
     "output_type": "display_data"
    },
    {
     "data": {
      "image/png": "[encoded data removed]",
      "text/plain": [
       "<Figure size 720x360 with 1 Axes>"
      ]
     },
     "metadata": {
      "needs_background": "light"
     },
     "output_type": "display_data"
    },
    {
     "data": {
      "image/png": "[encoded data removed]",
      "text/plain": [
       "<Figure size 720x360 with 1 Axes>"
      ]
     },
     "metadata": {
      "needs_background": "light"
     },
     "output_type": "display_data"
    },
    {
     "data": {
      "image/png": "[encoded data removed]",
      "text/plain": [
       "<Figure size 720x360 with 1 Axes>"
      ]
     },
     "metadata": {
      "needs_background": "light"
     },
     "output_type": "display_data"
    },
    {
     "data": {
      "image/png": "[encoded data removed]",
      "text/plain": [
       "<Figure size 720x360 with 1 Axes>"
      ]
     },
     "metadata": {
      "needs_background": "light"
     },
     "output_type": "display_data"
    },
    {
     "data": {
      "image/png": "[encoded data removed]",
      "text/plain": [
       "<Figure size 720x360 with 1 Axes>"
      ]
     },
     "metadata": {
      "needs_background": "light"
     },
     "output_type": "display_data"
    },
    {
     "data": {
      "image/png": "[encoded data removed]",
      "text/plain": [
       "<Figure size 720x360 with 1 Axes>"
      ]
     },
     "metadata": {
      "needs_background": "light"
     },
     "output_type": "display_data"
    },
    {
     "data": {
      "image/png": "[encoded data removed]",
      "text/plain": [
       "<Figure size 720x360 with 1 Axes>"
      ]
     },
     "metadata": {
      "needs_background": "light"
     },
     "output_type": "display_data"
    },
    {
     "data": {
      "image/png": "[encoded data removed]",
      "text/plain": [
       "<Figure size 720x360 with 1 Axes>"
      ]
     },
     "metadata": {
      "needs_background": "light"
     },
     "output_type": "display_data"
    },
    {
     "data": {
      "image/png": "[encoded data removed]",
      "text/plain": [
       "<Figure size 720x360 with 1 Axes>"
      ]
     },
     "metadata": {
      "needs_background": "light"
     },
     "output_type": "display_data"
    },
    {
     "data": {
      "image/png": "[encoded data removed]",
      "text/plain": [
       "<Figure size 720x360 with 1 Axes>"
      ]
     },
     "metadata": {
      "needs_background": "light"
     },
     "output_type": "display_data"
    },
    {
     "data": {
      "image/png": "[encoded data removed]",
      "text/plain": [
       "<Figure size 720x360 with 1 Axes>"
      ]
     },
     "metadata": {
      "needs_background": "light"
     },
     "output_type": "display_data"
    },
    {
     "data": {
      "image/png": "[encoded data removed]",
      "text/plain": [
       "<Figure size 720x360 with 1 Axes>"
      ]
     },
     "metadata": {
      "needs_background": "light"
     },
     "output_type": "display_data"
    },
    {
     "data": {
      "image/png": "[encoded data removed]",
      "text/plain": [
       "<Figure size 720x360 with 1 Axes>"
      ]
     },
     "metadata": {
      "needs_background": "light"
     },
     "output_type": "display_data"
    }
   ],
   "source": [
    "# create boxplots for numerical variables\n",
    "# countplots for categorical variables\n",
    "for feature in data.columns: # Loop through all columns in the dataframe\n",
    "    if data[feature].dtype == 'float64':\n",
    "        plt.figure(figsize = (10,5))\n",
    "        plt.title(feature + \" Distribution\")\n",
    "        sns.boxplot(data = data, x = feature)\n",
    "        plt.show()\n",
    "    else:\n",
    "        plt.figure(figsize = (10,5))\n",
    "        plt.title(feature + \" Distribution\")\n",
    "        sns.countplot(data = data, x = feature)\n",
    "        plt.show()"
   ]
  },
  {
   "cell_type": "markdown",
   "id": "5048d65f",
   "metadata": {},
   "source": [
    "The only unreasonable skewed outliers are those with very high Duration of Pitch and very high Monthly Income, so we will remove those data points. We will not be losing much data by removing these rows. All other outliers are reasonable and are ok to be left in for this analysis."
   ]
  },
  {
   "cell_type": "code",
   "execution_count": 20,
   "id": "756d16f1",
   "metadata": {},
   "outputs": [
    {
     "data": {
      "text/html": [
       "<div>\n",
       "<style scoped>\n",
       "    .dataframe tbody tr th:only-of-type {\n",
       "        vertical-align: middle;\n",
       "    }\n",
       "\n",
       "    .dataframe tbody tr th {\n",
       "        vertical-align: top;\n",
       "    }\n",
       "\n",
       "    .dataframe thead th {\n",
       "        text-align: right;\n",
       "    }\n",
       "</style>\n",
       "<table border=\"1\" class=\"dataframe\">\n",
       "  <thead>\n",
       "    <tr style=\"text-align: right;\">\n",
       "      <th></th>\n",
       "      <th>ProdTaken</th>\n",
       "      <th>Age</th>\n",
       "      <th>TypeofContact</th>\n",
       "      <th>CityTier</th>\n",
       "      <th>DurationOfPitch</th>\n",
       "      <th>Occupation</th>\n",
       "      <th>Gender</th>\n",
       "      <th>NumberOfPersonVisiting</th>\n",
       "      <th>NumberOfFollowups</th>\n",
       "      <th>ProductPitched</th>\n",
       "      <th>PreferredPropertyStar</th>\n",
       "      <th>MaritalStatus</th>\n",
       "      <th>NumberOfTrips</th>\n",
       "      <th>Passport</th>\n",
       "      <th>PitchSatisfactionScore</th>\n",
       "      <th>OwnCar</th>\n",
       "      <th>NumberOfChildrenVisiting</th>\n",
       "      <th>Designation</th>\n",
       "      <th>MonthlyIncome</th>\n",
       "    </tr>\n",
       "  </thead>\n",
       "  <tbody>\n",
       "    <tr>\n",
       "      <th>1434</th>\n",
       "      <td>0</td>\n",
       "      <td>38.0</td>\n",
       "      <td>Company Invited</td>\n",
       "      <td>3</td>\n",
       "      <td>126.0</td>\n",
       "      <td>Salaried</td>\n",
       "      <td>Male</td>\n",
       "      <td>2</td>\n",
       "      <td>3.0</td>\n",
       "      <td>Basic</td>\n",
       "      <td>3.0</td>\n",
       "      <td>Married</td>\n",
       "      <td>3.0</td>\n",
       "      <td>0</td>\n",
       "      <td>1</td>\n",
       "      <td>1</td>\n",
       "      <td>1.0</td>\n",
       "      <td>Executive</td>\n",
       "      <td>18482.0</td>\n",
       "    </tr>\n",
       "    <tr>\n",
       "      <th>3878</th>\n",
       "      <td>0</td>\n",
       "      <td>53.0</td>\n",
       "      <td>Company Invited</td>\n",
       "      <td>3</td>\n",
       "      <td>127.0</td>\n",
       "      <td>Salaried</td>\n",
       "      <td>Male</td>\n",
       "      <td>3</td>\n",
       "      <td>4.0</td>\n",
       "      <td>Basic</td>\n",
       "      <td>3.0</td>\n",
       "      <td>Married</td>\n",
       "      <td>4.0</td>\n",
       "      <td>0</td>\n",
       "      <td>1</td>\n",
       "      <td>1</td>\n",
       "      <td>2.0</td>\n",
       "      <td>Executive</td>\n",
       "      <td>22160.0</td>\n",
       "    </tr>\n",
       "  </tbody>\n",
       "</table>\n",
       "</div>"
      ],
      "text/plain": [
       "      ProdTaken   Age    TypeofContact  CityTier  DurationOfPitch Occupation  \\\n",
       "1434          0  38.0  Company Invited         3            126.0   Salaried   \n",
       "3878          0  53.0  Company Invited         3            127.0   Salaried   \n",
       "\n",
       "     Gender  NumberOfPersonVisiting  NumberOfFollowups ProductPitched  \\\n",
       "1434   Male                       2                3.0          Basic   \n",
       "3878   Male                       3                4.0          Basic   \n",
       "\n",
       "      PreferredPropertyStar MaritalStatus  NumberOfTrips  Passport  \\\n",
       "1434                    3.0       Married            3.0         0   \n",
       "3878                    3.0       Married            4.0         0   \n",
       "\n",
       "      PitchSatisfactionScore  OwnCar  NumberOfChildrenVisiting Designation  \\\n",
       "1434                       1       1                       1.0   Executive   \n",
       "3878                       1       1                       2.0   Executive   \n",
       "\n",
       "      MonthlyIncome  \n",
       "1434        18482.0  \n",
       "3878        22160.0  "
      ]
     },
     "execution_count": 20,
     "metadata": {},
     "output_type": "execute_result"
    }
   ],
   "source": [
    "# investigate outlier rows\n",
    "data[data[\"DurationOfPitch\"] > 100]"
   ]
  },
  {
   "cell_type": "code",
   "execution_count": 21,
   "id": "17b2282b",
   "metadata": {},
   "outputs": [
    {
     "data": {
      "text/html": [
       "<div>\n",
       "<style scoped>\n",
       "    .dataframe tbody tr th:only-of-type {\n",
       "        vertical-align: middle;\n",
       "    }\n",
       "\n",
       "    .dataframe tbody tr th {\n",
       "        vertical-align: top;\n",
       "    }\n",
       "\n",
       "    .dataframe thead th {\n",
       "        text-align: right;\n",
       "    }\n",
       "</style>\n",
       "<table border=\"1\" class=\"dataframe\">\n",
       "  <thead>\n",
       "    <tr style=\"text-align: right;\">\n",
       "      <th></th>\n",
       "      <th>ProdTaken</th>\n",
       "      <th>Age</th>\n",
       "      <th>TypeofContact</th>\n",
       "      <th>CityTier</th>\n",
       "      <th>DurationOfPitch</th>\n",
       "      <th>Occupation</th>\n",
       "      <th>Gender</th>\n",
       "      <th>NumberOfPersonVisiting</th>\n",
       "      <th>NumberOfFollowups</th>\n",
       "      <th>ProductPitched</th>\n",
       "      <th>PreferredPropertyStar</th>\n",
       "      <th>MaritalStatus</th>\n",
       "      <th>NumberOfTrips</th>\n",
       "      <th>Passport</th>\n",
       "      <th>PitchSatisfactionScore</th>\n",
       "      <th>OwnCar</th>\n",
       "      <th>NumberOfChildrenVisiting</th>\n",
       "      <th>Designation</th>\n",
       "      <th>MonthlyIncome</th>\n",
       "    </tr>\n",
       "  </thead>\n",
       "  <tbody>\n",
       "    <tr>\n",
       "      <th>38</th>\n",
       "      <td>0</td>\n",
       "      <td>36.0</td>\n",
       "      <td>Self Enquiry</td>\n",
       "      <td>1</td>\n",
       "      <td>11.0</td>\n",
       "      <td>Salaried</td>\n",
       "      <td>Female</td>\n",
       "      <td>2</td>\n",
       "      <td>4.0</td>\n",
       "      <td>Basic</td>\n",
       "      <td>3.0</td>\n",
       "      <td>Divorced</td>\n",
       "      <td>1.0</td>\n",
       "      <td>1</td>\n",
       "      <td>2</td>\n",
       "      <td>1</td>\n",
       "      <td>0.0</td>\n",
       "      <td>Executive</td>\n",
       "      <td>95000.0</td>\n",
       "    </tr>\n",
       "    <tr>\n",
       "      <th>2482</th>\n",
       "      <td>0</td>\n",
       "      <td>37.0</td>\n",
       "      <td>Self Enquiry</td>\n",
       "      <td>1</td>\n",
       "      <td>12.0</td>\n",
       "      <td>Salaried</td>\n",
       "      <td>Female</td>\n",
       "      <td>3</td>\n",
       "      <td>5.0</td>\n",
       "      <td>Basic</td>\n",
       "      <td>5.0</td>\n",
       "      <td>Divorced</td>\n",
       "      <td>2.0</td>\n",
       "      <td>1</td>\n",
       "      <td>2</td>\n",
       "      <td>1</td>\n",
       "      <td>1.0</td>\n",
       "      <td>Executive</td>\n",
       "      <td>98678.0</td>\n",
       "    </tr>\n",
       "  </tbody>\n",
       "</table>\n",
       "</div>"
      ],
      "text/plain": [
       "      ProdTaken   Age TypeofContact  CityTier  DurationOfPitch Occupation  \\\n",
       "38            0  36.0  Self Enquiry         1             11.0   Salaried   \n",
       "2482          0  37.0  Self Enquiry         1             12.0   Salaried   \n",
       "\n",
       "      Gender  NumberOfPersonVisiting  NumberOfFollowups ProductPitched  \\\n",
       "38    Female                       2                4.0          Basic   \n",
       "2482  Female                       3                5.0          Basic   \n",
       "\n",
       "      PreferredPropertyStar MaritalStatus  NumberOfTrips  Passport  \\\n",
       "38                      3.0      Divorced            1.0         1   \n",
       "2482                    5.0      Divorced            2.0         1   \n",
       "\n",
       "      PitchSatisfactionScore  OwnCar  NumberOfChildrenVisiting Designation  \\\n",
       "38                         2       1                       0.0   Executive   \n",
       "2482                       2       1                       1.0   Executive   \n",
       "\n",
       "      MonthlyIncome  \n",
       "38          95000.0  \n",
       "2482        98678.0  "
      ]
     },
     "execution_count": 21,
     "metadata": {},
     "output_type": "execute_result"
    }
   ],
   "source": [
    "# investigate outlier rows\n",
    "data[data[\"MonthlyIncome\"] > 80000]"
   ]
  },
  {
   "cell_type": "code",
   "execution_count": 22,
   "id": "91b346ef",
   "metadata": {},
   "outputs": [],
   "source": [
    "# remove outlier rows\n",
    "data = data.drop([1434, 3878, 38, 2482], axis = 0)"
   ]
  },
  {
   "cell_type": "code",
   "execution_count": 23,
   "id": "94c59704",
   "metadata": {},
   "outputs": [
    {
     "data": {
      "image/png": "[encoded data removed]",
      "text/plain": [
       "<Figure size 720x360 with 1 Axes>"
      ]
     },
     "metadata": {
      "needs_background": "light"
     },
     "output_type": "display_data"
    }
   ],
   "source": [
    "# check distribution after removing outliers\n",
    "plt.figure(figsize = (10,5))\n",
    "plt.title(\"DurationOfPitch Distribution\")\n",
    "sns.boxplot(data = data, x = \"DurationOfPitch\");"
   ]
  },
  {
   "cell_type": "code",
   "execution_count": 24,
   "id": "4312335d",
   "metadata": {},
   "outputs": [
    {
     "data": {
      "image/png": "[encoded data removed]",
      "text/plain": [
       "<Figure size 720x360 with 1 Axes>"
      ]
     },
     "metadata": {
      "needs_background": "light"
     },
     "output_type": "display_data"
    }
   ],
   "source": [
    "# check distribution after removing outliers\n",
    "plt.figure(figsize = (10,5))\n",
    "plt.title(\"MonthlyIncome Distribution\")\n",
    "sns.boxplot(data = data, x = \"MonthlyIncome\");"
   ]
  },
  {
   "cell_type": "markdown",
   "id": "efec82dc",
   "metadata": {},
   "source": [
    "Insights:\n",
    "- Only about 20% of customers purchased the package\n",
    "- The age distribution has no outliers\n",
    "- Over half of the customers live in the nicest city tier\n",
    "- Over 75% of customers had sales pitches of less than 20 minutes\n",
    "- The number of visiting people is nearly normally distributed\n",
    "- Nobody preferred a star rating of less than 3 stars\n",
    "- Over 75% of customers take less than 5 trips a year on average\n",
    "- The largest pitch satisfaction score category was 3/5\n",
    "- The number of children visiting ranged from 0-3 for the entire dataset\n",
    "- Over 50% of customers had a monthly income between 20000 and 30000"
   ]
  },
  {
   "cell_type": "markdown",
   "id": "d78e4c32",
   "metadata": {},
   "source": [
    "### Bivariate Analysis"
   ]
  },
  {
   "cell_type": "code",
   "execution_count": 26,
   "id": "f86b5810",
   "metadata": {},
   "outputs": [
    {
     "data": {
      "image/png": "[encoded data removed]",
      "text/plain": [
       "<Figure size 1080x648 with 2 Axes>"
      ]
     },
     "metadata": {
      "needs_background": "light"
     },
     "output_type": "display_data"
    }
   ],
   "source": [
    "# heatmap for correlations between variables\n",
    "plt.figure(figsize = (15, 9))\n",
    "sns.heatmap(data.corr(), annot = True);"
   ]
  },
  {
   "cell_type": "markdown",
   "id": "24d3533a",
   "metadata": {},
   "source": [
    "- None of the variables have a particularly strong correlation with the target variable\n",
    "- Age has a relatively strong correlation with monthly income, which makes sense\n",
    "- Number of people wisiting is also fairly strongly correlated with number of children visiting, which is intuitive"
   ]
  },
  {
   "cell_type": "code",
   "execution_count": 32,
   "id": "c73cca2c",
   "metadata": {},
   "outputs": [
    {
     "data": {
      "image/png": "[encoded data removed]",
      "text/plain": [
       "<Figure size 1080x504 with 1 Axes>"
      ]
     },
     "metadata": {
      "needs_background": "light"
     },
     "output_type": "display_data"
    }
   ],
   "source": [
    "# Prod Taken vs Age\n",
    "plt.figure(figsize = (15,7))\n",
    "plt.title(\"ProdTaken vs Age\")\n",
    "sns.lineplot(data = data, y = \"ProdTaken\", x = \"Age\", ci = False);"
   ]
  },
  {
   "cell_type": "markdown",
   "id": "34c58dc4",
   "metadata": {},
   "source": [
    "- Overall as age increases, customers are less likely to purchase the package\n",
    "- Customers under 30 have a much higher tendency to purchase the package\n",
    "- Some older customers from 55-60 tend to purchase the package more than others of similar age"
   ]
  },
  {
   "cell_type": "code",
   "execution_count": 36,
   "id": "6ff8ce35",
   "metadata": {},
   "outputs": [
    {
     "data": {
      "image/png": "[encoded data removed]",
      "text/plain": [
       "<Figure size 1080x504 with 1 Axes>"
      ]
     },
     "metadata": {
      "needs_background": "light"
     },
     "output_type": "display_data"
    }
   ],
   "source": [
    "# Prod Taken vs Monthly Income\n",
    "plt.figure(figsize = (15,7))\n",
    "plt.title(\"ProdTaken vs MonthlyIncome\")\n",
    "sns.scatterplot(data = data, x = \"ProdTaken\", y = \"MonthlyIncome\", hue = \"Passport\");"
   ]
  },
  {
   "cell_type": "markdown",
   "id": "b5849b0b",
   "metadata": {},
   "source": [
    "- People with passports tended to purchase the package more often\n",
    "- Income does not seem to have much of a relationship with purchasing the package, although all customers with monthly income of less than 15000 did not purchase the package or have passports"
   ]
  },
  {
   "cell_type": "code",
   "execution_count": 44,
   "id": "ad1489ab",
   "metadata": {},
   "outputs": [
    {
     "data": {
      "image/png": "[encoded data removed]",
      "text/plain": [
       "<Figure size 1080x504 with 1 Axes>"
      ]
     },
     "metadata": {
      "needs_background": "light"
     },
     "output_type": "display_data"
    }
   ],
   "source": [
    "# Product pitched by age\n",
    "plt.figure(figsize = (15,7))\n",
    "plt.title(\"Product Pitched by Age\")\n",
    "sns.scatterplot(data = data, x = \"ProductPitched\", y = \"Age\", hue = \"ProdTaken\");"
   ]
  },
  {
   "cell_type": "code",
   "execution_count": 43,
   "id": "d9c8b2ba",
   "metadata": {},
   "outputs": [
    {
     "data": {
      "image/png": "[encoded data removed]",
      "text/plain": [
       "<Figure size 1080x504 with 1 Axes>"
      ]
     },
     "metadata": {
      "needs_background": "light"
     },
     "output_type": "display_data"
    }
   ],
   "source": [
    "# Product pitched by Monthly Income\n",
    "plt.figure(figsize = (15,7))\n",
    "plt.title(\"Product Pitched by Monthly Income\")\n",
    "sns.scatterplot(data = data, x = \"ProductPitched\", y = \"MonthlyIncome\", hue = \"ProdTaken\");"
   ]
  },
  {
   "cell_type": "code",
   "execution_count": 45,
   "id": "04673792",
   "metadata": {},
   "outputs": [
    {
     "data": {
      "image/png": "[encoded data removed]",
      "text/plain": [
       "<Figure size 1080x504 with 1 Axes>"
      ]
     },
     "metadata": {
      "needs_background": "light"
     },
     "output_type": "display_data"
    }
   ],
   "source": [
    "# Product pitched by number of trips\n",
    "plt.figure(figsize = (15,7))\n",
    "plt.title(\"Product Pitched by Number of Trips\")\n",
    "sns.scatterplot(data = data, x = \"ProductPitched\", y = \"NumberOfTrips\", hue = \"ProdTaken\");"
   ]
  },
  {
   "cell_type": "markdown",
   "id": "a9068603",
   "metadata": {},
   "source": [
    "- People who take many trips per year were offered basic or deluxe packages\n",
    "- Most people took the basic package when ptched, while very few took the king package\n",
    "- Monthly income did not play much of a role in what package was pitched to the customer except for the king package\n",
    "- Customers under 30 were typically only pitched the basic, standard, or deluxe packages"
   ]
  },
  {
   "cell_type": "markdown",
   "id": "c242ac0e",
   "metadata": {},
   "source": [
    "## Model Building: Bagging Models"
   ]
  },
  {
   "cell_type": "code",
   "execution_count": 46,
   "id": "a7e691f4",
   "metadata": {},
   "outputs": [],
   "source": [
    "# we first split the data into predictors and target datasets\n",
    "X = data.drop(\"ProdTaken\" , axis=1)\n",
    "y = data.pop(\"ProdTaken\")"
   ]
  },
  {
   "cell_type": "code",
   "execution_count": 51,
   "id": "bd015f9f",
   "metadata": {},
   "outputs": [],
   "source": [
    "# generate dummy variables for the categorical variables\n",
    "X = pd.get_dummies(\n",
    "    X,\n",
    "    columns = X.select_dtypes(include = [\"category\"]).columns.tolist(),\n",
    "    drop_first = True,\n",
    ")"
   ]
  },
  {
   "cell_type": "code",
   "execution_count": 52,
   "id": "2166154b",
   "metadata": {},
   "outputs": [],
   "source": [
    "# split the data into test and train sets with 20% in test data\n",
    "X_train, X_test, y_train, y_test = train_test_split(X, y, test_size = .20, random_state = 1, stratify = y)"
   ]
  },
  {
   "cell_type": "code",
   "execution_count": 53,
   "id": "16d81e00",
   "metadata": {},
   "outputs": [],
   "source": [
    "## Function to create confusion matrix\n",
    "def make_confusion_matrix(model,y_actual,labels=[1, 0]):\n",
    "    '''\n",
    "    model : classifier to predict values of X\n",
    "    y_actual : ground truth  \n",
    "    \n",
    "    '''\n",
    "    y_predict = model.predict(X_test)\n",
    "    cm=metrics.confusion_matrix( y_actual, y_predict, labels=[0, 1])\n",
    "    df_cm = pd.DataFrame(cm, index = [i for i in [\"Actual - No\",\"Actual - Yes\"]],\n",
    "                  columns = [i for i in ['Predicted - No','Predicted - Yes']])\n",
    "    group_counts = [\"{0:0.0f}\".format(value) for value in\n",
    "                cm.flatten()]\n",
    "    group_percentages = [\"{0:.2%}\".format(value) for value in\n",
    "                         cm.flatten()/np.sum(cm)]\n",
    "    labels = [f\"{v1}\\n{v2}\" for v1, v2 in\n",
    "              zip(group_counts,group_percentages)]\n",
    "    labels = np.asarray(labels).reshape(2,2)\n",
    "    plt.figure(figsize = (10,7))\n",
    "    sns.heatmap(df_cm, annot=labels,fmt='')\n",
    "    plt.ylabel('True label')\n",
    "    plt.xlabel('Predicted label')"
   ]
  },
  {
   "cell_type": "code",
   "execution_count": 54,
   "id": "529d1e58",
   "metadata": {},
   "outputs": [],
   "source": [
    "##  Function to calculate different metric scores of the model - Accuracy, Recall and Precision\n",
    "def get_metrics_score(model,flag=True):\n",
    "    '''\n",
    "    model : classifier to predict values of X\n",
    "\n",
    "    '''\n",
    "    # defining an empty list to store train and test results\n",
    "    score_list=[] \n",
    "    \n",
    "    #Predicting on train and tests\n",
    "    pred_train = model.predict(X_train)\n",
    "    pred_test = model.predict(X_test)\n",
    "    \n",
    "    #Accuracy of the model\n",
    "    train_acc = model.score(X_train,y_train)\n",
    "    test_acc = model.score(X_test,y_test)\n",
    "    \n",
    "    #Recall of the model\n",
    "    train_recall = metrics.recall_score(y_train,pred_train)\n",
    "    test_recall = metrics.recall_score(y_test,pred_test)\n",
    "    \n",
    "    #Precision of the model\n",
    "    train_precision = metrics.precision_score(y_train,pred_train)\n",
    "    test_precision = metrics.precision_score(y_test,pred_test)\n",
    "    \n",
    "    score_list.extend((train_acc,test_acc,train_recall,test_recall,train_precision,test_precision))\n",
    "        \n",
    "    # If the flag is set to True then only the following print statements will be dispayed. The default value is set to True.\n",
    "    if flag == True: \n",
    "        print(\"Accuracy on training set : \",model.score(X_train,y_train))\n",
    "        print(\"Accuracy on test set : \",model.score(X_test,y_test))\n",
    "        print(\"Recall on training set : \",metrics.recall_score(y_train,pred_train))\n",
    "        print(\"Recall on test set : \",metrics.recall_score(y_test,pred_test))\n",
    "        print(\"Precision on training set : \",metrics.precision_score(y_train,pred_train))\n",
    "        print(\"Precision on test set : \",metrics.precision_score(y_test,pred_test))\n",
    "    \n",
    "    return score_list # returning the list with train and test scores"
   ]
  },
  {
   "cell_type": "markdown",
   "id": "1467a386",
   "metadata": {},
   "source": [
    "### Decision Tree Model"
   ]
  },
  {
   "cell_type": "code",
   "execution_count": 55,
   "id": "cbe003ae",
   "metadata": {},
   "outputs": [
    {
     "data": {
      "text/plain": [
       "DecisionTreeClassifier(random_state=1)"
      ]
     },
     "execution_count": 55,
     "metadata": {},
     "output_type": "execute_result"
    }
   ],
   "source": [
    "# fit the default decision tree model\n",
    "dtree = DecisionTreeClassifier(random_state = 1)\n",
    "dtree.fit(X_train, y_train)"
   ]
  },
  {
   "cell_type": "code",
   "execution_count": 56,
   "id": "165f3d72",
   "metadata": {},
   "outputs": [
    {
     "name": "stdout",
     "output_type": "stream",
     "text": [
      "Accuracy on training set :  1.0\n",
      "Accuracy on test set :  0.9119754350051177\n",
      "Recall on training set :  1.0\n",
      "Recall on test set :  0.75\n",
      "Precision on training set :  1.0\n",
      "Precision on test set :  0.7752808988764045\n"
     ]
    }
   ],
   "source": [
    "# check metrics scores\n",
    "dtree_score = get_metrics_score(dtree)"
   ]
  },
  {
   "cell_type": "markdown",
   "id": "43a38d92",
   "metadata": {},
   "source": [
    "We are most interested in identifying all customers who are likely to purchase the new package. This means the performance metric we care most about is recall. Recall factors in false negatives in the calculation, which is when the model predict that a customer will not purchase the package when they actually will, which is a more costly error in this project than false positives. Going forward, we will look to maximize recall in our models."
   ]
  },
  {
   "cell_type": "markdown",
   "id": "ebf48687",
   "metadata": {},
   "source": [
    "This model has perfect recall on the training set, but only 75% recall on the test set. This is an indication of overfitting, although the performance is decent."
   ]
  },
  {
   "cell_type": "code",
   "execution_count": 58,
   "id": "8c9d29f7",
   "metadata": {},
   "outputs": [
    {
     "data": {
      "image/png": "[encoded data removed]",
      "text/plain": [
       "<Figure size 720x504 with 2 Axes>"
      ]
     },
     "metadata": {
      "needs_background": "light"
     },
     "output_type": "display_data"
    }
   ],
   "source": [
    "# confusion matrix on test set\n",
    "make_confusion_matrix(dtree, y_test)"
   ]
  },
  {
   "cell_type": "code",
   "execution_count": 88,
   "id": "3a9a7135",
   "metadata": {},
   "outputs": [
    {
     "name": "stdout",
     "output_type": "stream",
     "text": [
      "                                  Imp\n",
      "DurationOfPitch              0.170303\n",
      "Age                          0.135893\n",
      "MonthlyIncome                0.089577\n",
      "NumberOfTrips                0.079026\n",
      "Passport                     0.069670\n",
      "Designation_Executive        0.068645\n",
      "PitchSatisfactionScore       0.057585\n",
      "CityTier                     0.043435\n",
      "NumberOfFollowups            0.041040\n",
      "Gender_Male                  0.027989\n",
      "MaritalStatus_Single         0.026866\n",
      "PreferredPropertyStar        0.026410\n",
      "NumberOfChildrenVisiting     0.022771\n",
      "TypeofContact_Self Enquiry   0.021990\n",
      "MaritalStatus_Unmarried      0.019174\n",
      "OwnCar                       0.016027\n",
      "MaritalStatus_Married        0.013957\n",
      "Occupation_Large Business    0.013657\n",
      "NumberOfPersonVisiting       0.011012\n",
      "ProductPitched_Deluxe        0.008526\n",
      "Occupation_Salaried          0.008430\n",
      "Designation_Senior Manager   0.007008\n",
      "ProductPitched_Standard      0.006250\n",
      "Designation_Manager          0.005471\n",
      "Occupation_Small Business    0.005222\n",
      "ProductPitched_King          0.002358\n",
      "ProductPitched_Super Deluxe  0.001709\n",
      "Designation_VP               0.000000\n"
     ]
    }
   ],
   "source": [
    "# gini importance of features, calculated by the normalised reduction in gini impurity for each feature\n",
    "print(\n",
    "    pd.DataFrame(\n",
    "        dtree.feature_importances_, columns = [\"Imp\"], index = X_train.columns\n",
    "    ).sort_values(by = \"Imp\", ascending = False)\n",
    ")"
   ]
  },
  {
   "cell_type": "markdown",
   "id": "9070911e",
   "metadata": {},
   "source": [
    "Let's try hyperparameter tuning the model with GridSearchCV"
   ]
  },
  {
   "cell_type": "code",
   "execution_count": 66,
   "id": "4ff07654",
   "metadata": {},
   "outputs": [
    {
     "data": {
      "text/plain": [
       "DecisionTreeClassifier(class_weight={0: 0.8, 1: 0.2},\n",
       "                       min_impurity_decrease=1e-05, random_state=1)"
      ]
     },
     "execution_count": 66,
     "metadata": {},
     "output_type": "execute_result"
    }
   ],
   "source": [
    "# Choose the type of classifier.\n",
    "dtree_tuned = DecisionTreeClassifier(random_state = 1)\n",
    "\n",
    "# Grid of parameters to choose from\n",
    "parameters = {\n",
    "    \"max_depth\": [3, 5, 10, 15, None],\n",
    "    \"criterion\": [\"entropy\", \"gini\"],\n",
    "    \"splitter\": [\"best\", \"random\"],\n",
    "    \"min_impurity_decrease\": [0.00001, 0.0001, 0.01],\n",
    "    \"class_weight\": [{0: 0.80, 1: 0.20}]\n",
    "}\n",
    "\n",
    "# Type of scoring used to compare parameter combinations\n",
    "scorer = make_scorer(metrics.recall_score)\n",
    "\n",
    "# Run the grid search\n",
    "grid_obj = GridSearchCV(dtree_tuned, parameters, scoring = scorer, cv = 5)\n",
    "grid_obj = grid_obj.fit(X_train, y_train)\n",
    "\n",
    "# Set the clf to the best combination of parameters\n",
    "dtree_tuned = grid_obj.best_estimator_\n",
    "\n",
    "# Fit the best algorithm to the data\n",
    "dtree_tuned.fit(X_train, y_train)"
   ]
  },
  {
   "cell_type": "code",
   "execution_count": 67,
   "id": "37c1cc52",
   "metadata": {},
   "outputs": [
    {
     "name": "stdout",
     "output_type": "stream",
     "text": [
      "Accuracy on training set :  0.9892500639877143\n",
      "Accuracy on test set :  0.9048106448311156\n",
      "Recall on training set :  0.9429347826086957\n",
      "Recall on test set :  0.7065217391304348\n",
      "Precision on training set :  1.0\n",
      "Precision on test set :  0.7692307692307693\n"
     ]
    }
   ],
   "source": [
    "# check metrics scores\n",
    "dtree_tuned_score = get_metrics_score(dtree_tuned)"
   ]
  },
  {
   "cell_type": "markdown",
   "id": "5e1b7eff",
   "metadata": {},
   "source": [
    "This model actually has worse recall on the test set than the default model. However, the recall on the training set is also slightly reduced, indicating that we have reduced the overfitting of this model slightly."
   ]
  },
  {
   "cell_type": "code",
   "execution_count": 68,
   "id": "9fcca641",
   "metadata": {},
   "outputs": [
    {
     "data": {
      "image/png": "[encoded data removed]",
      "text/plain": [
       "<Figure size 720x504 with 2 Axes>"
      ]
     },
     "metadata": {
      "needs_background": "light"
     },
     "output_type": "display_data"
    }
   ],
   "source": [
    "# confusion matrix on test set\n",
    "make_confusion_matrix(dtree_tuned, y_test)"
   ]
  },
  {
   "cell_type": "code",
   "execution_count": 87,
   "id": "f5ccb6c0",
   "metadata": {},
   "outputs": [
    {
     "name": "stdout",
     "output_type": "stream",
     "text": [
      "                                  Imp\n",
      "DurationOfPitch              0.156806\n",
      "Age                          0.141545\n",
      "MonthlyIncome                0.132753\n",
      "NumberOfTrips                0.071560\n",
      "PitchSatisfactionScore       0.059458\n",
      "CityTier                     0.041005\n",
      "Designation_Executive        0.040061\n",
      "NumberOfFollowups            0.039809\n",
      "MaritalStatus_Single         0.036506\n",
      "TypeofContact_Self Enquiry   0.031476\n",
      "Gender_Male                  0.031445\n",
      "NumberOfPersonVisiting       0.028415\n",
      "Passport                     0.027618\n",
      "NumberOfChildrenVisiting     0.025851\n",
      "Occupation_Large Business    0.025315\n",
      "PreferredPropertyStar        0.024893\n",
      "MaritalStatus_Unmarried      0.017444\n",
      "Occupation_Salaried          0.016912\n",
      "Occupation_Small Business    0.012297\n",
      "ProductPitched_Deluxe        0.009507\n",
      "OwnCar                       0.008528\n",
      "ProductPitched_Standard      0.008267\n",
      "MaritalStatus_Married        0.006608\n",
      "Designation_VP               0.004017\n",
      "Designation_Manager          0.001906\n",
      "ProductPitched_King          0.000000\n",
      "ProductPitched_Super Deluxe  0.000000\n",
      "Designation_Senior Manager   0.000000\n"
     ]
    }
   ],
   "source": [
    "# gini importance of features, calculated by the normalised reduction in gini impurity for each feature\n",
    "print(\n",
    "    pd.DataFrame(\n",
    "        dtree_tuned.feature_importances_, columns = [\"Imp\"], index = X_train.columns\n",
    "    ).sort_values(by = \"Imp\", ascending = False)\n",
    ")"
   ]
  },
  {
   "cell_type": "markdown",
   "id": "5e1d0636",
   "metadata": {},
   "source": [
    "### Bagging Classifier Model"
   ]
  },
  {
   "cell_type": "code",
   "execution_count": 76,
   "id": "173ff58d",
   "metadata": {},
   "outputs": [
    {
     "data": {
      "text/plain": [
       "BaggingClassifier(random_state=1)"
      ]
     },
     "execution_count": 76,
     "metadata": {},
     "output_type": "execute_result"
    }
   ],
   "source": [
    "# fit the default bagging estimator\n",
    "bagging_estimator = BaggingClassifier(random_state = 1)\n",
    "bagging_estimator.fit(X_train, y_train)"
   ]
  },
  {
   "cell_type": "code",
   "execution_count": 78,
   "id": "daba65de",
   "metadata": {},
   "outputs": [
    {
     "name": "stdout",
     "output_type": "stream",
     "text": [
      "Accuracy on training set :  0.9930893268492449\n",
      "Accuracy on test set :  0.925281473899693\n",
      "Recall on training set :  0.96875\n",
      "Recall on test set :  0.6739130434782609\n",
      "Precision on training set :  0.9944211994421199\n",
      "Precision on test set :  0.9051094890510949\n"
     ]
    }
   ],
   "source": [
    "# metrics scores \n",
    "bagging_score = get_metrics_score(bagging_estimator)"
   ]
  },
  {
   "cell_type": "markdown",
   "id": "f3122438",
   "metadata": {},
   "source": [
    "The default estimator has lower recall on the test set than either decision tree model."
   ]
  },
  {
   "cell_type": "code",
   "execution_count": 79,
   "id": "07bb534e",
   "metadata": {},
   "outputs": [
    {
     "data": {
      "image/png": "[encoded data removed]",
      "text/plain": [
       "<Figure size 720x504 with 2 Axes>"
      ]
     },
     "metadata": {
      "needs_background": "light"
     },
     "output_type": "display_data"
    }
   ],
   "source": [
    "# confusion matrix\n",
    "make_confusion_matrix(bagging_estimator, y_test)"
   ]
  },
  {
   "cell_type": "markdown",
   "id": "0d317371",
   "metadata": {},
   "source": [
    "Let's try hyperparameter tuning again to see if we can improve the performance of the model."
   ]
  },
  {
   "cell_type": "code",
   "execution_count": 97,
   "id": "b7c7c857",
   "metadata": {},
   "outputs": [
    {
     "data": {
      "text/plain": [
       "BaggingClassifier(base_estimator=DecisionTreeClassifier(random_state=1),\n",
       "                  max_features=0.9, max_samples=0.9, n_estimators=50,\n",
       "                  random_state=1)"
      ]
     },
     "execution_count": 97,
     "metadata": {},
     "output_type": "execute_result"
    }
   ],
   "source": [
    "# Choose the type of classifier. \n",
    "bagging_estimator_tuned = BaggingClassifier(random_state = 1)\n",
    "\n",
    "# Grid of parameters to choose from\n",
    "parameters = {'base_estimator': [dtree, LogisticRegression(random_state = 1)],\n",
    "              'max_samples': [0.7, 0.8, 0.9, 1], \n",
    "              'max_features': [0.7, 0.8, 0.9, 1],\n",
    "              'n_estimators' : [10, 20, 30, 40, 50],\n",
    "             }\n",
    "\n",
    "# Type of scoring used to compare parameter combinations\n",
    "acc_scorer = metrics.make_scorer(metrics.recall_score)\n",
    "\n",
    "# Run the grid search\n",
    "grid_obj = GridSearchCV(bagging_estimator_tuned, parameters, scoring = acc_scorer, cv = 5)\n",
    "grid_obj = grid_obj.fit(X_train, y_train)\n",
    "\n",
    "# Set the clf to the best combination of parameters\n",
    "bagging_estimator_tuned = grid_obj.best_estimator_\n",
    "\n",
    "# Fit the best algorithm to the data.\n",
    "bagging_estimator_tuned.fit(X_train, y_train)"
   ]
  },
  {
   "cell_type": "code",
   "execution_count": 98,
   "id": "74e216c1",
   "metadata": {},
   "outputs": [
    {
     "name": "stdout",
     "output_type": "stream",
     "text": [
      "Accuracy on training set :  0.9997440491425647\n",
      "Accuracy on test set :  0.9263050153531218\n",
      "Recall on training set :  0.998641304347826\n",
      "Recall on test set :  0.6630434782608695\n",
      "Precision on training set :  1.0\n",
      "Precision on test set :  0.9242424242424242\n"
     ]
    }
   ],
   "source": [
    "# metrics scores \n",
    "bagging_tuned_score = get_metrics_score(bagging_estimator_tuned)"
   ]
  },
  {
   "cell_type": "markdown",
   "id": "20aac41e",
   "metadata": {},
   "source": [
    "The tuned model performed slightly worse than the default model. There also seems to be additional overfitting in this model."
   ]
  },
  {
   "cell_type": "code",
   "execution_count": 99,
   "id": "c970b9e6",
   "metadata": {},
   "outputs": [
    {
     "data": {
      "image/png": "[encoded data removed]",
      "text/plain": [
       "<Figure size 720x504 with 2 Axes>"
      ]
     },
     "metadata": {
      "needs_background": "light"
     },
     "output_type": "display_data"
    }
   ],
   "source": [
    "# confusion matrix\n",
    "make_confusion_matrix(bagging_estimator_tuned, y_test)"
   ]
  },
  {
   "cell_type": "markdown",
   "id": "07db1034",
   "metadata": {},
   "source": [
    "### Random Forest Model"
   ]
  },
  {
   "cell_type": "markdown",
   "id": "529d5f69",
   "metadata": {},
   "source": [
    "We will try tuning the model initially to get the best model straight away using the random forest algorithm."
   ]
  },
  {
   "cell_type": "code",
   "execution_count": 101,
   "id": "e3eb706f",
   "metadata": {},
   "outputs": [
    {
     "data": {
      "text/plain": [
       "RandomForestClassifier(class_weight={0: 0.8, 1: 0.2},\n",
       "                       max_features=0.6000000000000001,\n",
       "                       max_samples=0.6000000000000001, min_samples_leaf=5,\n",
       "                       n_estimators=150, random_state=1)"
      ]
     },
     "execution_count": 101,
     "metadata": {},
     "output_type": "execute_result"
    }
   ],
   "source": [
    "# Choose the type of classifier. \n",
    "rf_estimator_tuned = RandomForestClassifier(random_state = 1)\n",
    "\n",
    "# Grid of parameters to choose from\n",
    "parameters = {\"n_estimators\": [150, 200, 250],\n",
    "              \"min_samples_leaf\": np.arange(5, 10),\n",
    "              \"max_features\": np.arange(0.2, 0.7, 0.1),\n",
    "              \"max_samples\": np.arange(0.3, 0.7, 0.1),\n",
    "              \"class_weight\": [{0: 0.8, 1: 0.2}],\n",
    "             }\n",
    "\n",
    "# Type of scoring used to compare parameter combinations\n",
    "acc_scorer = metrics.make_scorer(metrics.recall_score)\n",
    "\n",
    "# Run the grid search\n",
    "grid_obj = GridSearchCV(rf_estimator_tuned, parameters, scoring = acc_scorer, cv = 5)\n",
    "grid_obj = grid_obj.fit(X_train, y_train)\n",
    "\n",
    "# Set the clf to the best combination of parameters\n",
    "rf_estimator_tuned = grid_obj.best_estimator_\n",
    "\n",
    "# Fit the best algorithm to the data.\n",
    "rf_estimator_tuned.fit(X_train, y_train)"
   ]
  },
  {
   "cell_type": "code",
   "execution_count": 102,
   "id": "459c9625",
   "metadata": {},
   "outputs": [
    {
     "name": "stdout",
     "output_type": "stream",
     "text": [
      "Accuracy on training set :  0.8663936524187356\n",
      "Accuracy on test set :  0.8515864892528148\n",
      "Recall on training set :  0.29483695652173914\n",
      "Recall on test set :  0.24456521739130435\n",
      "Precision on training set :  0.9863636363636363\n",
      "Precision on test set :  0.8823529411764706\n"
     ]
    }
   ],
   "source": [
    "# metrics scores \n",
    "rf_estimator_tuned_score = get_metrics_score(rf_estimator_tuned)"
   ]
  },
  {
   "cell_type": "markdown",
   "id": "5be34aef",
   "metadata": {},
   "source": [
    "Although this model has reduced the overfitting, which random forest models are known for, the performance has dropped significantly, and the recall is much lower than all other models so far."
   ]
  },
  {
   "cell_type": "code",
   "execution_count": 103,
   "id": "e89d9011",
   "metadata": {},
   "outputs": [
    {
     "data": {
      "image/png": "[encoded data removed]",
      "text/plain": [
       "<Figure size 720x504 with 2 Axes>"
      ]
     },
     "metadata": {
      "needs_background": "light"
     },
     "output_type": "display_data"
    }
   ],
   "source": [
    "# confusion matrix\n",
    "make_confusion_matrix(rf_estimator_tuned, y_test)"
   ]
  },
  {
   "cell_type": "code",
   "execution_count": 104,
   "id": "70ed27e6",
   "metadata": {},
   "outputs": [
    {
     "name": "stdout",
     "output_type": "stream",
     "text": [
      "                                  Imp\n",
      "Age                          0.153314\n",
      "MonthlyIncome                0.127769\n",
      "DurationOfPitch              0.125019\n",
      "Passport                     0.075820\n",
      "NumberOfTrips                0.059751\n",
      "Designation_Executive        0.053491\n",
      "NumberOfFollowups            0.053422\n",
      "PitchSatisfactionScore       0.050948\n",
      "CityTier                     0.046998\n",
      "MaritalStatus_Single         0.034463\n",
      "PreferredPropertyStar        0.033081\n",
      "TypeofContact_Self Enquiry   0.022729\n",
      "MaritalStatus_Unmarried      0.019485\n",
      "OwnCar                       0.017304\n",
      "Gender_Male                  0.017207\n",
      "NumberOfPersonVisiting       0.016947\n",
      "Occupation_Small Business    0.016690\n",
      "NumberOfChildrenVisiting     0.015657\n",
      "Occupation_Large Business    0.013695\n",
      "MaritalStatus_Married        0.013284\n",
      "Occupation_Salaried          0.013017\n",
      "Designation_Manager          0.006534\n",
      "ProductPitched_Deluxe        0.005279\n",
      "Designation_Senior Manager   0.003118\n",
      "ProductPitched_Standard      0.002738\n",
      "ProductPitched_Super Deluxe  0.001582\n",
      "ProductPitched_King          0.000440\n",
      "Designation_VP               0.000220\n"
     ]
    }
   ],
   "source": [
    "# gini importance of features, calculated by the normalised reduction in gini impurity for each feature\n",
    "print(\n",
    "    pd.DataFrame(\n",
    "        rf_estimator_tuned.feature_importances_, columns = [\"Imp\"], index = X_train.columns\n",
    "    ).sort_values(by = \"Imp\", ascending = False)\n",
    ")"
   ]
  },
  {
   "cell_type": "code",
   "execution_count": 105,
   "id": "860c51d8",
   "metadata": {},
   "outputs": [],
   "source": [
    "# comparing model performance of bagging models\n",
    "# defining list of models\n",
    "models = [dtree, dtree_tuned, bagging_estimator, bagging_estimator_tuned, rf_estimator_tuned,\n",
    "          ]\n",
    "\n",
    "# defining empty lists to add train and test results\n",
    "acc_train = []\n",
    "acc_test = []\n",
    "recall_train = []\n",
    "recall_test = []\n",
    "precision_train = []\n",
    "precision_test = []\n",
    "\n",
    "# looping through all the models to get the accuracy, precall and precision scores\n",
    "for model in models:\n",
    "    j = get_metrics_score(model,False)\n",
    "    acc_train.append(np.round(j[0],2))\n",
    "    acc_test.append(np.round(j[1],2))\n",
    "    recall_train.append(np.round(j[2],2))\n",
    "    recall_test.append(np.round(j[3],2))\n",
    "    precision_train.append(np.round(j[4],2))\n",
    "    precision_test.append(np.round(j[5],2))"
   ]
  },
  {
   "cell_type": "code",
   "execution_count": 106,
   "id": "2d145c24",
   "metadata": {},
   "outputs": [
    {
     "data": {
      "text/html": [
       "<div>\n",
       "<style scoped>\n",
       "    .dataframe tbody tr th:only-of-type {\n",
       "        vertical-align: middle;\n",
       "    }\n",
       "\n",
       "    .dataframe tbody tr th {\n",
       "        vertical-align: top;\n",
       "    }\n",
       "\n",
       "    .dataframe thead th {\n",
       "        text-align: right;\n",
       "    }\n",
       "</style>\n",
       "<table border=\"1\" class=\"dataframe\">\n",
       "  <thead>\n",
       "    <tr style=\"text-align: right;\">\n",
       "      <th></th>\n",
       "      <th>Model</th>\n",
       "      <th>Train_Accuracy</th>\n",
       "      <th>Test_Accuracy</th>\n",
       "      <th>Train_Recall</th>\n",
       "      <th>Test_Recall</th>\n",
       "      <th>Train_Precision</th>\n",
       "      <th>Test_Precision</th>\n",
       "    </tr>\n",
       "  </thead>\n",
       "  <tbody>\n",
       "    <tr>\n",
       "      <th>0</th>\n",
       "      <td>Decision Tree with default parameters</td>\n",
       "      <td>1.00</td>\n",
       "      <td>0.91</td>\n",
       "      <td>1.00</td>\n",
       "      <td>0.75</td>\n",
       "      <td>1.00</td>\n",
       "      <td>0.78</td>\n",
       "    </tr>\n",
       "    <tr>\n",
       "      <th>1</th>\n",
       "      <td>Tuned Decision Tree</td>\n",
       "      <td>0.99</td>\n",
       "      <td>0.90</td>\n",
       "      <td>0.94</td>\n",
       "      <td>0.71</td>\n",
       "      <td>1.00</td>\n",
       "      <td>0.77</td>\n",
       "    </tr>\n",
       "    <tr>\n",
       "      <th>2</th>\n",
       "      <td>Bagging Classifier with default parameters</td>\n",
       "      <td>0.99</td>\n",
       "      <td>0.93</td>\n",
       "      <td>0.97</td>\n",
       "      <td>0.67</td>\n",
       "      <td>0.99</td>\n",
       "      <td>0.91</td>\n",
       "    </tr>\n",
       "    <tr>\n",
       "      <th>3</th>\n",
       "      <td>Tuned Bagging Classifier</td>\n",
       "      <td>1.00</td>\n",
       "      <td>0.93</td>\n",
       "      <td>1.00</td>\n",
       "      <td>0.66</td>\n",
       "      <td>1.00</td>\n",
       "      <td>0.92</td>\n",
       "    </tr>\n",
       "    <tr>\n",
       "      <th>4</th>\n",
       "      <td>Tuned Random Forest Classifier</td>\n",
       "      <td>0.87</td>\n",
       "      <td>0.85</td>\n",
       "      <td>0.29</td>\n",
       "      <td>0.24</td>\n",
       "      <td>0.99</td>\n",
       "      <td>0.88</td>\n",
       "    </tr>\n",
       "  </tbody>\n",
       "</table>\n",
       "</div>"
      ],
      "text/plain": [
       "                                        Model  Train_Accuracy  Test_Accuracy  \\\n",
       "0       Decision Tree with default parameters            1.00           0.91   \n",
       "1                         Tuned Decision Tree            0.99           0.90   \n",
       "2  Bagging Classifier with default parameters            0.99           0.93   \n",
       "3                    Tuned Bagging Classifier            1.00           0.93   \n",
       "4              Tuned Random Forest Classifier            0.87           0.85   \n",
       "\n",
       "   Train_Recall  Test_Recall  Train_Precision  Test_Precision  \n",
       "0          1.00         0.75             1.00            0.78  \n",
       "1          0.94         0.71             1.00            0.77  \n",
       "2          0.97         0.67             0.99            0.91  \n",
       "3          1.00         0.66             1.00            0.92  \n",
       "4          0.29         0.24             0.99            0.88  "
      ]
     },
     "execution_count": 106,
     "metadata": {},
     "output_type": "execute_result"
    }
   ],
   "source": [
    "comparison_frame = pd.DataFrame({'Model':['Decision Tree with default parameters','Tuned Decision Tree',\n",
    "                                        'Bagging Classifier with default parameters', 'Tuned Bagging Classifier', \n",
    "                                         'Tuned Random Forest Classifier'], \n",
    "                                          'Train_Accuracy': acc_train,'Test_Accuracy': acc_test,\n",
    "                                          'Train_Recall': recall_train,'Test_Recall': recall_test,\n",
    "                                          'Train_Precision': precision_train,'Test_Precision': precision_test}) \n",
    "comparison_frame"
   ]
  },
  {
   "cell_type": "markdown",
   "id": "5d056204",
   "metadata": {},
   "source": [
    "- The most important features seem to be Age, Monthly Income, and Duration of Pitch\n",
    "- Interestingly, the the decision tree models had the highest test recall, but were still overfitting"
   ]
  },
  {
   "cell_type": "markdown",
   "id": "9a59beb8",
   "metadata": {},
   "source": [
    "## Model Building: Boosting Models"
   ]
  },
  {
   "cell_type": "markdown",
   "id": "f67665eb",
   "metadata": {},
   "source": [
    "### Adaboost Model"
   ]
  },
  {
   "cell_type": "code",
   "execution_count": 107,
   "id": "2ed7d486",
   "metadata": {},
   "outputs": [
    {
     "data": {
      "text/plain": [
       "AdaBoostClassifier(random_state=1)"
      ]
     },
     "execution_count": 107,
     "metadata": {},
     "output_type": "execute_result"
    }
   ],
   "source": [
    "# default model\n",
    "abc = AdaBoostClassifier(random_state = 1)\n",
    "abc.fit(X_train, y_train)"
   ]
  },
  {
   "cell_type": "code",
   "execution_count": 108,
   "id": "e4fe28af",
   "metadata": {},
   "outputs": [
    {
     "name": "stdout",
     "output_type": "stream",
     "text": [
      "Accuracy on training set :  0.8487330432556949\n",
      "Accuracy on test set :  0.8382804503582395\n",
      "Recall on training set :  0.35190217391304346\n",
      "Recall on test set :  0.33152173913043476\n",
      "Precision on training set :  0.6943699731903485\n",
      "Precision on test set :  0.6354166666666666\n"
     ]
    }
   ],
   "source": [
    "# metrics scores\n",
    "abc_score = get_metrics_score(abc)"
   ]
  },
  {
   "cell_type": "code",
   "execution_count": 109,
   "id": "b3f7da08",
   "metadata": {},
   "outputs": [
    {
     "data": {
      "image/png": "[encoded data removed]",
      "text/plain": [
       "<Figure size 720x504 with 2 Axes>"
      ]
     },
     "metadata": {
      "needs_background": "light"
     },
     "output_type": "display_data"
    }
   ],
   "source": [
    "# confusion matrix\n",
    "make_confusion_matrix(abc, y_test)"
   ]
  },
  {
   "cell_type": "markdown",
   "id": "2988e79d",
   "metadata": {},
   "source": [
    "Although the Adaboost default model has low recall performance, it is not overfitting like the bagging models because the metrics scores are similar for both the training and testing sets."
   ]
  },
  {
   "cell_type": "markdown",
   "id": "cf7a9177",
   "metadata": {},
   "source": [
    "### Gradient Boosting Model"
   ]
  },
  {
   "cell_type": "code",
   "execution_count": 110,
   "id": "cf052c4f",
   "metadata": {},
   "outputs": [
    {
     "data": {
      "text/plain": [
       "GradientBoostingClassifier(random_state=1)"
      ]
     },
     "execution_count": 110,
     "metadata": {},
     "output_type": "execute_result"
    }
   ],
   "source": [
    "# fit the default model\n",
    "gbc = GradientBoostingClassifier(random_state = 1)\n",
    "gbc.fit(X_train, y_train)"
   ]
  },
  {
   "cell_type": "code",
   "execution_count": 111,
   "id": "210a6193",
   "metadata": {},
   "outputs": [
    {
     "name": "stdout",
     "output_type": "stream",
     "text": [
      "Accuracy on training set :  0.8876375735858715\n",
      "Accuracy on test set :  0.8638689866939611\n",
      "Recall on training set :  0.47690217391304346\n",
      "Recall on test set :  0.391304347826087\n",
      "Precision on training set :  0.8666666666666667\n",
      "Precision on test set :  0.7741935483870968\n"
     ]
    }
   ],
   "source": [
    "# metrics scores\n",
    "gbc_score = get_metrics_score(gbc)"
   ]
  },
  {
   "cell_type": "code",
   "execution_count": 113,
   "id": "e22c02a0",
   "metadata": {},
   "outputs": [
    {
     "data": {
      "image/png": "[encoded data removed]",
      "text/plain": [
       "<Figure size 720x504 with 2 Axes>"
      ]
     },
     "metadata": {
      "needs_background": "light"
     },
     "output_type": "display_data"
    }
   ],
   "source": [
    "# confusion matrix\n",
    "make_confusion_matrix(gbc, y_test)"
   ]
  },
  {
   "cell_type": "markdown",
   "id": "f3709f78",
   "metadata": {},
   "source": [
    "Although the recall is a little higher in this model than with the Adaboost model, this model is overfitting a little more as the difference in performance between training and testing sets has increased."
   ]
  },
  {
   "cell_type": "markdown",
   "id": "a15c5420",
   "metadata": {},
   "source": [
    "### XGBoost Model"
   ]
  },
  {
   "cell_type": "code",
   "execution_count": 114,
   "id": "83486e57",
   "metadata": {},
   "outputs": [
    {
     "data": {
      "text/plain": [
       "XGBClassifier(base_score=0.5, booster='gbtree', callbacks=None,\n",
       "              colsample_bylevel=1, colsample_bynode=1, colsample_bytree=1,\n",
       "              early_stopping_rounds=None, enable_categorical=False,\n",
       "              eval_metric='logloss', gamma=0, gpu_id=-1,\n",
       "              grow_policy='depthwise', importance_type=None,\n",
       "              interaction_constraints='', learning_rate=0.300000012,\n",
       "              max_bin=256, max_cat_to_onehot=4, max_delta_step=0, max_depth=6,\n",
       "              max_leaves=0, min_child_weight=1, missing=nan,\n",
       "              monotone_constraints='()', n_estimators=100, n_jobs=0,\n",
       "              num_parallel_tree=1, predictor='auto', random_state=1,\n",
       "              reg_alpha=0, reg_lambda=1, ...)"
      ]
     },
     "execution_count": 114,
     "metadata": {},
     "output_type": "execute_result"
    }
   ],
   "source": [
    "# fit the default model\n",
    "xgb = XGBClassifier(random_state = 1, eval_metric = 'logloss')\n",
    "xgb.fit(X_train, y_train)"
   ]
  },
  {
   "cell_type": "code",
   "execution_count": 115,
   "id": "54ec7393",
   "metadata": {},
   "outputs": [
    {
     "name": "stdout",
     "output_type": "stream",
     "text": [
      "Accuracy on training set :  0.9992321474276938\n",
      "Accuracy on test set :  0.9303991811668373\n",
      "Recall on training set :  0.9959239130434783\n",
      "Recall on test set :  0.7282608695652174\n",
      "Precision on training set :  1.0\n",
      "Precision on test set :  0.881578947368421\n"
     ]
    }
   ],
   "source": [
    "# metrics scores\n",
    "xgb_score = get_metrics_score(xgb)"
   ]
  },
  {
   "cell_type": "code",
   "execution_count": 116,
   "id": "6df1ef4b",
   "metadata": {},
   "outputs": [
    {
     "data": {
      "image/png": "[encoded data removed]",
      "text/plain": [
       "<Figure size 720x504 with 2 Axes>"
      ]
     },
     "metadata": {
      "needs_background": "light"
     },
     "output_type": "display_data"
    }
   ],
   "source": [
    "# confusion matrix\n",
    "make_confusion_matrix(xgb, y_test)"
   ]
  },
  {
   "cell_type": "markdown",
   "id": "8f0c4487",
   "metadata": {},
   "source": [
    "The XGBoost model has significantly improved performance with higher recall scores, however, it is also overfitting quite a bit, which the other boosting models did not do."
   ]
  },
  {
   "cell_type": "markdown",
   "id": "6de8040e",
   "metadata": {},
   "source": [
    "Let's now try hyperparameter tuning the boosting models to try to improve their recall scores and hopefully reduce the overfitting."
   ]
  },
  {
   "cell_type": "markdown",
   "id": "b709ffab",
   "metadata": {},
   "source": [
    "### Hyperparameter Tuning Boosting Models"
   ]
  },
  {
   "cell_type": "markdown",
   "id": "b05bc278",
   "metadata": {},
   "source": [
    "### Adaboost"
   ]
  },
  {
   "cell_type": "code",
   "execution_count": 117,
   "id": "91c57fbb",
   "metadata": {},
   "outputs": [
    {
     "data": {
      "text/plain": [
       "AdaBoostClassifier(base_estimator=DecisionTreeClassifier(max_depth=3,\n",
       "                                                         random_state=1),\n",
       "                   learning_rate=1.7000000000000002, n_estimators=90,\n",
       "                   random_state=1)"
      ]
     },
     "execution_count": 117,
     "metadata": {},
     "output_type": "execute_result"
    }
   ],
   "source": [
    "# Choose the type of classifier. \n",
    "abc_tuned = AdaBoostClassifier(random_state = 1)\n",
    "\n",
    "# Grid of parameters to choose from\n",
    "parameters = {\n",
    "    #Let's try different max_depth for base_estimator\n",
    "    \"base_estimator\":[DecisionTreeClassifier(max_depth = 1, random_state = 1),\n",
    "                      DecisionTreeClassifier(max_depth = 2, random_state = 1),\n",
    "                      DecisionTreeClassifier(max_depth = 3, random_state = 1)],\n",
    "    \"n_estimators\": np.arange(10, 110, 10),\n",
    "    \"learning_rate\": np.arange(0.1, 2, 0.1)\n",
    "}\n",
    "\n",
    "# Type of scoring used to compare parameter combinations\n",
    "acc_scorer = metrics.make_scorer(metrics.recall_score)\n",
    "\n",
    "# Run the grid search\n",
    "grid_obj = GridSearchCV(abc_tuned, parameters, scoring=acc_scorer,cv=5)\n",
    "grid_obj = grid_obj.fit(X_train, y_train)\n",
    "\n",
    "# Set the clf to the best combination of parameters\n",
    "abc_tuned = grid_obj.best_estimator_\n",
    "\n",
    "# Fit the best algorithm to the data.\n",
    "abc_tuned.fit(X_train, y_train)"
   ]
  },
  {
   "cell_type": "code",
   "execution_count": 118,
   "id": "00c3a711",
   "metadata": {},
   "outputs": [
    {
     "name": "stdout",
     "output_type": "stream",
     "text": [
      "Accuracy on training set :  0.9657025851036601\n",
      "Accuracy on test set :  0.8812691914022518\n",
      "Recall on training set :  0.8845108695652174\n",
      "Recall on test set :  0.6630434782608695\n",
      "Precision on training set :  0.93\n",
      "Precision on test set :  0.6931818181818182\n"
     ]
    }
   ],
   "source": [
    "# metrics scores\n",
    "abc_tuned_score = get_metrics_score(abc_tuned)"
   ]
  },
  {
   "cell_type": "code",
   "execution_count": 119,
   "id": "296124a2",
   "metadata": {},
   "outputs": [
    {
     "data": {
      "image/png": "[encoded data removed]",
      "text/plain": [
       "<Figure size 720x504 with 2 Axes>"
      ]
     },
     "metadata": {
      "needs_background": "light"
     },
     "output_type": "display_data"
    }
   ],
   "source": [
    "# confusion matrix\n",
    "make_confusion_matrix(abc_tuned, y_test)"
   ]
  },
  {
   "cell_type": "code",
   "execution_count": 120,
   "id": "a087018e",
   "metadata": {},
   "outputs": [
    {
     "name": "stdout",
     "output_type": "stream",
     "text": [
      "                                  Imp\n",
      "MonthlyIncome                0.316485\n",
      "DurationOfPitch              0.146595\n",
      "Age                          0.141218\n",
      "NumberOfTrips                0.055977\n",
      "NumberOfFollowups            0.045085\n",
      "Passport                     0.035738\n",
      "PitchSatisfactionScore       0.034033\n",
      "Gender_Male                  0.027437\n",
      "PreferredPropertyStar        0.024363\n",
      "CityTier                     0.021047\n",
      "MaritalStatus_Single         0.018087\n",
      "Occupation_Large Business    0.017772\n",
      "TypeofContact_Self Enquiry   0.016333\n",
      "OwnCar                       0.012395\n",
      "Designation_Executive        0.011107\n",
      "Occupation_Small Business    0.010530\n",
      "MaritalStatus_Unmarried      0.010010\n",
      "Occupation_Salaried          0.009755\n",
      "Designation_Manager          0.007580\n",
      "ProductPitched_Deluxe        0.007338\n",
      "NumberOfChildrenVisiting     0.006535\n",
      "ProductPitched_Standard      0.006236\n",
      "ProductPitched_Super Deluxe  0.005521\n",
      "NumberOfPersonVisiting       0.004820\n",
      "Designation_Senior Manager   0.003347\n",
      "ProductPitched_King          0.001926\n",
      "MaritalStatus_Married        0.001385\n",
      "Designation_VP               0.001344\n"
     ]
    }
   ],
   "source": [
    "# feature importance\n",
    "print(\n",
    "    pd.DataFrame(\n",
    "        abc_tuned.feature_importances_, columns = [\"Imp\"], index = X_train.columns\n",
    "    ).sort_values(by = \"Imp\", ascending = False)\n",
    ")"
   ]
  },
  {
   "cell_type": "markdown",
   "id": "278ee122",
   "metadata": {},
   "source": [
    "This model has much better performance when looking at recall than the default model. However it is now overfitting. I still does not perform as well as the XGBoost default model, but it overfits slightly less. The 3 most important features remain Age, Monthly Income, and Duration of Pitch."
   ]
  },
  {
   "cell_type": "markdown",
   "id": "5e4128e7",
   "metadata": {},
   "source": [
    "### Gradient Boosting"
   ]
  },
  {
   "cell_type": "code",
   "execution_count": 121,
   "id": "a6c84220",
   "metadata": {},
   "outputs": [
    {
     "data": {
      "text/plain": [
       "GradientBoostingClassifier(init=AdaBoostClassifier(random_state=1),\n",
       "                           random_state=1)"
      ]
     },
     "execution_count": 121,
     "metadata": {},
     "output_type": "execute_result"
    }
   ],
   "source": [
    "# try using the Adaboost model as the initial estimator\n",
    "gbc_init = GradientBoostingClassifier(init = AdaBoostClassifier(random_state = 1),random_state = 1)\n",
    "gbc_init.fit(X_train, y_train)"
   ]
  },
  {
   "cell_type": "code",
   "execution_count": 122,
   "id": "9f69f1ab",
   "metadata": {},
   "outputs": [
    {
     "name": "stdout",
     "output_type": "stream",
     "text": [
      "Accuracy on training set :  0.8884054261581776\n",
      "Accuracy on test set :  0.8679631525076765\n",
      "Recall on training set :  0.48641304347826086\n",
      "Recall on test set :  0.41304347826086957\n",
      "Precision on training set :  0.8605769230769231\n",
      "Precision on test set :  0.7835051546391752\n"
     ]
    }
   ],
   "source": [
    "# metrics score\n",
    "gbc_init_score = get_metrics_score(gbc_init)"
   ]
  },
  {
   "cell_type": "markdown",
   "id": "ea789b87",
   "metadata": {},
   "source": [
    "Since this model provided improved results from the default model, we will start with this as the base model and try hyperparameter tuning."
   ]
  },
  {
   "cell_type": "code",
   "execution_count": 123,
   "id": "cd3121c9",
   "metadata": {},
   "outputs": [
    {
     "data": {
      "text/plain": [
       "GradientBoostingClassifier(init=AdaBoostClassifier(random_state=1),\n",
       "                           max_features=0.8, n_estimators=250, random_state=1,\n",
       "                           subsample=0.9)"
      ]
     },
     "execution_count": 123,
     "metadata": {},
     "output_type": "execute_result"
    }
   ],
   "source": [
    "# Choose the type of classifier. \n",
    "gbc_tuned = GradientBoostingClassifier(init = AdaBoostClassifier(random_state = 1), random_state = 1)\n",
    "\n",
    "# Grid of parameters to choose from\n",
    "parameters = {\n",
    "    \"n_estimators\": [100, 150, 200, 250],\n",
    "    \"subsample\":[0.8, 0.9, 1],\n",
    "    \"max_features\":[0.7, 0.8, 0.9, 1]\n",
    "}\n",
    "\n",
    "# Type of scoring used to compare parameter combinations\n",
    "acc_scorer = metrics.make_scorer(metrics.recall_score)\n",
    "\n",
    "# Run the grid search\n",
    "grid_obj = GridSearchCV(gbc_tuned, parameters, scoring=acc_scorer,cv=5)\n",
    "grid_obj = grid_obj.fit(X_train, y_train)\n",
    "\n",
    "# Set the clf to the best combination of parameters\n",
    "gbc_tuned = grid_obj.best_estimator_\n",
    "\n",
    "# Fit the best algorithm to the data.\n",
    "gbc_tuned.fit(X_train, y_train)"
   ]
  },
  {
   "cell_type": "code",
   "execution_count": 124,
   "id": "d50ba4fe",
   "metadata": {},
   "outputs": [
    {
     "name": "stdout",
     "output_type": "stream",
     "text": [
      "Accuracy on training set :  0.9232147427693883\n",
      "Accuracy on test set :  0.8812691914022518\n",
      "Recall on training set :  0.6317934782608695\n",
      "Recall on test set :  0.4891304347826087\n",
      "Precision on training set :  0.9412955465587044\n",
      "Precision on test set :  0.8035714285714286\n"
     ]
    }
   ],
   "source": [
    "# metrics scores\n",
    "gbc_tuned_score = get_metrics_score(gbc_tuned)"
   ]
  },
  {
   "cell_type": "code",
   "execution_count": 125,
   "id": "0f4d4a5a",
   "metadata": {},
   "outputs": [
    {
     "data": {
      "image/png": "[encoded data removed]",
      "text/plain": [
       "<Figure size 720x504 with 2 Axes>"
      ]
     },
     "metadata": {
      "needs_background": "light"
     },
     "output_type": "display_data"
    }
   ],
   "source": [
    "# confusion matrix\n",
    "make_confusion_matrix(gbc_tuned, y_test)"
   ]
  },
  {
   "cell_type": "code",
   "execution_count": 126,
   "id": "d13fb389",
   "metadata": {},
   "outputs": [
    {
     "name": "stdout",
     "output_type": "stream",
     "text": [
      "                                  Imp\n",
      "MonthlyIncome                0.172592\n",
      "Passport                     0.147701\n",
      "Age                          0.121566\n",
      "Designation_Executive        0.097681\n",
      "DurationOfPitch              0.076624\n",
      "NumberOfFollowups            0.056549\n",
      "CityTier                     0.054466\n",
      "NumberOfTrips                0.046639\n",
      "MaritalStatus_Single         0.038252\n",
      "PreferredPropertyStar        0.037588\n",
      "PitchSatisfactionScore       0.035397\n",
      "MaritalStatus_Unmarried      0.022694\n",
      "Occupation_Large Business    0.012962\n",
      "TypeofContact_Self Enquiry   0.012487\n",
      "Gender_Male                  0.012113\n",
      "Designation_Senior Manager   0.008887\n",
      "NumberOfPersonVisiting       0.006589\n",
      "Occupation_Salaried          0.006129\n",
      "MaritalStatus_Married        0.004915\n",
      "ProductPitched_Standard      0.004903\n",
      "NumberOfChildrenVisiting     0.004378\n",
      "Occupation_Small Business    0.004378\n",
      "ProductPitched_Deluxe        0.004276\n",
      "Designation_Manager          0.003368\n",
      "ProductPitched_Super Deluxe  0.002888\n",
      "OwnCar                       0.002129\n",
      "ProductPitched_King          0.001123\n",
      "Designation_VP               0.000725\n"
     ]
    }
   ],
   "source": [
    "# feature importance\n",
    "print(\n",
    "    pd.DataFrame(\n",
    "        gbc_tuned.feature_importances_, columns = [\"Imp\"], index = X_train.columns\n",
    "    ).sort_values(by = \"Imp\", ascending = False)\n",
    ")"
   ]
  },
  {
   "cell_type": "markdown",
   "id": "bc0f7f2c",
   "metadata": {},
   "source": [
    "Although the model performance increased from the default model, it is not as good as the tuned Adaboost model or the default XGBoost model. This model is also still overfitting quite a bit. Interestingly, passport status and whether or not the customer was an executive are more important features than the duration of pitch in this model."
   ]
  },
  {
   "cell_type": "markdown",
   "id": "376cf7a6",
   "metadata": {},
   "source": [
    "### XGBoost"
   ]
  },
  {
   "cell_type": "code",
   "execution_count": 127,
   "id": "01d423d6",
   "metadata": {},
   "outputs": [
    {
     "data": {
      "text/plain": [
       "XGBClassifier(base_score=0.5, booster='gbtree', callbacks=None,\n",
       "              colsample_bylevel=0.5, colsample_bynode=1, colsample_bytree=0.5,\n",
       "              early_stopping_rounds=None, enable_categorical=False,\n",
       "              eval_metric='logloss', gamma=3, gpu_id=-1,\n",
       "              grow_policy='depthwise', importance_type=None,\n",
       "              interaction_constraints='', learning_rate=0.2, max_bin=256,\n",
       "              max_cat_to_onehot=4, max_delta_step=0, max_depth=6, max_leaves=0,\n",
       "              min_child_weight=1, missing=nan, monotone_constraints='()',\n",
       "              n_estimators=90, n_jobs=0, num_parallel_tree=1, predictor='auto',\n",
       "              random_state=1, reg_alpha=0, reg_lambda=1, ...)"
      ]
     },
     "execution_count": 127,
     "metadata": {},
     "output_type": "execute_result"
    }
   ],
   "source": [
    "# Choose the type of classifier. \n",
    "xgb_tuned = XGBClassifier(random_state = 1, eval_metric = 'logloss')\n",
    "\n",
    "# Grid of parameters to choose from\n",
    "parameters = {\n",
    "    \"n_estimators\": np.arange(10, 100, 20),\n",
    "    \"scale_pos_weight\":[0, 1, 2, 5],\n",
    "    \"subsample\":[0.5, 0.7, 0.9, 1],\n",
    "    \"learning_rate\":[0.01, 0.1, 0.2, 0.05],\n",
    "    \"gamma\":[0, 1, 3],\n",
    "    \"colsample_bytree\":[0.5, 0.7, 0.9, 1],\n",
    "    \"colsample_bylevel\":[0.5, 0.7, 0.9, 1]\n",
    "}\n",
    "\n",
    "# Type of scoring used to compare parameter combinations\n",
    "acc_scorer = metrics.make_scorer(metrics.recall_score)\n",
    "\n",
    "# Run the grid search\n",
    "grid_obj = GridSearchCV(xgb_tuned, parameters, scoring = acc_scorer, cv = 5)\n",
    "grid_obj = grid_obj.fit(X_train, y_train)\n",
    "\n",
    "# Set the clf to the best combination of parameters\n",
    "xgb_tuned = grid_obj.best_estimator_\n",
    "\n",
    "# Fit the best algorithm to the data.\n",
    "xgb_tuned.fit(X_train, y_train)"
   ]
  },
  {
   "cell_type": "code",
   "execution_count": 128,
   "id": "72f70e56",
   "metadata": {},
   "outputs": [
    {
     "name": "stdout",
     "output_type": "stream",
     "text": [
      "Accuracy on training set :  0.975940619401075\n",
      "Accuracy on test set :  0.9058341862845445\n",
      "Recall on training set :  0.9972826086956522\n",
      "Recall on test set :  0.8315217391304348\n",
      "Precision on training set :  0.8886198547215496\n",
      "Precision on test set :  0.7149532710280374\n"
     ]
    }
   ],
   "source": [
    "# metrics scores\n",
    "xgb_tuned_score = get_metrics_score(xgb_tuned)"
   ]
  },
  {
   "cell_type": "code",
   "execution_count": 129,
   "id": "2f135946",
   "metadata": {},
   "outputs": [
    {
     "data": {
      "image/png": "[encoded data removed]",
      "text/plain": [
       "<Figure size 720x504 with 2 Axes>"
      ]
     },
     "metadata": {
      "needs_background": "light"
     },
     "output_type": "display_data"
    }
   ],
   "source": [
    "# confusion matrix\n",
    "make_confusion_matrix(xgb_tuned, y_test)"
   ]
  },
  {
   "cell_type": "code",
   "execution_count": 130,
   "id": "3e386665",
   "metadata": {},
   "outputs": [
    {
     "name": "stdout",
     "output_type": "stream",
     "text": [
      "                                  Imp\n",
      "Passport                     0.130389\n",
      "Designation_Executive        0.067872\n",
      "Designation_Manager          0.048974\n",
      "MaritalStatus_Single         0.042887\n",
      "MaritalStatus_Unmarried      0.042504\n",
      "CityTier                     0.041359\n",
      "NumberOfFollowups            0.036926\n",
      "ProductPitched_Standard      0.036292\n",
      "MaritalStatus_Married        0.035902\n",
      "PreferredPropertyStar        0.035815\n",
      "PitchSatisfactionScore       0.034714\n",
      "TypeofContact_Self Enquiry   0.034411\n",
      "MonthlyIncome                0.033432\n",
      "DurationOfPitch              0.030815\n",
      "ProductPitched_Deluxe        0.030620\n",
      "Occupation_Large Business    0.029201\n",
      "NumberOfTrips                0.029116\n",
      "ProductPitched_Super Deluxe  0.029002\n",
      "Gender_Male                  0.028090\n",
      "ProductPitched_King          0.026750\n",
      "Age                          0.026618\n",
      "Designation_VP               0.023253\n",
      "OwnCar                       0.023184\n",
      "Designation_Senior Manager   0.022769\n",
      "Occupation_Small Business    0.022381\n",
      "NumberOfPersonVisiting       0.019667\n",
      "Occupation_Salaried          0.018962\n",
      "NumberOfChildrenVisiting     0.018095\n"
     ]
    }
   ],
   "source": [
    "# feature importance\n",
    "print(\n",
    "    pd.DataFrame(\n",
    "        xgb_tuned.feature_importances_, columns = [\"Imp\"], index = X_train.columns\n",
    "    ).sort_values(by = \"Imp\", ascending = False)\n",
    ")"
   ]
  },
  {
   "cell_type": "markdown",
   "id": "57423993",
   "metadata": {},
   "source": [
    "This model has the highest recall, although it is still overfitting the training data. It is worth noting that the GridSearch algorithm took a substantial amount of time to run, it is a possibility that the extra performance is not worth the extra computational time. Interestingly, this model has feature importances that are different than any other model built so far with passport status, designation, and marital status as the most important features."
   ]
  },
  {
   "cell_type": "markdown",
   "id": "0eb61259",
   "metadata": {},
   "source": [
    "### Stacking Model"
   ]
  },
  {
   "cell_type": "code",
   "execution_count": 138,
   "id": "87293d76",
   "metadata": {},
   "outputs": [],
   "source": [
    "estimators = [('Decision Tree', dtree_tuned),('Random Forest', rf_estimator_tuned),\n",
    "           ('Gradient Boosting', gbc_tuned), ('Adaboost', abc_tuned)]\n",
    "final_estimator = xgb_tuned"
   ]
  },
  {
   "cell_type": "code",
   "execution_count": 139,
   "id": "05624854",
   "metadata": {},
   "outputs": [
    {
     "data": {
      "text/plain": [
       "StackingClassifier(cv=5,\n",
       "                   estimators=[('Decision Tree',\n",
       "                                DecisionTreeClassifier(class_weight={0: 0.8,\n",
       "                                                                     1: 0.2},\n",
       "                                                       min_impurity_decrease=1e-05,\n",
       "                                                       random_state=1)),\n",
       "                               ('Random Forest',\n",
       "                                RandomForestClassifier(class_weight={0: 0.8,\n",
       "                                                                     1: 0.2},\n",
       "                                                       max_features=0.6000000000000001,\n",
       "                                                       max_samples=0.6000000000000001,\n",
       "                                                       min_samples_leaf=5,\n",
       "                                                       n_estimators=150,\n",
       "                                                       random_state=1)),\n",
       "                               ('Gradient Boosting',\n",
       "                                G...\n",
       "                                                 eval_metric='logloss', gamma=3,\n",
       "                                                 gpu_id=-1,\n",
       "                                                 grow_policy='depthwise',\n",
       "                                                 importance_type=None,\n",
       "                                                 interaction_constraints='',\n",
       "                                                 learning_rate=0.2, max_bin=256,\n",
       "                                                 max_cat_to_onehot=4,\n",
       "                                                 max_delta_step=0, max_depth=6,\n",
       "                                                 max_leaves=0,\n",
       "                                                 min_child_weight=1,\n",
       "                                                 missing=nan,\n",
       "                                                 monotone_constraints='()',\n",
       "                                                 n_estimators=90, n_jobs=0,\n",
       "                                                 num_parallel_tree=1,\n",
       "                                                 predictor='auto',\n",
       "                                                 random_state=1, reg_alpha=0,\n",
       "                                                 reg_lambda=1, ...))"
      ]
     },
     "execution_count": 139,
     "metadata": {},
     "output_type": "execute_result"
    }
   ],
   "source": [
    "stacking_estimator = StackingClassifier(estimators = estimators, final_estimator = final_estimator, cv = 5)\n",
    "stacking_estimator.fit(X_train, y_train)"
   ]
  },
  {
   "cell_type": "code",
   "execution_count": 140,
   "id": "73d9c358",
   "metadata": {},
   "outputs": [
    {
     "name": "stdout",
     "output_type": "stream",
     "text": [
      "Accuracy on training set :  0.9746608651138982\n",
      "Accuracy on test set :  0.8894575230296827\n",
      "Recall on training set :  0.9891304347826086\n",
      "Recall on test set :  0.7880434782608695\n",
      "Precision on training set :  0.8888888888888888\n",
      "Precision on test set :  0.677570093457944\n"
     ]
    }
   ],
   "source": [
    "# metrics scores\n",
    "stacking_estimator_score = get_metrics_score(stacking_estimator)"
   ]
  },
  {
   "cell_type": "code",
   "execution_count": 141,
   "id": "7227cd14",
   "metadata": {},
   "outputs": [
    {
     "data": {
      "image/png": "[encoded data removed]",
      "text/plain": [
       "<Figure size 720x504 with 2 Axes>"
      ]
     },
     "metadata": {
      "needs_background": "light"
     },
     "output_type": "display_data"
    }
   ],
   "source": [
    "# confusion matrix\n",
    "make_confusion_matrix(stacking_estimator, y_test)"
   ]
  },
  {
   "cell_type": "markdown",
   "id": "bffdad00",
   "metadata": {},
   "source": [
    "This stacking model had pretty similar performance in terms of recall to the XGBoost tuned model. However, we used that model as a part of the stacking estimator and it performed slightly better on its own, so we would pick the XGBoost tuned model over this one."
   ]
  },
  {
   "cell_type": "markdown",
   "id": "0bedca61",
   "metadata": {},
   "source": [
    "### Boosting Model Comparison"
   ]
  },
  {
   "cell_type": "code",
   "execution_count": 144,
   "id": "5ed5f7dd",
   "metadata": {},
   "outputs": [],
   "source": [
    "# defining list of models\n",
    "models = [abc, abc_tuned, gbc, gbc_init, gbc_tuned, xgb, xgb_tuned, stacking_estimator]\n",
    "\n",
    "# defining empty lists to add train and test results\n",
    "acc_train = []\n",
    "acc_test = []\n",
    "recall_train = []\n",
    "recall_test = []\n",
    "precision_train = []\n",
    "precision_test = []\n",
    "\n",
    "# looping through all the models to get the accuracy, precall and precision scores\n",
    "for model in models:\n",
    "    j = get_metrics_score(model,False)\n",
    "    acc_train.append(np.round(j[0],2))\n",
    "    acc_test.append(np.round(j[1],2))\n",
    "    recall_train.append(np.round(j[2],2))\n",
    "    recall_test.append(np.round(j[3],2))\n",
    "    precision_train.append(np.round(j[4],2))\n",
    "    precision_test.append(np.round(j[5],2))"
   ]
  },
  {
   "cell_type": "code",
   "execution_count": 145,
   "id": "5461510c",
   "metadata": {},
   "outputs": [
    {
     "data": {
      "text/html": [
       "<div>\n",
       "<style scoped>\n",
       "    .dataframe tbody tr th:only-of-type {\n",
       "        vertical-align: middle;\n",
       "    }\n",
       "\n",
       "    .dataframe tbody tr th {\n",
       "        vertical-align: top;\n",
       "    }\n",
       "\n",
       "    .dataframe thead th {\n",
       "        text-align: right;\n",
       "    }\n",
       "</style>\n",
       "<table border=\"1\" class=\"dataframe\">\n",
       "  <thead>\n",
       "    <tr style=\"text-align: right;\">\n",
       "      <th></th>\n",
       "      <th>Model</th>\n",
       "      <th>Train_Accuracy</th>\n",
       "      <th>Test_Accuracy</th>\n",
       "      <th>Train_Recall</th>\n",
       "      <th>Test_Recall</th>\n",
       "      <th>Train_Precision</th>\n",
       "      <th>Test_Precision</th>\n",
       "    </tr>\n",
       "  </thead>\n",
       "  <tbody>\n",
       "    <tr>\n",
       "      <th>0</th>\n",
       "      <td>AdaBoost with default paramters</td>\n",
       "      <td>0.85</td>\n",
       "      <td>0.84</td>\n",
       "      <td>0.35</td>\n",
       "      <td>0.33</td>\n",
       "      <td>0.69</td>\n",
       "      <td>0.64</td>\n",
       "    </tr>\n",
       "    <tr>\n",
       "      <th>1</th>\n",
       "      <td>AdaBoost Tuned</td>\n",
       "      <td>0.97</td>\n",
       "      <td>0.88</td>\n",
       "      <td>0.88</td>\n",
       "      <td>0.66</td>\n",
       "      <td>0.93</td>\n",
       "      <td>0.69</td>\n",
       "    </tr>\n",
       "    <tr>\n",
       "      <th>2</th>\n",
       "      <td>Gradient Boosting with default parameters</td>\n",
       "      <td>0.89</td>\n",
       "      <td>0.86</td>\n",
       "      <td>0.48</td>\n",
       "      <td>0.39</td>\n",
       "      <td>0.87</td>\n",
       "      <td>0.77</td>\n",
       "    </tr>\n",
       "    <tr>\n",
       "      <th>3</th>\n",
       "      <td>Gradient Boosting with init=AdaBoost</td>\n",
       "      <td>0.89</td>\n",
       "      <td>0.87</td>\n",
       "      <td>0.49</td>\n",
       "      <td>0.41</td>\n",
       "      <td>0.86</td>\n",
       "      <td>0.78</td>\n",
       "    </tr>\n",
       "    <tr>\n",
       "      <th>4</th>\n",
       "      <td>Gradient Boosting Tuned</td>\n",
       "      <td>0.92</td>\n",
       "      <td>0.88</td>\n",
       "      <td>0.63</td>\n",
       "      <td>0.49</td>\n",
       "      <td>0.94</td>\n",
       "      <td>0.80</td>\n",
       "    </tr>\n",
       "    <tr>\n",
       "      <th>5</th>\n",
       "      <td>XGBoost with default parameters</td>\n",
       "      <td>1.00</td>\n",
       "      <td>0.93</td>\n",
       "      <td>1.00</td>\n",
       "      <td>0.73</td>\n",
       "      <td>1.00</td>\n",
       "      <td>0.88</td>\n",
       "    </tr>\n",
       "    <tr>\n",
       "      <th>6</th>\n",
       "      <td>XGBoost Tuned</td>\n",
       "      <td>0.98</td>\n",
       "      <td>0.91</td>\n",
       "      <td>1.00</td>\n",
       "      <td>0.83</td>\n",
       "      <td>0.89</td>\n",
       "      <td>0.71</td>\n",
       "    </tr>\n",
       "    <tr>\n",
       "      <th>7</th>\n",
       "      <td>Stacking Estimator</td>\n",
       "      <td>0.97</td>\n",
       "      <td>0.89</td>\n",
       "      <td>0.99</td>\n",
       "      <td>0.79</td>\n",
       "      <td>0.89</td>\n",
       "      <td>0.68</td>\n",
       "    </tr>\n",
       "  </tbody>\n",
       "</table>\n",
       "</div>"
      ],
      "text/plain": [
       "                                       Model  Train_Accuracy  Test_Accuracy  \\\n",
       "0            AdaBoost with default paramters            0.85           0.84   \n",
       "1                             AdaBoost Tuned            0.97           0.88   \n",
       "2  Gradient Boosting with default parameters            0.89           0.86   \n",
       "3       Gradient Boosting with init=AdaBoost            0.89           0.87   \n",
       "4                    Gradient Boosting Tuned            0.92           0.88   \n",
       "5            XGBoost with default parameters            1.00           0.93   \n",
       "6                              XGBoost Tuned            0.98           0.91   \n",
       "7                         Stacking Estimator            0.97           0.89   \n",
       "\n",
       "   Train_Recall  Test_Recall  Train_Precision  Test_Precision  \n",
       "0          0.35         0.33             0.69            0.64  \n",
       "1          0.88         0.66             0.93            0.69  \n",
       "2          0.48         0.39             0.87            0.77  \n",
       "3          0.49         0.41             0.86            0.78  \n",
       "4          0.63         0.49             0.94            0.80  \n",
       "5          1.00         0.73             1.00            0.88  \n",
       "6          1.00         0.83             0.89            0.71  \n",
       "7          0.99         0.79             0.89            0.68  "
      ]
     },
     "execution_count": 145,
     "metadata": {},
     "output_type": "execute_result"
    }
   ],
   "source": [
    "comparison_frame = pd.DataFrame({'Model':['AdaBoost with default paramters','AdaBoost Tuned', \n",
    "                                          'Gradient Boosting with default parameters','Gradient Boosting with init=AdaBoost',\n",
    "                                          'Gradient Boosting Tuned','XGBoost with default parameters','XGBoost Tuned', 'Stacking Estimator'], \n",
    "                                          'Train_Accuracy': acc_train,'Test_Accuracy': acc_test,\n",
    "                                          'Train_Recall':recall_train,'Test_Recall':recall_test,\n",
    "                                          'Train_Precision':precision_train,'Test_Precision':precision_test}) \n",
    "comparison_frame"
   ]
  },
  {
   "cell_type": "markdown",
   "id": "51168a7e",
   "metadata": {},
   "source": [
    "Overall, the boosting models seem to outperform the bagging models. All the bagging models overfit the training data by quite a lot, while some of the boosting models like Adaboost and gradient boosting reduced the overfitting to some extent. However, when tuning the models, most of the boosting algorithms created models that performed much better in terms of recall score, but started to overfit the data just as much as the bagging models. The tuned XGBoost model seems to have the best balance between performance and overfitting, but it was still overfitting in the end. The tuned XGBoost model also took considerably longer to hyperparameter tune than the others. All the boosting algorithms generated models with over 80% accuracy, but the XGBoost models still outperformed the rest with over 90% accuracy. The bagging models also all had high accuracies of over 90%, but were significantly less on test data recall scores. The tuned random forest model managed to reduce overfitting, but at a great cost of accuracy as it had the lowest test recall score out of all the models. "
   ]
  },
  {
   "cell_type": "markdown",
   "id": "bf231b37",
   "metadata": {},
   "source": [
    "## Insights & Recommendations"
   ]
  },
  {
   "cell_type": "markdown",
   "id": "b496f1f6",
   "metadata": {},
   "source": [
    "- Since the Tuned XGBoost model previded the highest test recall, we can use that model's feature importance as an indicator of what factors are important in determining whether or not a customer will purchase a tourism package.\n",
    "    - According to that model, the most important features are passport status, designation, and marital status, particularly whether or not a customer is an executive or manager, or single or unmarried.\n",
    "    - Executive and manager designation customers tend to be more wealthy and have a higher standard of living making them more likely to purchase some of the higher tier packages like super deluxe and king packages, although they are the lowest designations in this dataset. They would tend to be relatively young customers and be more likely to be interested in travel packages. Single or unmarried customers are more likely to purchase the lower level packages like basic or standard, which tend to sell the most.\n",
    "    - The company can use this information to choose which customers to target with packages based on these features. If the new wellness tourism package is a more luxurious package, it could be targeted to customers who are executives or managers. The company can also try to segment their customer base by customers who travel internationally and those who only travel domestically using passport status and offer tourism packages tailored to each group.\n",
    "- It is important to note that almost all the bagging classifiers had Age, Monthly Income, and Duration of Pitch as the most important features. \n",
    "    - Age and monthly income likely go hand in hand with designations like executive and manager as older, more wealthy customers would hold those positions.\n",
    "    - Duration of pitch is an important feature as people in higher positions like executive would not have time to listen to sales pitches, and would likely reject the package if the pitch took too long.\n",
    "    - The company can use this information to take caution to keep pitches to executives and managers short in order to increase the likelihood of them purchasing the package. "
   ]
  }
 ],
 "metadata": {
  "kernelspec": {
   "display_name": "Python 3",
   "language": "python",
   "name": "python3"
  },
  "language_info": {
   "codemirror_mode": {
    "name": "ipython",
    "version": 3
   },
   "file_extension": ".py",
   "mimetype": "text/x-python",
   "name": "python",
   "nbconvert_exporter": "python",
   "pygments_lexer": "ipython3",
   "version": "3.8.8"
  }
 },
 "nbformat": 4,
 "nbformat_minor": 5
}
